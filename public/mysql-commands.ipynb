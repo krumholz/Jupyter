{
 "cells": [
  {
   "cell_type": "code",
   "execution_count": null,
   "metadata": {},
   "outputs": [],
   "source": [
    "# Example of mysql SELECT statement'reading' some data from an existing database.\n",
    "# Most of this example can be attributed to:\n",
    "# https://www.tutorialspoint.com/python/python_database_access.htm\n",
    "# In terminal pip install mysqlclient for Python3+ to get the MySQLdb module.\n",
    "# More details about the mysqlclient here: https://github.com/PyMySQL/mysqlclient-python\n",
    "# Additional work was required because the MySQL database built into MAMP requires a symlink.\n",
    "# Something like this: ln -s /Applications/MAMP/tmp/mysql/mysql.sock /tmp/mysql.sock\n",
    "# Finally, import the database module.\n",
    "import MySQLdb\n",
    "\n",
    "# Replace the values in allcaps with your specific values, this opens the database connection.\n",
    "# https://dev.mysql.com/doc/connector-python/en/connector-python-connectargs.html\n",
    "db = MySQLdb.connect(\"SERVER\",\"USERNAME\",\"PASSWORD\",\"DATABASE\")\n",
    "\n",
    "# Initiatie a cursor object.\n",
    "# https://dev.mysql.com/doc/connector-python/en/connector-python-api-mysqlcursor.html\n",
    "cursor = db.cursor()\n",
    "\n",
    "# Compose and execute your query.\n",
    "# https://dev.mysql.com/doc/connector-python/en/connector-python-api-mysqlcursor-execute.html\n",
    "cursor.execute(\"SELECT * FROM tweets\")\n",
    "\n",
    "# Request the first row of the results.\n",
    "data = cursor.fetchone()\n",
    "\n",
    "# Print that row.\n",
    "print(data)\n",
    "\n",
    "# Close the connection to the database to free up resources.\n",
    "db.close()"
   ]
  },
  {
   "cell_type": "code",
   "execution_count": null,
   "metadata": {},
   "outputs": [],
   "source": [
    "# Example of mysql CREATE TABLE statement.\n",
    "# Most of this example can be attributed to:\n",
    "# https://www.tutorialspoint.com/python/python_database_access.htm\n",
    "# In terminal pip install mysqlclient for Python3+ to get the MySQLdb module.\n",
    "# More details about the mysqlclient here: https://github.com/PyMySQL/mysqlclient-python\n",
    "# Additional work was required because the MySQL database built into MAMP requires a symlink.\n",
    "# Something like this: ln -s /Applications/MAMP/tmp/mysql/mysql.sock /tmp/mysql.sock\n",
    "# Finally, import the database module.\n",
    "import MySQLdb\n",
    "\n",
    "# Replace the values in allcaps with your specific values, this opens the database connection.\n",
    "# https://dev.mysql.com/doc/connector-python/en/connector-python-connectargs.html\n",
    "db = MySQLdb.connect(\"SERVER\",\"USERNAME\",\"PASSWORD\",\"DATABASE\")\n",
    "\n",
    "# Initiatie a cursor object.\n",
    "# https://dev.mysql.com/doc/connector-python/en/connector-python-api-mysqlcursor.html\n",
    "cursor = db.cursor()\n",
    "\n",
    "# Compose your query.\n",
    "# https://dev.mysql.com/doc/connector-python/en/connector-python-api-mysqlcursor-execute.html\n",
    "sql = \"\"\"CREATE TABLE `tweets` (\n",
    " `id` int(11) NOT NULL AUTO_INCREMENT,\n",
    " `tweet_id` varchar(64) DEFAULT NULL,\n",
    " `screen_name` varchar(50) DEFAULT NULL,\n",
    " `created_at` timestamp NULL DEFAULT NULL,\n",
    " `text` varchar(280),\n",
    " PRIMARY KEY (`id`)\n",
    ") ENGINE=InnoDB AUTO_INCREMENT=56 DEFAULT CHARSET=utf8;\"\"\"\n",
    "\n",
    "# Execute your query.\n",
    "# https://dev.mysql.com/doc/connector-python/en/connector-python-api-mysqlcursor-execute.html\n",
    "cursor.execute(sql)\n",
    "\n",
    "# Close the connection to the database to free up resources.\n",
    "db.close()"
   ]
  }
 ],
 "metadata": {
  "kernelspec": {
   "display_name": "Python 3",
   "language": "python",
   "name": "python3"
  },
  "language_info": {
   "codemirror_mode": {
    "name": "ipython",
    "version": 3
   },
   "file_extension": ".py",
   "mimetype": "text/x-python",
   "name": "python",
   "nbconvert_exporter": "python",
   "pygments_lexer": "ipython3",
   "version": "3.6.5"
  }
 },
 "nbformat": 4,
 "nbformat_minor": 2
}
