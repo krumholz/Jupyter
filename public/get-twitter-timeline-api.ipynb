{
 "cells": [
  {
   "cell_type": "code",
   "execution_count": null,
   "metadata": {},
   "outputs": [],
   "source": [
    "# example learned from https://www.alexkras.com/how-to-get-user-feed-with-twitter-api-and-python/\n",
    "# pip install python-twitter, then import the twitter module\n",
    "import twitter\n",
    "\n",
    "# import pretty-print module to make the json output look nice\n",
    "import pprint\n",
    "\n",
    "# login to apps.twitter.com and create a new app. Retrieve the key/secret pairs\n",
    "api = twitter.Api(\n",
    "    consumer_key='CONSUMER KEY',\n",
    "    consumer_secret='CONSUMER SECRET',\n",
    "    access_token_key='ACCESS TOKEN KEY',\n",
    "    access_token_secret='ACCESS TOKEN SECRET'\n",
    ")\n",
    "\n",
    "# make the specific api request you're interested in. This request retrieves the tweets from the app developers home timeline\n",
    "timeline = api.GetHomeTimeline()\n",
    "\n",
    "# loop over the response and pprint the json. Use the format tweet._json['created_at'] to retrieve particular values\n",
    "for tweet in timeline:\n",
    "    \n",
    "    # prints the raw json for each tweet\n",
    "    pprint.pprint(tweet._json)"
   ]
  },
  {
   "cell_type": "code",
   "execution_count": null,
   "metadata": {},
   "outputs": [],
   "source": []
  }
 ],
 "metadata": {
  "kernelspec": {
   "display_name": "Python 3",
   "language": "python",
   "name": "python3"
  },
  "language_info": {
   "codemirror_mode": {
    "name": "ipython",
    "version": 3
   },
   "file_extension": ".py",
   "mimetype": "text/x-python",
   "name": "python",
   "nbconvert_exporter": "python",
   "pygments_lexer": "ipython3",
   "version": "3.6.5"
  }
 },
 "nbformat": 4,
 "nbformat_minor": 2
}
