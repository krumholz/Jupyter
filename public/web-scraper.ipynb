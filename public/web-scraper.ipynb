{
 "cells": [
  {
   "cell_type": "code",
   "execution_count": 1,
   "metadata": {},
   "outputs": [
    {
     "name": "stdout",
     "output_type": "stream",
     "text": [
      "1 Republicans And Democrats Should Be Worried About 2020\n",
      "2 The FBI Restored Its Missing Crime Data\n",
      "3 What Does Invoking The 25th Amendment Actually Look Like?\n",
      "4 Is Comey Helping Or Hurting #TheResistance?\n",
      "5 We Need A Better Way To Talk About ‘Sexual Misconduct’\n",
      "6 Trump Wants To Protect Police, But The Government Is Missing A Big Problem: Suicides\n",
      "7 If Justice Kennedy Retires, His Replacement Could Undermine His Legacy\n",
      "8 Democrats’ Chances Of Winning The Senate Are Looking Stronger\n",
      "9 Congress Needs To Understand Facebook Before Dealing With It\n"
     ]
    }
   ],
   "source": [
    "# import requests and beautifulsoup modules\n",
    "import requests, bs4\n",
    "\n",
    "# request the 538 politics page\n",
    "page = requests.get('https://fivethirtyeight.com/politics/')\n",
    "\n",
    "# raise an http error if the request returned an unsuccessful status code\n",
    "page.raise_for_status()\n",
    "\n",
    "# assign the html to a variable to work with\n",
    "page_html = bs4.BeautifulSoup(page.text, \"html5lib\")\n",
    "\n",
    "# retrieve all elements with the class article title\n",
    "article_titles = page_html.select('.article-title')\n",
    "\n",
    "# loop through each of the titles and make it display nice\n",
    "for count, title in enumerate(article_titles, start=1):\n",
    "    print(str(count) + ' ' + title.getText().strip())"
   ]
  },
  {
   "cell_type": "code",
   "execution_count": null,
   "metadata": {},
   "outputs": [],
   "source": []
  }
 ],
 "metadata": {
  "kernelspec": {
   "display_name": "Python 3",
   "language": "python",
   "name": "python3"
  },
  "language_info": {
   "codemirror_mode": {
    "name": "ipython",
    "version": 3
   },
   "file_extension": ".py",
   "mimetype": "text/x-python",
   "name": "python",
   "nbconvert_exporter": "python",
   "pygments_lexer": "ipython3",
   "version": "3.6.5"
  }
 },
 "nbformat": 4,
 "nbformat_minor": 2
}
