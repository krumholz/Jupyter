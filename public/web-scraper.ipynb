{
 "cells": [
  {
   "cell_type": "code",
   "execution_count": 1,
   "metadata": {},
   "outputs": [
    {
     "name": "stdout",
     "output_type": "stream",
     "text": [
      "1 Trump Wants To Protect Police, But The Government Is Missing A Big Problem: Suicides\n",
      "2 If Justice Kennedy Retires, His Replacement Could Undermine His Legacy\n",
      "3 Democrats’ Chances Of Winning The Senate Are Looking Stronger\n",
      "4 Congress Needs To Understand Facebook Before Dealing With It\n",
      "5 If Pruitt Gets Fired, Liberals And Conservatives Could Both End Up Disappointed\n",
      "6 Where Blue-Collar America Is Strongest\n",
      "7 Paul Ryan’s Retirement Makes His District — And The Whole House — More Competitive\n",
      "8 Paul Ryan Gave Up One Of The Most Powerful Jobs In Politics. It Totally Makes Sense.\n",
      "9 What Would Happen If Trump Fired Mueller? Or Rosenstein? Or Sessions?\n"
     ]
    }
   ],
   "source": [
    "import requests, bs4, pprint\n",
    "page = requests.get('https://fivethirtyeight.com/politics/')\n",
    "page.raise_for_status()\n",
    "page_html = bs4.BeautifulSoup(page.text, \"html5lib\")\n",
    "article_titles = page_html.select('.article-title')\n",
    "for count, title in enumerate(article_titles, start=1):\n",
    "    print(str(count) + ' ' + title.getText().strip())"
   ]
  },
  {
   "cell_type": "code",
   "execution_count": null,
   "metadata": {},
   "outputs": [],
   "source": []
  }
 ],
 "metadata": {
  "kernelspec": {
   "display_name": "Python 3",
   "language": "python",
   "name": "python3"
  },
  "language_info": {
   "codemirror_mode": {
    "name": "ipython",
    "version": 3
   },
   "file_extension": ".py",
   "mimetype": "text/x-python",
   "name": "python",
   "nbconvert_exporter": "python",
   "pygments_lexer": "ipython3",
   "version": "3.6.5"
  }
 },
 "nbformat": 4,
 "nbformat_minor": 2
}
