{
 "cells": [
  {
   "cell_type": "code",
   "execution_count": 1,
   "metadata": {},
   "outputs": [
    {
     "name": "stdout",
     "output_type": "stream",
     "text": [
      "1 Primary Briefing: Arkansas, Georgia, Kentucky And Texas\n",
      "2 Very Few Voters Actually Read Trump’s Tweets\n",
      "3 How Mueller’s First Year Compares To Watergate, Iran-Contra And Whitewater\n",
      "4 It’s Time For A New 2020 Democratic Primary Draft!\n",
      "5 The #Resistance Had A Very Good Night\n",
      "6 This Week’s Primary Briefing: Pennsylvania, Nebraska, Idaho And Oregon\n",
      "7 Missouri’s Claire McCaskill Has Been Savvy And Lucky — Can She Do It Again?\n"
     ]
    }
   ],
   "source": [
    "# import requests and beautifulsoup modules\n",
    "import requests, bs4\n",
    "\n",
    "# request the 538 politics page\n",
    "page = requests.get('https://fivethirtyeight.com/politics/')\n",
    "\n",
    "# raise an http error if the request returned an unsuccessful status code\n",
    "page.raise_for_status()\n",
    "\n",
    "# assign the html to a variable to work with\n",
    "page_html = bs4.BeautifulSoup(page.text, \"html5lib\")\n",
    "\n",
    "# retrieve all elements with the class article title\n",
    "article_titles = page_html.select('.article-title')\n",
    "\n",
    "# loop through each of the titles and make it display nice\n",
    "for count, title in enumerate(article_titles, start=1):\n",
    "    print(str(count) + ' ' + title.getText().strip())"
   ]
  }
 ],
 "metadata": {
  "kernelspec": {
   "display_name": "Python 3",
   "language": "python",
   "name": "python3"
  },
  "language_info": {
   "codemirror_mode": {
    "name": "ipython",
    "version": 3
   },
   "file_extension": ".py",
   "mimetype": "text/x-python",
   "name": "python",
   "nbconvert_exporter": "python",
   "pygments_lexer": "ipython3",
   "version": "3.6.5"
  }
 },
 "nbformat": 4,
 "nbformat_minor": 2
}
