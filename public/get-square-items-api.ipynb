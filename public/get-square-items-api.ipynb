{
 "cells": [
  {
   "cell_type": "code",
   "execution_count": null,
   "metadata": {},
   "outputs": [],
   "source": [
    "# Create a developer account and an initial app here: https://connect.squareup.com/apps\n",
    "# Take note of the Sandbox and Personal Access Tokens.\n",
    "# Requests documentation can be found here: http://docs.python-requests.org/en/master/\n",
    "# Import the requests module.\n",
    "import requests\n",
    "\n",
    "# Before executing this notebook do a GET of the locations endpoint:\n",
    "# https://docs.connect.squareup.com/api/connect/v2#endpoint-listlocations\n",
    "# Once you have the desired LOCATION_ID, it can be added here.\n",
    "url = 'https://connect.squareup.com/v1/{LOCATION_ID}/items'\n",
    "\n",
    "# Set the request parameters (url and headers), swapping out the PERSONAL_ACCESS_TOKEN\n",
    "r = requests.get(\n",
    "    url=url,\n",
    "    headers={'Authorization': 'Bearer {PERSONAL_ACCESS_TOKEN}',\n",
    "             'Accept': 'application/json'\n",
    "            }\n",
    ")\n",
    "\n",
    "# Assign the response to a variable then play around.\n",
    "data = r.json()S"
   ]
  }
 ],
 "metadata": {
  "kernelspec": {
   "display_name": "Python 3",
   "language": "python",
   "name": "python3"
  },
  "language_info": {
   "codemirror_mode": {
    "name": "ipython",
    "version": 3
   },
   "file_extension": ".py",
   "mimetype": "text/x-python",
   "name": "python",
   "nbconvert_exporter": "python",
   "pygments_lexer": "ipython3",
   "version": "3.6.5"
  }
 },
 "nbformat": 4,
 "nbformat_minor": 2
}
