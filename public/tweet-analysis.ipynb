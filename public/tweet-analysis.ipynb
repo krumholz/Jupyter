{
 "cells": [
  {
   "cell_type": "markdown",
   "metadata": {},
   "source": [
    "# Analysis of tweet content"
   ]
  },
  {
   "cell_type": "code",
   "execution_count": 1,
   "metadata": {},
   "outputs": [],
   "source": [
    "import pymongo\n",
    "import re"
   ]
  },
  {
   "cell_type": "code",
   "execution_count": 2,
   "metadata": {
    "scrolled": true
   },
   "outputs": [
    {
     "data": {
      "text/plain": [
       "{'_id': ObjectId('5ade259b1c398f096f003c99'),\n",
       " 'created_at': 'Mon Apr 23 18:08:19 +0000 2018',\n",
       " 'id': 988479698349899777,\n",
       " 'id_str': '988479698349899777',\n",
       " 'text': 'RT @katiezez: She gave birth TODAY??!! https://t.co/LuvGI7qXeO',\n",
       " 'truncated': False,\n",
       " 'entities': {'hashtags': [],\n",
       "  'symbols': [],\n",
       "  'user_mentions': [{'screen_name': 'katiezez',\n",
       "    'name': 'Katie Zezima',\n",
       "    'id': 17759597,\n",
       "    'id_str': '17759597',\n",
       "    'indices': [3, 12]}],\n",
       "  'urls': [{'url': 'https://t.co/LuvGI7qXeO',\n",
       "    'expanded_url': 'https://twitter.com/betsy_klein/status/988460833226227712',\n",
       "    'display_url': 'twitter.com/betsy_klein/st…',\n",
       "    'indices': [39, 62]}]},\n",
       " 'source': '<a href=\"https://about.twitter.com/products/tweetdeck\" rel=\"nofollow\">TweetDeck</a>',\n",
       " 'in_reply_to_status_id': None,\n",
       " 'in_reply_to_status_id_str': None,\n",
       " 'in_reply_to_user_id': None,\n",
       " 'in_reply_to_user_id_str': None,\n",
       " 'in_reply_to_screen_name': None,\n",
       " 'user': {'id': 30013010,\n",
       "  'id_str': '30013010',\n",
       "  'name': 'Kai Ryssdal',\n",
       "  'screen_name': 'kairyssdal',\n",
       "  'location': 'Los Angeles, CA',\n",
       "  'description': 'kryssdal@marketplace.org',\n",
       "  'url': 'https://t.co/3IrDWcjfo3',\n",
       "  'entities': {'url': {'urls': [{'url': 'https://t.co/3IrDWcjfo3',\n",
       "      'expanded_url': 'http://marketplace.org',\n",
       "      'display_url': 'marketplace.org',\n",
       "      'indices': [0, 23]}]},\n",
       "   'description': {'urls': []}},\n",
       "  'protected': False,\n",
       "  'followers_count': 148709,\n",
       "  'friends_count': 341,\n",
       "  'listed_count': 2794,\n",
       "  'created_at': 'Thu Apr 09 16:16:44 +0000 2009',\n",
       "  'favourites_count': 127,\n",
       "  'utc_offset': -25200,\n",
       "  'time_zone': 'Pacific Time (US & Canada)',\n",
       "  'geo_enabled': True,\n",
       "  'verified': True,\n",
       "  'statuses_count': 43192,\n",
       "  'lang': 'en',\n",
       "  'contributors_enabled': False,\n",
       "  'is_translator': False,\n",
       "  'is_translation_enabled': False,\n",
       "  'profile_background_color': 'C0DEED',\n",
       "  'profile_background_image_url': 'http://abs.twimg.com/images/themes/theme1/bg.png',\n",
       "  'profile_background_image_url_https': 'https://abs.twimg.com/images/themes/theme1/bg.png',\n",
       "  'profile_background_tile': False,\n",
       "  'profile_image_url': 'http://pbs.twimg.com/profile_images/636949578483273728/CeMflj1z_normal.jpg',\n",
       "  'profile_image_url_https': 'https://pbs.twimg.com/profile_images/636949578483273728/CeMflj1z_normal.jpg',\n",
       "  'profile_banner_url': 'https://pbs.twimg.com/profile_banners/30013010/1386214357',\n",
       "  'profile_link_color': '1DA1F2',\n",
       "  'profile_sidebar_border_color': 'C0DEED',\n",
       "  'profile_sidebar_fill_color': 'DDEEF6',\n",
       "  'profile_text_color': '333333',\n",
       "  'profile_use_background_image': True,\n",
       "  'has_extended_profile': False,\n",
       "  'default_profile': True,\n",
       "  'default_profile_image': False,\n",
       "  'following': True,\n",
       "  'follow_request_sent': False,\n",
       "  'notifications': False,\n",
       "  'translator_type': 'none'},\n",
       " 'geo': None,\n",
       " 'coordinates': None,\n",
       " 'place': None,\n",
       " 'contributors': None,\n",
       " 'retweeted_status': {'created_at': 'Mon Apr 23 17:34:21 +0000 2018',\n",
       "  'id': 988471150975029248,\n",
       "  'id_str': '988471150975029248',\n",
       "  'text': 'She gave birth TODAY??!! https://t.co/LuvGI7qXeO',\n",
       "  'truncated': False,\n",
       "  'entities': {'hashtags': [],\n",
       "   'symbols': [],\n",
       "   'user_mentions': [],\n",
       "   'urls': [{'url': 'https://t.co/LuvGI7qXeO',\n",
       "     'expanded_url': 'https://twitter.com/betsy_klein/status/988460833226227712',\n",
       "     'display_url': 'twitter.com/betsy_klein/st…',\n",
       "     'indices': [25, 48]}]},\n",
       "  'source': '<a href=\"http://twitter.com\" rel=\"nofollow\">Twitter Web Client</a>',\n",
       "  'in_reply_to_status_id': None,\n",
       "  'in_reply_to_status_id_str': None,\n",
       "  'in_reply_to_user_id': None,\n",
       "  'in_reply_to_user_id_str': None,\n",
       "  'in_reply_to_screen_name': None,\n",
       "  'user': {'id': 17759597,\n",
       "   'id_str': '17759597',\n",
       "   'name': 'Katie Zezima',\n",
       "   'screen_name': 'katiezez',\n",
       "   'location': 'D.C. or ✈️',\n",
       "   'description': \"@washingtonpost national correspondent 🇺🇸 Past reporting: '16 campaign, White House, New Jersey, New England. Say hi: katie.zezima@washpost.com\",\n",
       "   'url': 'https://t.co/3L9zNyCg4N',\n",
       "   'entities': {'url': {'urls': [{'url': 'https://t.co/3L9zNyCg4N',\n",
       "       'expanded_url': 'http://www.washingtonpost.com/pb/katie-zezima',\n",
       "       'display_url': 'washingtonpost.com/pb/katie-zezima',\n",
       "       'indices': [0, 23]}]},\n",
       "    'description': {'urls': []}},\n",
       "   'protected': False,\n",
       "   'followers_count': 11426,\n",
       "   'friends_count': 3780,\n",
       "   'listed_count': 598,\n",
       "   'created_at': 'Sun Nov 30 18:37:10 +0000 2008',\n",
       "   'favourites_count': 4742,\n",
       "   'utc_offset': -14400,\n",
       "   'time_zone': 'Eastern Time (US & Canada)',\n",
       "   'geo_enabled': True,\n",
       "   'verified': True,\n",
       "   'statuses_count': 21917,\n",
       "   'lang': 'en',\n",
       "   'contributors_enabled': False,\n",
       "   'is_translator': False,\n",
       "   'is_translation_enabled': False,\n",
       "   'profile_background_color': 'ACDED6',\n",
       "   'profile_background_image_url': 'http://pbs.twimg.com/profile_background_images/378800000097289537/62918751e3d34987909dde0977dec8c0.jpeg',\n",
       "   'profile_background_image_url_https': 'https://pbs.twimg.com/profile_background_images/378800000097289537/62918751e3d34987909dde0977dec8c0.jpeg',\n",
       "   'profile_background_tile': True,\n",
       "   'profile_image_url': 'http://pbs.twimg.com/profile_images/958737689473413127/Kv-h5r-y_normal.jpg',\n",
       "   'profile_image_url_https': 'https://pbs.twimg.com/profile_images/958737689473413127/Kv-h5r-y_normal.jpg',\n",
       "   'profile_banner_url': 'https://pbs.twimg.com/profile_banners/17759597/1449896363',\n",
       "   'profile_link_color': '038543',\n",
       "   'profile_sidebar_border_color': 'FFFFFF',\n",
       "   'profile_sidebar_fill_color': 'F6F6F6',\n",
       "   'profile_text_color': '333333',\n",
       "   'profile_use_background_image': True,\n",
       "   'has_extended_profile': False,\n",
       "   'default_profile': False,\n",
       "   'default_profile_image': False,\n",
       "   'following': False,\n",
       "   'follow_request_sent': False,\n",
       "   'notifications': False,\n",
       "   'translator_type': 'none'},\n",
       "  'geo': None,\n",
       "  'coordinates': None,\n",
       "  'place': None,\n",
       "  'contributors': None,\n",
       "  'is_quote_status': True,\n",
       "  'quoted_status_id': 988460833226227712,\n",
       "  'quoted_status_id_str': '988460833226227712',\n",
       "  'quoted_status': {'created_at': 'Mon Apr 23 16:53:22 +0000 2018',\n",
       "   'id': 988460833226227712,\n",
       "   'id_str': '988460833226227712',\n",
       "   'text': 'RADIANT✨ https://t.co/0H0TVpAmz2',\n",
       "   'truncated': False,\n",
       "   'entities': {'hashtags': [],\n",
       "    'symbols': [],\n",
       "    'user_mentions': [],\n",
       "    'urls': [],\n",
       "    'media': [{'id': 988460819586408449,\n",
       "      'id_str': '988460819586408449',\n",
       "      'indices': [9, 32],\n",
       "      'media_url': 'http://pbs.twimg.com/media/Dbe34NnW4AEYfeu.jpg',\n",
       "      'media_url_https': 'https://pbs.twimg.com/media/Dbe34NnW4AEYfeu.jpg',\n",
       "      'url': 'https://t.co/0H0TVpAmz2',\n",
       "      'display_url': 'pic.twitter.com/0H0TVpAmz2',\n",
       "      'expanded_url': 'https://twitter.com/betsy_klein/status/988460833226227712/photo/1',\n",
       "      'type': 'photo',\n",
       "      'sizes': {'thumb': {'w': 150, 'h': 150, 'resize': 'crop'},\n",
       "       'large': {'w': 2048, 'h': 1535, 'resize': 'fit'},\n",
       "       'medium': {'w': 1200, 'h': 899, 'resize': 'fit'},\n",
       "       'small': {'w': 680, 'h': 510, 'resize': 'fit'}}}]},\n",
       "   'extended_entities': {'media': [{'id': 988460819586408449,\n",
       "      'id_str': '988460819586408449',\n",
       "      'indices': [9, 32],\n",
       "      'media_url': 'http://pbs.twimg.com/media/Dbe34NnW4AEYfeu.jpg',\n",
       "      'media_url_https': 'https://pbs.twimg.com/media/Dbe34NnW4AEYfeu.jpg',\n",
       "      'url': 'https://t.co/0H0TVpAmz2',\n",
       "      'display_url': 'pic.twitter.com/0H0TVpAmz2',\n",
       "      'expanded_url': 'https://twitter.com/betsy_klein/status/988460833226227712/photo/1',\n",
       "      'type': 'photo',\n",
       "      'sizes': {'thumb': {'w': 150, 'h': 150, 'resize': 'crop'},\n",
       "       'large': {'w': 2048, 'h': 1535, 'resize': 'fit'},\n",
       "       'medium': {'w': 1200, 'h': 899, 'resize': 'fit'},\n",
       "       'small': {'w': 680, 'h': 510, 'resize': 'fit'}}}]},\n",
       "   'source': '<a href=\"http://twitter.com/download/iphone\" rel=\"nofollow\">Twitter for iPhone</a>',\n",
       "   'in_reply_to_status_id': None,\n",
       "   'in_reply_to_status_id_str': None,\n",
       "   'in_reply_to_user_id': None,\n",
       "   'in_reply_to_user_id_str': None,\n",
       "   'in_reply_to_screen_name': None,\n",
       "   'user': {'id': 22302678,\n",
       "    'id_str': '22302678',\n",
       "    'name': 'Betsy Klein',\n",
       "    'screen_name': 'betsy_klein',\n",
       "    'location': 'DC, or on a roadtrip',\n",
       "    'description': 'Covering the White House and the First Family with the @CNN team. 2016 campaign embed patiently waiting for caucus season.',\n",
       "    'url': 'https://t.co/BRdZ8cyrtZ',\n",
       "    'entities': {'url': {'urls': [{'url': 'https://t.co/BRdZ8cyrtZ',\n",
       "        'expanded_url': 'http://www.cnn.com/profiles/betsy-klein',\n",
       "        'display_url': 'cnn.com/profiles/betsy…',\n",
       "        'indices': [0, 23]}]},\n",
       "     'description': {'urls': []}},\n",
       "    'protected': False,\n",
       "    'followers_count': 27644,\n",
       "    'friends_count': 2562,\n",
       "    'listed_count': 867,\n",
       "    'created_at': 'Sat Feb 28 22:26:57 +0000 2009',\n",
       "    'favourites_count': 9126,\n",
       "    'utc_offset': -14400,\n",
       "    'time_zone': 'Eastern Time (US & Canada)',\n",
       "    'geo_enabled': True,\n",
       "    'verified': True,\n",
       "    'statuses_count': 24881,\n",
       "    'lang': 'en',\n",
       "    'contributors_enabled': False,\n",
       "    'is_translator': False,\n",
       "    'is_translation_enabled': False,\n",
       "    'profile_background_color': 'EBEBDD',\n",
       "    'profile_background_image_url': 'http://pbs.twimg.com/profile_background_images/489622956629188608/fiy4-ppt.jpeg',\n",
       "    'profile_background_image_url_https': 'https://pbs.twimg.com/profile_background_images/489622956629188608/fiy4-ppt.jpeg',\n",
       "    'profile_background_tile': False,\n",
       "    'profile_image_url': 'http://pbs.twimg.com/profile_images/648350042328317952/U99yTcw4_normal.jpg',\n",
       "    'profile_image_url_https': 'https://pbs.twimg.com/profile_images/648350042328317952/U99yTcw4_normal.jpg',\n",
       "    'profile_banner_url': 'https://pbs.twimg.com/profile_banners/22302678/1446445930',\n",
       "    'profile_link_color': '6A6970',\n",
       "    'profile_sidebar_border_color': 'FFFFFF',\n",
       "    'profile_sidebar_fill_color': 'DDFFCC',\n",
       "    'profile_text_color': '333333',\n",
       "    'profile_use_background_image': False,\n",
       "    'has_extended_profile': True,\n",
       "    'default_profile': False,\n",
       "    'default_profile_image': False,\n",
       "    'following': False,\n",
       "    'follow_request_sent': False,\n",
       "    'notifications': False,\n",
       "    'translator_type': 'regular'},\n",
       "   'geo': None,\n",
       "   'coordinates': None,\n",
       "   'place': None,\n",
       "   'contributors': None,\n",
       "   'is_quote_status': False,\n",
       "   'retweet_count': 1,\n",
       "   'favorite_count': 10,\n",
       "   'favorited': False,\n",
       "   'retweeted': False,\n",
       "   'possibly_sensitive': False,\n",
       "   'possibly_sensitive_appealable': False,\n",
       "   'lang': 'en'},\n",
       "  'retweet_count': 6,\n",
       "  'favorite_count': 10,\n",
       "  'favorited': False,\n",
       "  'retweeted': False,\n",
       "  'possibly_sensitive': False,\n",
       "  'possibly_sensitive_appealable': False,\n",
       "  'lang': 'en'},\n",
       " 'is_quote_status': True,\n",
       " 'quoted_status_id': 988460833226227712,\n",
       " 'quoted_status_id_str': '988460833226227712',\n",
       " 'retweet_count': 6,\n",
       " 'favorite_count': 0,\n",
       " 'favorited': False,\n",
       " 'retweeted': False,\n",
       " 'possibly_sensitive': False,\n",
       " 'possibly_sensitive_appealable': False,\n",
       " 'lang': 'en'}"
      ]
     },
     "execution_count": 2,
     "metadata": {},
     "output_type": "execute_result"
    }
   ],
   "source": [
    "# Get the tweets stored in MongoDB\n",
    "client = pymongo.MongoClient()\n",
    "entries = client['tweets']['posts'].find()\n",
    "entries[1]"
   ]
  },
  {
   "cell_type": "code",
   "execution_count": 3,
   "metadata": {},
   "outputs": [],
   "source": [
    "# Break the text content apart for better formatting.\n",
    "words = entries[1]['text'].split(' ')"
   ]
  },
  {
   "cell_type": "code",
   "execution_count": 4,
   "metadata": {},
   "outputs": [
    {
     "data": {
      "text/plain": [
       "['RT',\n",
       " '@katiezez:',\n",
       " 'She',\n",
       " 'gave',\n",
       " 'birth',\n",
       " 'TODAY??!!',\n",
       " 'https://t.co/LuvGI7qXeO']"
      ]
     },
     "execution_count": 4,
     "metadata": {},
     "output_type": "execute_result"
    }
   ],
   "source": [
    "# Display the broken down list of each 'word'.\n",
    "words"
   ]
  },
  {
   "cell_type": "code",
   "execution_count": 5,
   "metadata": {},
   "outputs": [
    {
     "data": {
      "text/plain": [
       "['https://t.co/LuvGI7qXeO']"
      ]
     },
     "execution_count": 5,
     "metadata": {},
     "output_type": "execute_result"
    }
   ],
   "source": [
    "# Find any urls in the list of words.\n",
    "# Located better regex for url pattern matching - http://www.noah.org/wiki/RegEx_Python\n",
    "def url_locator(word_list):\n",
    "    urls = []\n",
    "    for word in word_list:\n",
    "        url = re.findall('http[s]?://(?:[a-zA-Z]|[0-9]|[$-_@.&+]|[!*\\(\\),]|(?:%[0-9a-fA-F][0-9a-fA-F]))+', word)\n",
    "        if url:\n",
    "            urls.append(url[0])\n",
    "    return urls\n",
    "urls = url_locator(words)\n",
    "urls"
   ]
  },
  {
   "cell_type": "code",
   "execution_count": 6,
   "metadata": {},
   "outputs": [
    {
     "data": {
      "text/plain": [
       "['RT', '@katiezez:', 'She', 'gave', 'birth', 'TODAY??!!']"
      ]
     },
     "execution_count": 6,
     "metadata": {},
     "output_type": "execute_result"
    }
   ],
   "source": [
    "def remove_urls_from_word_list(word_list, url_list):\n",
    "    for url in url_list:\n",
    "        idx = word_list.index(url)\n",
    "        del word_list[idx]\n",
    "    return word_list\n",
    "\n",
    "remove_urls_from_word_list(words, urls)"
   ]
  },
  {
   "cell_type": "code",
   "execution_count": 7,
   "metadata": {},
   "outputs": [],
   "source": [
    "# def remove_extra_characters(word_list):\n",
    "def strip_extra_characters(word_list):\n",
    "    clean_list = []\n",
    "    regex = re.compile('[^a-zA-Z]|[0-9]')\n",
    "    for word in word_list:\n",
    "        clean_list.append(regex.sub('', word))\n",
    "    return clean_list\n",
    "clean_words = strip_extra_characters(words)"
   ]
  },
  {
   "cell_type": "code",
   "execution_count": 8,
   "metadata": {},
   "outputs": [
    {
     "data": {
      "text/plain": [
       "['TODAY??!!', '@katiezez:']"
      ]
     },
     "execution_count": 8,
     "metadata": {},
     "output_type": "execute_result"
    }
   ],
   "source": [
    "list(set(words) - set(clean_words))"
   ]
  }
 ],
 "metadata": {
  "kernelspec": {
   "display_name": "Python 3",
   "language": "python",
   "name": "python3"
  },
  "language_info": {
   "codemirror_mode": {
    "name": "ipython",
    "version": 3
   },
   "file_extension": ".py",
   "mimetype": "text/x-python",
   "name": "python",
   "nbconvert_exporter": "python",
   "pygments_lexer": "ipython3",
   "version": "3.6.5"
  }
 },
 "nbformat": 4,
 "nbformat_minor": 2
}
