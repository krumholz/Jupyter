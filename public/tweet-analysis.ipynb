{
 "cells": [
  {
   "cell_type": "markdown",
   "metadata": {},
   "source": [
    "# Analysis of tweet text"
   ]
  },
  {
   "cell_type": "code",
   "execution_count": 1,
   "metadata": {},
   "outputs": [],
   "source": [
    "import pymongo\n",
    "import re\n",
    "import pprint"
   ]
  },
  {
   "cell_type": "code",
   "execution_count": 2,
   "metadata": {
    "scrolled": true
   },
   "outputs": [],
   "source": [
    "# Get the tweets stored in MongoDB\n",
    "client = pymongo.MongoClient()\n",
    "tweets = client['twitter']['tweets'].find()\n",
    "latest_tweet = tweets[14]"
   ]
  },
  {
   "cell_type": "code",
   "execution_count": 3,
   "metadata": {},
   "outputs": [],
   "source": [
    "def remove_from_word_list(original_list, list_subset):\n",
    "    for each in list_subset:\n",
    "        idx = original_list.index(each)\n",
    "        del original_list[idx]\n",
    "    return original_list"
   ]
  },
  {
   "cell_type": "code",
   "execution_count": 4,
   "metadata": {},
   "outputs": [
    {
     "name": "stdout",
     "output_type": "stream",
     "text": [
      "FiveThirtyEight - Sun Apr 29 23:56:00 +0000 2018\n",
      "\"There might have been more breaches of election services providers that the public doesn’t know about. https://t.co/PlH1XGw4Nj\"\n",
      "{'hashtags': [],\n",
      " 'symbols': [],\n",
      " 'urls': [{'display_url': '53eig.ht/2HqtQcs',\n",
      "           'expanded_url': 'http://53eig.ht/2HqtQcs',\n",
      "           'indices': [103, 126],\n",
      "           'url': 'https://t.co/PlH1XGw4Nj'}],\n",
      " 'user_mentions': []}\n"
     ]
    }
   ],
   "source": [
    "def print_important_content(tweet):\n",
    "    print(tweet['user']['name'] + ' - ' + tweet['created_at'])\n",
    "    print('\"' + tweet['full_text'] + '\"')\n",
    "    pprint.pprint(tweet['entities'])\n",
    "    \n",
    "print_important_content(latest_tweet)"
   ]
  },
  {
   "cell_type": "code",
   "execution_count": 5,
   "metadata": {
    "scrolled": true
   },
   "outputs": [
    {
     "data": {
      "text/plain": [
       "{'_id': ObjectId('5ae674b81c398f21b4830aa9'),\n",
       " 'created_at': 'Sun Apr 29 23:56:00 +0000 2018',\n",
       " 'id': 990741521241534470,\n",
       " 'id_str': '990741521241534470',\n",
       " 'full_text': 'There might have been more breaches of election services providers that the public doesn’t know about. https://t.co/PlH1XGw4Nj',\n",
       " 'truncated': False,\n",
       " 'display_text_range': [0, 126],\n",
       " 'entities': {'hashtags': [],\n",
       "  'symbols': [],\n",
       "  'user_mentions': [],\n",
       "  'urls': [{'url': 'https://t.co/PlH1XGw4Nj',\n",
       "    'expanded_url': 'http://53eig.ht/2HqtQcs',\n",
       "    'display_url': '53eig.ht/2HqtQcs',\n",
       "    'indices': [103, 126]}]},\n",
       " 'source': '<a href=\"https://about.twitter.com/products/tweetdeck\" rel=\"nofollow\">TweetDeck</a>',\n",
       " 'in_reply_to_status_id': None,\n",
       " 'in_reply_to_status_id_str': None,\n",
       " 'in_reply_to_user_id': None,\n",
       " 'in_reply_to_user_id_str': None,\n",
       " 'in_reply_to_screen_name': None,\n",
       " 'user': {'id': 2303751216,\n",
       "  'id_str': '2303751216',\n",
       "  'name': 'FiveThirtyEight',\n",
       "  'screen_name': 'FiveThirtyEight',\n",
       "  'location': 'New York, NY',\n",
       "  'description': \"The home of Nate Silver's FiveThirtyEight on Twitter. Politics, Economics, Science, Life, Sports.\",\n",
       "  'url': 'https://t.co/BDdsHpm7og',\n",
       "  'entities': {'url': {'urls': [{'url': 'https://t.co/BDdsHpm7og',\n",
       "      'expanded_url': 'http://www.fivethirtyeight.com',\n",
       "      'display_url': 'fivethirtyeight.com',\n",
       "      'indices': [0, 23]}]},\n",
       "   'description': {'urls': []}},\n",
       "  'protected': False,\n",
       "  'followers_count': 957597,\n",
       "  'friends_count': 254,\n",
       "  'listed_count': 14301,\n",
       "  'created_at': 'Tue Jan 21 21:39:32 +0000 2014',\n",
       "  'favourites_count': 1938,\n",
       "  'utc_offset': -14400,\n",
       "  'time_zone': 'Eastern Time (US & Canada)',\n",
       "  'geo_enabled': True,\n",
       "  'verified': True,\n",
       "  'statuses_count': 52621,\n",
       "  'lang': 'en',\n",
       "  'contributors_enabled': False,\n",
       "  'is_translator': False,\n",
       "  'is_translation_enabled': False,\n",
       "  'profile_background_color': '131516',\n",
       "  'profile_background_image_url': 'http://abs.twimg.com/images/themes/theme14/bg.gif',\n",
       "  'profile_background_image_url_https': 'https://abs.twimg.com/images/themes/theme14/bg.gif',\n",
       "  'profile_background_tile': True,\n",
       "  'profile_image_url': 'http://pbs.twimg.com/profile_images/875426588061573121/lpQG3W6i_normal.jpg',\n",
       "  'profile_image_url_https': 'https://pbs.twimg.com/profile_images/875426588061573121/lpQG3W6i_normal.jpg',\n",
       "  'profile_banner_url': 'https://pbs.twimg.com/profile_banners/2303751216/1481815429',\n",
       "  'profile_link_color': '009999',\n",
       "  'profile_sidebar_border_color': 'FFFFFF',\n",
       "  'profile_sidebar_fill_color': 'EFEFEF',\n",
       "  'profile_text_color': '333333',\n",
       "  'profile_use_background_image': True,\n",
       "  'has_extended_profile': True,\n",
       "  'default_profile': False,\n",
       "  'default_profile_image': False,\n",
       "  'following': True,\n",
       "  'follow_request_sent': False,\n",
       "  'notifications': False,\n",
       "  'translator_type': 'none'},\n",
       " 'geo': None,\n",
       " 'coordinates': None,\n",
       " 'place': None,\n",
       " 'contributors': None,\n",
       " 'is_quote_status': False,\n",
       " 'retweet_count': 196,\n",
       " 'favorite_count': 180,\n",
       " 'favorited': False,\n",
       " 'retweeted': False,\n",
       " 'possibly_sensitive': False,\n",
       " 'possibly_sensitive_appealable': False,\n",
       " 'lang': 'en'}"
      ]
     },
     "execution_count": 5,
     "metadata": {},
     "output_type": "execute_result"
    }
   ],
   "source": [
    "latest_tweet"
   ]
  },
  {
   "cell_type": "code",
   "execution_count": 6,
   "metadata": {},
   "outputs": [],
   "source": [
    "# Break the text content apart for better formatting.\n",
    "words = latest_tweet['full_text'].split(' ')"
   ]
  },
  {
   "cell_type": "code",
   "execution_count": 7,
   "metadata": {},
   "outputs": [
    {
     "data": {
      "text/plain": [
       "['There',\n",
       " 'might',\n",
       " 'have',\n",
       " 'been',\n",
       " 'more',\n",
       " 'breaches',\n",
       " 'of',\n",
       " 'election',\n",
       " 'services',\n",
       " 'providers',\n",
       " 'that',\n",
       " 'the',\n",
       " 'public',\n",
       " 'doesn’t',\n",
       " 'know',\n",
       " 'about.',\n",
       " 'https://t.co/PlH1XGw4Nj']"
      ]
     },
     "execution_count": 7,
     "metadata": {},
     "output_type": "execute_result"
    }
   ],
   "source": [
    "# Display the broken down list of each 'word'.\n",
    "words"
   ]
  },
  {
   "cell_type": "code",
   "execution_count": 8,
   "metadata": {},
   "outputs": [
    {
     "data": {
      "text/plain": [
       "['https://t.co/PlH1XGw4Nj']"
      ]
     },
     "execution_count": 8,
     "metadata": {},
     "output_type": "execute_result"
    }
   ],
   "source": [
    "# Find any urls in the list of words.\n",
    "# Located better regex for url pattern matching - http://www.noah.org/wiki/RegEx_Python\n",
    "def url_locator(word_list):\n",
    "    urls = []\n",
    "    for word in word_list:\n",
    "        url = re.findall('http[s]?://(?:[a-zA-Z]|[0-9]|[$-_@.&+]|[!*\\(\\),]|(?:%[0-9a-fA-F][0-9a-fA-F]))+', word)\n",
    "        if url:\n",
    "            urls.append(url[0])\n",
    "    return urls\n",
    "urls = url_locator(words)\n",
    "urls"
   ]
  },
  {
   "cell_type": "code",
   "execution_count": 9,
   "metadata": {},
   "outputs": [
    {
     "data": {
      "text/plain": [
       "['There',\n",
       " 'might',\n",
       " 'have',\n",
       " 'been',\n",
       " 'more',\n",
       " 'breaches',\n",
       " 'of',\n",
       " 'election',\n",
       " 'services',\n",
       " 'providers',\n",
       " 'that',\n",
       " 'the',\n",
       " 'public',\n",
       " 'doesn’t',\n",
       " 'know',\n",
       " 'about.']"
      ]
     },
     "execution_count": 9,
     "metadata": {},
     "output_type": "execute_result"
    }
   ],
   "source": [
    "words = remove_from_word_list(words, urls)\n",
    "words"
   ]
  },
  {
   "cell_type": "code",
   "execution_count": 10,
   "metadata": {},
   "outputs": [
    {
     "data": {
      "text/plain": [
       "[]"
      ]
     },
     "execution_count": 10,
     "metadata": {},
     "output_type": "execute_result"
    }
   ],
   "source": [
    "# remove @mentions\n",
    "def detect_user_handles(word_list):\n",
    "    user_handle = []\n",
    "    for word in word_list:\n",
    "        if word.startswith('@'):\n",
    "            user_handle.append(word)\n",
    "    return user_handle\n",
    "\n",
    "users = detect_user_handles(words)\n",
    "users"
   ]
  },
  {
   "cell_type": "code",
   "execution_count": 11,
   "metadata": {},
   "outputs": [
    {
     "data": {
      "text/plain": [
       "['There',\n",
       " 'might',\n",
       " 'have',\n",
       " 'been',\n",
       " 'more',\n",
       " 'breaches',\n",
       " 'of',\n",
       " 'election',\n",
       " 'services',\n",
       " 'providers',\n",
       " 'that',\n",
       " 'the',\n",
       " 'public',\n",
       " 'doesn’t',\n",
       " 'know',\n",
       " 'about.']"
      ]
     },
     "execution_count": 11,
     "metadata": {},
     "output_type": "execute_result"
    }
   ],
   "source": [
    "words = remove_from_word_list(words, users)\n",
    "words"
   ]
  },
  {
   "cell_type": "code",
   "execution_count": 12,
   "metadata": {},
   "outputs": [
    {
     "data": {
      "text/plain": [
       "['There',\n",
       " 'might',\n",
       " 'have',\n",
       " 'been',\n",
       " 'more',\n",
       " 'breaches',\n",
       " 'of',\n",
       " 'election',\n",
       " 'services',\n",
       " 'providers',\n",
       " 'that',\n",
       " 'the',\n",
       " 'public',\n",
       " 'doesnt',\n",
       " 'know',\n",
       " 'about']"
      ]
     },
     "execution_count": 12,
     "metadata": {},
     "output_type": "execute_result"
    }
   ],
   "source": [
    "# def remove_extra_characters(word_list):\n",
    "def strip_nonalphanumeric_characters(word_list):\n",
    "    clean_list = []\n",
    "    regex = re.compile('[^a-zA-Z0-9]')\n",
    "    for word in word_list:\n",
    "        clean_list.append(regex.sub('', word))\n",
    "    return clean_list\n",
    "clean_words = strip_nonalphanumeric_characters(words)\n",
    "clean_words"
   ]
  },
  {
   "cell_type": "code",
   "execution_count": 13,
   "metadata": {},
   "outputs": [
    {
     "data": {
      "text/plain": [
       "['about.', 'doesn’t']"
      ]
     },
     "execution_count": 13,
     "metadata": {},
     "output_type": "execute_result"
    }
   ],
   "source": [
    "list(set(words) - set(clean_words))"
   ]
  }
 ],
 "metadata": {
  "kernelspec": {
   "display_name": "Python 3",
   "language": "python",
   "name": "python3"
  },
  "language_info": {
   "codemirror_mode": {
    "name": "ipython",
    "version": 3
   },
   "file_extension": ".py",
   "mimetype": "text/x-python",
   "name": "python",
   "nbconvert_exporter": "python",
   "pygments_lexer": "ipython3",
   "version": "3.6.5"
  }
 },
 "nbformat": 4,
 "nbformat_minor": 2
}
