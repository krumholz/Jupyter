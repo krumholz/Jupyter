{
 "cells": [
  {
   "cell_type": "markdown",
   "metadata": {},
   "source": [
    "# Analysis of tweet content"
   ]
  },
  {
   "cell_type": "code",
   "execution_count": 1,
   "metadata": {},
   "outputs": [],
   "source": [
    "import pymongo\n",
    "import re"
   ]
  },
  {
   "cell_type": "code",
   "execution_count": 2,
   "metadata": {
    "scrolled": true
   },
   "outputs": [
    {
     "data": {
      "text/plain": [
       "{'_id': ObjectId('5ade259b1c398f096f003c98'),\n",
       " 'created_at': 'Mon Apr 23 18:16:28 +0000 2018',\n",
       " 'id': 988481749146578945,\n",
       " 'id_str': '988481749146578945',\n",
       " 'text': '3 types of bad hires CEOs make (and how to avoid them) https://t.co/UWqG04alQq https://t.co/cfqdm1kRKt',\n",
       " 'truncated': False,\n",
       " 'entities': {'hashtags': [],\n",
       "  'symbols': [],\n",
       "  'user_mentions': [],\n",
       "  'urls': [{'url': 'https://t.co/UWqG04alQq',\n",
       "    'expanded_url': 'http://f-st.co/Who4IfR',\n",
       "    'display_url': 'f-st.co/Who4IfR',\n",
       "    'indices': [55, 78]}],\n",
       "  'media': [{'id': 988481745757622273,\n",
       "    'id_str': '988481745757622273',\n",
       "    'indices': [79, 102],\n",
       "    'media_url': 'http://pbs.twimg.com/media/DbfK6RrXUAESIms.jpg',\n",
       "    'media_url_https': 'https://pbs.twimg.com/media/DbfK6RrXUAESIms.jpg',\n",
       "    'url': 'https://t.co/cfqdm1kRKt',\n",
       "    'display_url': 'pic.twitter.com/cfqdm1kRKt',\n",
       "    'expanded_url': 'https://twitter.com/FastCompany/status/988481749146578945/photo/1',\n",
       "    'type': 'photo',\n",
       "    'sizes': {'thumb': {'w': 150, 'h': 150, 'resize': 'crop'},\n",
       "     'small': {'w': 680, 'h': 381, 'resize': 'fit'},\n",
       "     'large': {'w': 707, 'h': 396, 'resize': 'fit'},\n",
       "     'medium': {'w': 707, 'h': 396, 'resize': 'fit'}}}]},\n",
       " 'extended_entities': {'media': [{'id': 988481745757622273,\n",
       "    'id_str': '988481745757622273',\n",
       "    'indices': [79, 102],\n",
       "    'media_url': 'http://pbs.twimg.com/media/DbfK6RrXUAESIms.jpg',\n",
       "    'media_url_https': 'https://pbs.twimg.com/media/DbfK6RrXUAESIms.jpg',\n",
       "    'url': 'https://t.co/cfqdm1kRKt',\n",
       "    'display_url': 'pic.twitter.com/cfqdm1kRKt',\n",
       "    'expanded_url': 'https://twitter.com/FastCompany/status/988481749146578945/photo/1',\n",
       "    'type': 'photo',\n",
       "    'sizes': {'thumb': {'w': 150, 'h': 150, 'resize': 'crop'},\n",
       "     'small': {'w': 680, 'h': 381, 'resize': 'fit'},\n",
       "     'large': {'w': 707, 'h': 396, 'resize': 'fit'},\n",
       "     'medium': {'w': 707, 'h': 396, 'resize': 'fit'}}}]},\n",
       " 'source': '<a href=\"http://www.socialflow.com\" rel=\"nofollow\">SocialFlow</a>',\n",
       " 'in_reply_to_status_id': None,\n",
       " 'in_reply_to_status_id_str': None,\n",
       " 'in_reply_to_user_id': None,\n",
       " 'in_reply_to_user_id_str': None,\n",
       " 'in_reply_to_screen_name': None,\n",
       " 'user': {'id': 2735591,\n",
       "  'id_str': '2735591',\n",
       "  'name': 'Fast Company',\n",
       "  'screen_name': 'FastCompany',\n",
       "  'location': 'New York, NY',\n",
       "  'description': 'Official Twitter feed for the Fast Company business media brand;  inspiring readers to think beyond traditional boundaries & create the future of business.',\n",
       "  'url': 'http://t.co/GBtvUq9rZp',\n",
       "  'entities': {'url': {'urls': [{'url': 'http://t.co/GBtvUq9rZp',\n",
       "      'expanded_url': 'http://www.fastcompany.com',\n",
       "      'display_url': 'fastcompany.com',\n",
       "      'indices': [0, 22]}]},\n",
       "   'description': {'urls': []}},\n",
       "  'protected': False,\n",
       "  'followers_count': 2345708,\n",
       "  'friends_count': 4078,\n",
       "  'listed_count': 44780,\n",
       "  'created_at': 'Wed Mar 28 22:39:21 +0000 2007',\n",
       "  'favourites_count': 8949,\n",
       "  'utc_offset': -14400,\n",
       "  'time_zone': 'Eastern Time (US & Canada)',\n",
       "  'geo_enabled': True,\n",
       "  'verified': True,\n",
       "  'statuses_count': 183172,\n",
       "  'lang': 'en',\n",
       "  'contributors_enabled': False,\n",
       "  'is_translator': False,\n",
       "  'is_translation_enabled': True,\n",
       "  'profile_background_color': 'FFFFFF',\n",
       "  'profile_background_image_url': 'http://pbs.twimg.com/profile_background_images/425029708/2048x1600-fc-twitter-backgrd.png',\n",
       "  'profile_background_image_url_https': 'https://pbs.twimg.com/profile_background_images/425029708/2048x1600-fc-twitter-backgrd.png',\n",
       "  'profile_background_tile': False,\n",
       "  'profile_image_url': 'http://pbs.twimg.com/profile_images/875769219400351744/ib7iIvRF_normal.jpg',\n",
       "  'profile_image_url_https': 'https://pbs.twimg.com/profile_images/875769219400351744/ib7iIvRF_normal.jpg',\n",
       "  'profile_banner_url': 'https://pbs.twimg.com/profile_banners/2735591/1523472730',\n",
       "  'profile_link_color': '9AB2B4',\n",
       "  'profile_sidebar_border_color': '5A5A5A',\n",
       "  'profile_sidebar_fill_color': 'CCCCCC',\n",
       "  'profile_text_color': '000000',\n",
       "  'profile_use_background_image': True,\n",
       "  'has_extended_profile': False,\n",
       "  'default_profile': False,\n",
       "  'default_profile_image': False,\n",
       "  'following': True,\n",
       "  'follow_request_sent': False,\n",
       "  'notifications': False,\n",
       "  'translator_type': 'none'},\n",
       " 'geo': None,\n",
       " 'coordinates': None,\n",
       " 'place': None,\n",
       " 'contributors': None,\n",
       " 'is_quote_status': False,\n",
       " 'retweet_count': 2,\n",
       " 'favorite_count': 5,\n",
       " 'favorited': False,\n",
       " 'retweeted': False,\n",
       " 'possibly_sensitive': False,\n",
       " 'possibly_sensitive_appealable': False,\n",
       " 'lang': 'en'}"
      ]
     },
     "execution_count": 2,
     "metadata": {},
     "output_type": "execute_result"
    }
   ],
   "source": [
    "# Get the tweets stored in MongoDB\n",
    "client = pymongo.MongoClient()\n",
    "entries = client['tweets']['posts'].find()\n",
    "entries[0]"
   ]
  },
  {
   "cell_type": "code",
   "execution_count": 3,
   "metadata": {},
   "outputs": [],
   "source": [
    "# Break the text content apart for better formatting.\n",
    "words = entries[0]['text'].split(' ')"
   ]
  },
  {
   "cell_type": "code",
   "execution_count": 4,
   "metadata": {},
   "outputs": [
    {
     "data": {
      "text/plain": [
       "['3',\n",
       " 'types',\n",
       " 'of',\n",
       " 'bad',\n",
       " 'hires',\n",
       " 'CEOs',\n",
       " 'make',\n",
       " '(and',\n",
       " 'how',\n",
       " 'to',\n",
       " 'avoid',\n",
       " 'them)',\n",
       " 'https://t.co/UWqG04alQq',\n",
       " 'https://t.co/cfqdm1kRKt']"
      ]
     },
     "execution_count": 4,
     "metadata": {},
     "output_type": "execute_result"
    }
   ],
   "source": [
    "# Display the broken down list of each 'word'.\n",
    "words"
   ]
  },
  {
   "cell_type": "code",
   "execution_count": 5,
   "metadata": {},
   "outputs": [],
   "source": [
    "# Find any urls in the list.\n",
    "# for word in words:\n",
    "#     url = re.findall('https?://(?:[-\\w.]|(?:%[\\da-fA-F]{2}))+', word)\n",
    "#     if url:\n",
    "#         print(url)"
   ]
  },
  {
   "cell_type": "code",
   "execution_count": 6,
   "metadata": {},
   "outputs": [
    {
     "name": "stdout",
     "output_type": "stream",
     "text": [
      "['https://t.co/UWqG04alQq', 'https://t.co/cfqdm1kRKt']\n"
     ]
    }
   ],
   "source": [
    "# Find any urls in the list of words.\n",
    "# Located better regex for url pattern matching - http://www.noah.org/wiki/RegEx_Python\n",
    "urls = []\n",
    "for word in words:\n",
    "    url = re.findall('http[s]?://(?:[a-zA-Z]|[0-9]|[$-_@.&+]|[!*\\(\\),]|(?:%[0-9a-fA-F][0-9a-fA-F]))+', word)\n",
    "    if url:\n",
    "        urls.append(url[0])\n",
    "print(urls)"
   ]
  },
  {
   "cell_type": "code",
   "execution_count": 7,
   "metadata": {},
   "outputs": [
    {
     "name": "stdout",
     "output_type": "stream",
     "text": [
      "['3', 'types', 'of', 'bad', 'hires', 'CEOs', 'make', '(and', 'how', 'to', 'avoid', 'them)']\n"
     ]
    }
   ],
   "source": [
    "# Scrub the list of words of any urls.\n",
    "for url in urls:\n",
    "    idx = words.index(url)\n",
    "    del words[idx]\n",
    "print(words)"
   ]
  }
 ],
 "metadata": {
  "kernelspec": {
   "display_name": "Python 3",
   "language": "python",
   "name": "python3"
  },
  "language_info": {
   "codemirror_mode": {
    "name": "ipython",
    "version": 3
   },
   "file_extension": ".py",
   "mimetype": "text/x-python",
   "name": "python",
   "nbconvert_exporter": "python",
   "pygments_lexer": "ipython3",
   "version": "3.6.5"
  }
 },
 "nbformat": 4,
 "nbformat_minor": 2
}
