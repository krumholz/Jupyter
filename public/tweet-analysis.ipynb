{
 "cells": [
  {
   "cell_type": "markdown",
   "metadata": {},
   "source": [
    "# Analysis of tweet text"
   ]
  },
  {
   "cell_type": "code",
   "execution_count": 1,
   "metadata": {},
   "outputs": [],
   "source": [
    "import pymongo\n",
    "import re\n",
    "import pprint\n",
    "import logging"
   ]
  },
  {
   "cell_type": "code",
   "execution_count": 2,
   "metadata": {},
   "outputs": [
    {
     "name": "stderr",
     "output_type": "stream",
     "text": [
      "2018-05-08 22:04:23,682 - DEBUG - Start of program\n"
     ]
    }
   ],
   "source": [
    "# Logging functionality\n",
    "logging.basicConfig(level=logging.DEBUG, format='%(asctime)s - %(levelname)s - %(message)s')\n",
    "logging.debug('Start of program')"
   ]
  },
  {
   "cell_type": "code",
   "execution_count": 3,
   "metadata": {
    "scrolled": true
   },
   "outputs": [],
   "source": [
    "# Get the tweets stored in MongoDB\n",
    "client = pymongo.MongoClient()\n",
    "tweets = client['twitter']['tweets'].find()\n",
    "latest_tweet = tweets[22]"
   ]
  },
  {
   "cell_type": "code",
   "execution_count": 4,
   "metadata": {},
   "outputs": [],
   "source": [
    "def remove_from_word_list(original_list, list_subset):\n",
    "    for each in list_subset:\n",
    "        idx = original_list.index(each)\n",
    "        del original_list[idx]\n",
    "    return original_list"
   ]
  },
  {
   "cell_type": "code",
   "execution_count": 5,
   "metadata": {},
   "outputs": [
    {
     "name": "stdout",
     "output_type": "stream",
     "text": [
      "By Alex Tabarrok on Mon Apr 30 18:49:54 +0000 2018\n",
      "\n",
      "\"RT @JustinSandefur: Super useful. Wonky econometrics post, but huge implications for lots of stuff you (think you) know about the effect of…\"\n",
      "\n",
      "{'hashtags': [],\n",
      " 'symbols': [],\n",
      " 'urls': [],\n",
      " 'user_mentions': [{'id': 95652758,\n",
      "                    'id_str': '95652758',\n",
      "                    'indices': [3, 18],\n",
      "                    'name': 'Justin Sandefur',\n",
      "                    'screen_name': 'JustinSandefur'}]}\n"
     ]
    }
   ],
   "source": [
    "def print_important_content(tweet):\n",
    "    print('By {} on {}\\n'.format(tweet['user']['name'], tweet['created_at']))\n",
    "    print('\"{}\"\\n'.format(tweet['full_text']))\n",
    "    pprint.pprint(tweet['entities'])\n",
    "    \n",
    "print_important_content(latest_tweet)"
   ]
  },
  {
   "cell_type": "code",
   "execution_count": 6,
   "metadata": {},
   "outputs": [
    {
     "data": {
      "text/plain": [
       "[]"
      ]
     },
     "execution_count": 6,
     "metadata": {},
     "output_type": "execute_result"
    }
   ],
   "source": [
    "def hashtag(tweet):\n",
    "    hashtag_list = []\n",
    "    for tag in tweet['hashtags']:\n",
    "        hashtag_list.append('#' + tag['text'])\n",
    "    return hashtag_list\n",
    "\n",
    "hashtags = hashtag(latest_tweet['entities'])\n",
    "hashtags"
   ]
  },
  {
   "cell_type": "code",
   "execution_count": 7,
   "metadata": {
    "scrolled": true
   },
   "outputs": [
    {
     "data": {
      "text/plain": [
       "{'_id': ObjectId('5ae766611c398f0d01baa6ea'),\n",
       " 'created_at': 'Mon Apr 30 18:49:54 +0000 2018',\n",
       " 'id': 991026874959695872,\n",
       " 'id_str': '991026874959695872',\n",
       " 'full_text': 'RT @JustinSandefur: Super useful. Wonky econometrics post, but huge implications for lots of stuff you (think you) know about the effect of…',\n",
       " 'truncated': False,\n",
       " 'display_text_range': [0, 140],\n",
       " 'entities': {'hashtags': [],\n",
       "  'symbols': [],\n",
       "  'user_mentions': [{'screen_name': 'JustinSandefur',\n",
       "    'name': 'Justin Sandefur',\n",
       "    'id': 95652758,\n",
       "    'id_str': '95652758',\n",
       "    'indices': [3, 18]}],\n",
       "  'urls': []},\n",
       " 'source': '<a href=\"http://twitter.com/download/android\" rel=\"nofollow\">Twitter for Android</a>',\n",
       " 'in_reply_to_status_id': None,\n",
       " 'in_reply_to_status_id_str': None,\n",
       " 'in_reply_to_user_id': None,\n",
       " 'in_reply_to_user_id_str': None,\n",
       " 'in_reply_to_screen_name': None,\n",
       " 'user': {'id': 287309941,\n",
       "  'id_str': '287309941',\n",
       "  'name': 'Alex Tabarrok',\n",
       "  'screen_name': 'ATabarrok',\n",
       "  'location': '',\n",
       "  'description': '',\n",
       "  'url': 'http://t.co/Bwlzj0qDso',\n",
       "  'entities': {'url': {'urls': [{'url': 'http://t.co/Bwlzj0qDso',\n",
       "      'expanded_url': 'http://marginalrevolution.com',\n",
       "      'display_url': 'marginalrevolution.com',\n",
       "      'indices': [0, 22]}]},\n",
       "   'description': {'urls': []}},\n",
       "  'protected': False,\n",
       "  'followers_count': 18152,\n",
       "  'friends_count': 322,\n",
       "  'listed_count': 632,\n",
       "  'created_at': 'Sun Apr 24 18:53:23 +0000 2011',\n",
       "  'favourites_count': 5503,\n",
       "  'utc_offset': -18000,\n",
       "  'time_zone': 'Quito',\n",
       "  'geo_enabled': False,\n",
       "  'verified': False,\n",
       "  'statuses_count': 1149,\n",
       "  'lang': 'en',\n",
       "  'contributors_enabled': False,\n",
       "  'is_translator': False,\n",
       "  'is_translation_enabled': False,\n",
       "  'profile_background_color': 'C0DEED',\n",
       "  'profile_background_image_url': 'http://abs.twimg.com/images/themes/theme1/bg.png',\n",
       "  'profile_background_image_url_https': 'https://abs.twimg.com/images/themes/theme1/bg.png',\n",
       "  'profile_background_tile': False,\n",
       "  'profile_image_url': 'http://pbs.twimg.com/profile_images/572147988030427136/t0v-xeqn_normal.jpeg',\n",
       "  'profile_image_url_https': 'https://pbs.twimg.com/profile_images/572147988030427136/t0v-xeqn_normal.jpeg',\n",
       "  'profile_link_color': '1DA1F2',\n",
       "  'profile_sidebar_border_color': 'C0DEED',\n",
       "  'profile_sidebar_fill_color': 'DDEEF6',\n",
       "  'profile_text_color': '333333',\n",
       "  'profile_use_background_image': True,\n",
       "  'has_extended_profile': False,\n",
       "  'default_profile': True,\n",
       "  'default_profile_image': False,\n",
       "  'following': True,\n",
       "  'follow_request_sent': False,\n",
       "  'notifications': False,\n",
       "  'translator_type': 'none'},\n",
       " 'geo': None,\n",
       " 'coordinates': None,\n",
       " 'place': None,\n",
       " 'contributors': None,\n",
       " 'retweeted_status': {'created_at': 'Mon Apr 30 14:41:25 +0000 2018',\n",
       "  'id': 990964342446346240,\n",
       "  'id_str': '990964342446346240',\n",
       "  'full_text': \"Super useful. Wonky econometrics post, but huge implications for lots of stuff you (think you) know about the effect of immigration, the 'China Shock' and globalization, foreign aid and conflict, etc. https://t.co/Nb1S2cvDwJ\",\n",
       "  'truncated': False,\n",
       "  'display_text_range': [0, 200],\n",
       "  'entities': {'hashtags': [],\n",
       "   'symbols': [],\n",
       "   'user_mentions': [],\n",
       "   'urls': [{'url': 'https://t.co/Nb1S2cvDwJ',\n",
       "     'expanded_url': 'https://twitter.com/dmckenzie001/status/990947728606851072',\n",
       "     'display_url': 'twitter.com/dmckenzie001/s…',\n",
       "     'indices': [201, 224]}]},\n",
       "  'source': '<a href=\"https://about.twitter.com/products/tweetdeck\" rel=\"nofollow\">TweetDeck</a>',\n",
       "  'in_reply_to_status_id': None,\n",
       "  'in_reply_to_status_id_str': None,\n",
       "  'in_reply_to_user_id': None,\n",
       "  'in_reply_to_user_id_str': None,\n",
       "  'in_reply_to_screen_name': None,\n",
       "  'user': {'id': 95652758,\n",
       "   'id_str': '95652758',\n",
       "   'name': 'Justin Sandefur',\n",
       "   'screen_name': 'JustinSandefur',\n",
       "   'location': 'Washington, D.C.',\n",
       "   'description': 'Ending global poverty one tweet at a time. Senior Fellow, @CGDev',\n",
       "   'url': 'https://t.co/Lpg3fUBnea',\n",
       "   'entities': {'url': {'urls': [{'url': 'https://t.co/Lpg3fUBnea',\n",
       "       'expanded_url': 'http://www.cgdev.org/content/expert/detail/1424570',\n",
       "       'display_url': 'cgdev.org/content/expert…',\n",
       "       'indices': [0, 23]}]},\n",
       "    'description': {'urls': []}},\n",
       "   'protected': False,\n",
       "   'followers_count': 12044,\n",
       "   'friends_count': 1702,\n",
       "   'listed_count': 368,\n",
       "   'created_at': 'Wed Dec 09 14:08:48 +0000 2009',\n",
       "   'favourites_count': 6047,\n",
       "   'utc_offset': 3600,\n",
       "   'time_zone': 'London',\n",
       "   'geo_enabled': False,\n",
       "   'verified': False,\n",
       "   'statuses_count': 14596,\n",
       "   'lang': 'en',\n",
       "   'contributors_enabled': False,\n",
       "   'is_translator': False,\n",
       "   'is_translation_enabled': False,\n",
       "   'profile_background_color': '022330',\n",
       "   'profile_background_image_url': 'http://pbs.twimg.com/profile_background_images/538366788417761280/an40vWKc.jpeg',\n",
       "   'profile_background_image_url_https': 'https://pbs.twimg.com/profile_background_images/538366788417761280/an40vWKc.jpeg',\n",
       "   'profile_background_tile': False,\n",
       "   'profile_image_url': 'http://pbs.twimg.com/profile_images/761641593011044352/sLQAgNvI_normal.jpg',\n",
       "   'profile_image_url_https': 'https://pbs.twimg.com/profile_images/761641593011044352/sLQAgNvI_normal.jpg',\n",
       "   'profile_banner_url': 'https://pbs.twimg.com/profile_banners/95652758/1452613304',\n",
       "   'profile_link_color': '0084B4',\n",
       "   'profile_sidebar_border_color': 'A8C7F7',\n",
       "   'profile_sidebar_fill_color': 'C0DFEC',\n",
       "   'profile_text_color': '333333',\n",
       "   'profile_use_background_image': False,\n",
       "   'has_extended_profile': False,\n",
       "   'default_profile': False,\n",
       "   'default_profile_image': False,\n",
       "   'following': False,\n",
       "   'follow_request_sent': False,\n",
       "   'notifications': False,\n",
       "   'translator_type': 'none'},\n",
       "  'geo': None,\n",
       "  'coordinates': None,\n",
       "  'place': None,\n",
       "  'contributors': None,\n",
       "  'is_quote_status': True,\n",
       "  'quoted_status_id': 990947728606851072,\n",
       "  'quoted_status_id_str': '990947728606851072',\n",
       "  'quoted_status': {'created_at': 'Mon Apr 30 13:35:24 +0000 2018',\n",
       "   'id': 990947728606851072,\n",
       "   'id_str': '990947728606851072',\n",
       "   'full_text': 'Rethinking identification under the Bartik Shift-Share Instrument -  a summary of the work of @paulgp et al. and Jaeger et al. (2018) https://t.co/4bK4y29G8c',\n",
       "   'truncated': False,\n",
       "   'display_text_range': [0, 157],\n",
       "   'entities': {'hashtags': [],\n",
       "    'symbols': [],\n",
       "    'user_mentions': [{'screen_name': 'paulgp',\n",
       "      'name': 'Paul G-P',\n",
       "      'id': 16311780,\n",
       "      'id_str': '16311780',\n",
       "      'indices': [94, 101]}],\n",
       "    'urls': [{'url': 'https://t.co/4bK4y29G8c',\n",
       "      'expanded_url': 'http://tinyurl.com/yc5fdwnv',\n",
       "      'display_url': 'tinyurl.com/yc5fdwnv',\n",
       "      'indices': [134, 157]}]},\n",
       "   'source': '<a href=\"http://twitter.com\" rel=\"nofollow\">Twitter Web Client</a>',\n",
       "   'in_reply_to_status_id': None,\n",
       "   'in_reply_to_status_id_str': None,\n",
       "   'in_reply_to_user_id': None,\n",
       "   'in_reply_to_user_id_str': None,\n",
       "   'in_reply_to_screen_name': None,\n",
       "   'user': {'id': 427082573,\n",
       "    'id_str': '427082573',\n",
       "    'name': 'David McKenzie',\n",
       "    'screen_name': 'dmckenzie001',\n",
       "    'location': '',\n",
       "    'description': 'Development Impact blogger, World Bank researcher focusing on small businesses and migration, All Blacks fan...',\n",
       "    'url': 'https://t.co/z03udW3Fo8',\n",
       "    'entities': {'url': {'urls': [{'url': 'https://t.co/z03udW3Fo8',\n",
       "        'expanded_url': 'http://blogs.worldbank.org/impactevaluations/',\n",
       "        'display_url': 'blogs.worldbank.org/impactevaluati…',\n",
       "        'indices': [0, 23]}]},\n",
       "     'description': {'urls': []}},\n",
       "    'protected': False,\n",
       "    'followers_count': 5405,\n",
       "    'friends_count': 270,\n",
       "    'listed_count': 159,\n",
       "    'created_at': 'Sat Dec 03 02:50:15 +0000 2011',\n",
       "    'favourites_count': 498,\n",
       "    'utc_offset': -14400,\n",
       "    'time_zone': 'Eastern Time (US & Canada)',\n",
       "    'geo_enabled': False,\n",
       "    'verified': True,\n",
       "    'statuses_count': 2535,\n",
       "    'lang': 'en',\n",
       "    'contributors_enabled': False,\n",
       "    'is_translator': False,\n",
       "    'is_translation_enabled': False,\n",
       "    'profile_background_color': 'C0DEED',\n",
       "    'profile_background_image_url': 'http://abs.twimg.com/images/themes/theme1/bg.png',\n",
       "    'profile_background_image_url_https': 'https://abs.twimg.com/images/themes/theme1/bg.png',\n",
       "    'profile_background_tile': False,\n",
       "    'profile_image_url': 'http://pbs.twimg.com/profile_images/1676512090/ABfan_normal.jpg',\n",
       "    'profile_image_url_https': 'https://pbs.twimg.com/profile_images/1676512090/ABfan_normal.jpg',\n",
       "    'profile_banner_url': 'https://pbs.twimg.com/profile_banners/427082573/1374169620',\n",
       "    'profile_link_color': '1DA1F2',\n",
       "    'profile_sidebar_border_color': 'C0DEED',\n",
       "    'profile_sidebar_fill_color': 'DDEEF6',\n",
       "    'profile_text_color': '333333',\n",
       "    'profile_use_background_image': True,\n",
       "    'has_extended_profile': True,\n",
       "    'default_profile': True,\n",
       "    'default_profile_image': False,\n",
       "    'following': False,\n",
       "    'follow_request_sent': False,\n",
       "    'notifications': False,\n",
       "    'translator_type': 'none'},\n",
       "   'geo': None,\n",
       "   'coordinates': None,\n",
       "   'place': None,\n",
       "   'contributors': None,\n",
       "   'is_quote_status': False,\n",
       "   'retweet_count': 16,\n",
       "   'favorite_count': 28,\n",
       "   'favorited': False,\n",
       "   'retweeted': False,\n",
       "   'possibly_sensitive': False,\n",
       "   'possibly_sensitive_appealable': False,\n",
       "   'lang': 'en'},\n",
       "  'retweet_count': 11,\n",
       "  'favorite_count': 17,\n",
       "  'favorited': False,\n",
       "  'retweeted': False,\n",
       "  'possibly_sensitive': False,\n",
       "  'possibly_sensitive_appealable': False,\n",
       "  'lang': 'en'},\n",
       " 'is_quote_status': True,\n",
       " 'quoted_status_id': 990947728606851072,\n",
       " 'quoted_status_id_str': '990947728606851072',\n",
       " 'retweet_count': 11,\n",
       " 'favorite_count': 0,\n",
       " 'favorited': False,\n",
       " 'retweeted': False,\n",
       " 'lang': 'en'}"
      ]
     },
     "execution_count": 7,
     "metadata": {},
     "output_type": "execute_result"
    }
   ],
   "source": [
    "latest_tweet"
   ]
  },
  {
   "cell_type": "code",
   "execution_count": 8,
   "metadata": {},
   "outputs": [],
   "source": [
    "# Break the text content apart for better formatting.\n",
    "words = latest_tweet['full_text'].split(' ')"
   ]
  },
  {
   "cell_type": "code",
   "execution_count": 9,
   "metadata": {},
   "outputs": [
    {
     "data": {
      "text/plain": [
       "['RT',\n",
       " '@JustinSandefur:',\n",
       " 'Super',\n",
       " 'useful.',\n",
       " 'Wonky',\n",
       " 'econometrics',\n",
       " 'post,',\n",
       " 'but',\n",
       " 'huge',\n",
       " 'implications',\n",
       " 'for',\n",
       " 'lots',\n",
       " 'of',\n",
       " 'stuff',\n",
       " 'you',\n",
       " '(think',\n",
       " 'you)',\n",
       " 'know',\n",
       " 'about',\n",
       " 'the',\n",
       " 'effect',\n",
       " 'of…']"
      ]
     },
     "execution_count": 9,
     "metadata": {},
     "output_type": "execute_result"
    }
   ],
   "source": [
    "# Display the broken down list of each 'word'.\n",
    "words"
   ]
  },
  {
   "cell_type": "code",
   "execution_count": 10,
   "metadata": {},
   "outputs": [
    {
     "data": {
      "text/plain": [
       "['RT',\n",
       " '@JustinSandefur:',\n",
       " 'Super',\n",
       " 'useful.',\n",
       " 'Wonky',\n",
       " 'econometrics',\n",
       " 'post,',\n",
       " 'but',\n",
       " 'huge',\n",
       " 'implications',\n",
       " 'for',\n",
       " 'lots',\n",
       " 'of',\n",
       " 'stuff',\n",
       " 'you',\n",
       " '(think',\n",
       " 'you)',\n",
       " 'know',\n",
       " 'about',\n",
       " 'the',\n",
       " 'effect',\n",
       " 'of…']"
      ]
     },
     "execution_count": 10,
     "metadata": {},
     "output_type": "execute_result"
    }
   ],
   "source": [
    "words = remove_from_word_list(words, hashtags)\n",
    "words"
   ]
  },
  {
   "cell_type": "code",
   "execution_count": 11,
   "metadata": {},
   "outputs": [
    {
     "data": {
      "text/plain": [
       "[]"
      ]
     },
     "execution_count": 11,
     "metadata": {},
     "output_type": "execute_result"
    }
   ],
   "source": [
    "# Find any urls in the list of words.\n",
    "# Located better regex for url pattern matching - http://www.noah.org/wiki/RegEx_Python\n",
    "def url_locator(word_list):\n",
    "    urls = []\n",
    "    for word in word_list:\n",
    "        url = re.findall('http[s]?://(?:[a-zA-Z]|[0-9]|[$-_@.&+]|[!*\\(\\),]|(?:%[0-9a-fA-F][0-9a-fA-F]))+', word)\n",
    "        if url:\n",
    "            urls.append(url[0])\n",
    "    return urls\n",
    "urls = url_locator(words)\n",
    "urls"
   ]
  },
  {
   "cell_type": "code",
   "execution_count": 12,
   "metadata": {},
   "outputs": [
    {
     "data": {
      "text/plain": [
       "['RT',\n",
       " '@JustinSandefur:',\n",
       " 'Super',\n",
       " 'useful.',\n",
       " 'Wonky',\n",
       " 'econometrics',\n",
       " 'post,',\n",
       " 'but',\n",
       " 'huge',\n",
       " 'implications',\n",
       " 'for',\n",
       " 'lots',\n",
       " 'of',\n",
       " 'stuff',\n",
       " 'you',\n",
       " '(think',\n",
       " 'you)',\n",
       " 'know',\n",
       " 'about',\n",
       " 'the',\n",
       " 'effect',\n",
       " 'of…']"
      ]
     },
     "execution_count": 12,
     "metadata": {},
     "output_type": "execute_result"
    }
   ],
   "source": [
    "words = remove_from_word_list(words, urls)\n",
    "words"
   ]
  },
  {
   "cell_type": "code",
   "execution_count": 13,
   "metadata": {},
   "outputs": [
    {
     "data": {
      "text/plain": [
       "['@JustinSandefur:']"
      ]
     },
     "execution_count": 13,
     "metadata": {},
     "output_type": "execute_result"
    }
   ],
   "source": [
    "# remove @mentions\n",
    "def detect_user_handles(word_list):\n",
    "    user_handle = []\n",
    "    for word in word_list:\n",
    "        if word.startswith('@'):\n",
    "            user_handle.append(word)\n",
    "    return user_handle\n",
    "\n",
    "users = detect_user_handles(words)\n",
    "users"
   ]
  },
  {
   "cell_type": "code",
   "execution_count": 14,
   "metadata": {},
   "outputs": [
    {
     "data": {
      "text/plain": [
       "['RT',\n",
       " 'Super',\n",
       " 'useful.',\n",
       " 'Wonky',\n",
       " 'econometrics',\n",
       " 'post,',\n",
       " 'but',\n",
       " 'huge',\n",
       " 'implications',\n",
       " 'for',\n",
       " 'lots',\n",
       " 'of',\n",
       " 'stuff',\n",
       " 'you',\n",
       " '(think',\n",
       " 'you)',\n",
       " 'know',\n",
       " 'about',\n",
       " 'the',\n",
       " 'effect',\n",
       " 'of…']"
      ]
     },
     "execution_count": 14,
     "metadata": {},
     "output_type": "execute_result"
    }
   ],
   "source": [
    "words = remove_from_word_list(words, users)\n",
    "words"
   ]
  },
  {
   "cell_type": "code",
   "execution_count": 15,
   "metadata": {},
   "outputs": [
    {
     "data": {
      "text/plain": [
       "['RT',\n",
       " 'Super',\n",
       " 'useful',\n",
       " 'Wonky',\n",
       " 'econometrics',\n",
       " 'post',\n",
       " 'but',\n",
       " 'huge',\n",
       " 'implications',\n",
       " 'for',\n",
       " 'lots',\n",
       " 'of',\n",
       " 'stuff',\n",
       " 'you',\n",
       " 'think',\n",
       " 'you',\n",
       " 'know',\n",
       " 'about',\n",
       " 'the',\n",
       " 'effect',\n",
       " 'of']"
      ]
     },
     "execution_count": 15,
     "metadata": {},
     "output_type": "execute_result"
    }
   ],
   "source": [
    "# def remove_extra_characters(word_list):\n",
    "def strip_nonalphanumeric_characters(word_list):\n",
    "    clean_list = []\n",
    "    regex = re.compile('[^a-zA-Z0-9]')\n",
    "    for word in word_list:\n",
    "        word = regex.sub('', word)\n",
    "        if word != '':\n",
    "            clean_list.append(word)\n",
    "    return clean_list\n",
    "clean_words = strip_nonalphanumeric_characters(words)\n",
    "clean_words"
   ]
  },
  {
   "cell_type": "code",
   "execution_count": 16,
   "metadata": {},
   "outputs": [
    {
     "data": {
      "text/plain": [
       "['useful.', 'post,', 'of…', 'you)', '(think']"
      ]
     },
     "execution_count": 16,
     "metadata": {},
     "output_type": "execute_result"
    }
   ],
   "source": [
    "list(set(words) - set(clean_words))"
   ]
  },
  {
   "cell_type": "code",
   "execution_count": 17,
   "metadata": {},
   "outputs": [
    {
     "name": "stderr",
     "output_type": "stream",
     "text": [
      "2018-05-08 22:04:23,803 - DEBUG - End of program\n"
     ]
    }
   ],
   "source": [
    "logging.debug('End of program')"
   ]
  }
 ],
 "metadata": {
  "kernelspec": {
   "display_name": "Python 3",
   "language": "python",
   "name": "python3"
  },
  "language_info": {
   "codemirror_mode": {
    "name": "ipython",
    "version": 3
   },
   "file_extension": ".py",
   "mimetype": "text/x-python",
   "name": "python",
   "nbconvert_exporter": "python",
   "pygments_lexer": "ipython3",
   "version": "3.6.5"
  }
 },
 "nbformat": 4,
 "nbformat_minor": 2
}
