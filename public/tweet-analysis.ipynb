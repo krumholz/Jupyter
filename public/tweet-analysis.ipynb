{
 "cells": [
  {
   "cell_type": "markdown",
   "metadata": {},
   "source": [
    "# Analysis of tweet text"
   ]
  },
  {
   "cell_type": "code",
   "execution_count": 1,
   "metadata": {},
   "outputs": [],
   "source": [
    "import pymongo\n",
    "import re\n",
    "import pprint\n",
    "import logging\n",
    "from lark import Lark\n",
    "import pandas\n",
    "import time"
   ]
  },
  {
   "cell_type": "code",
   "execution_count": 2,
   "metadata": {},
   "outputs": [
    {
     "name": "stderr",
     "output_type": "stream",
     "text": [
      "2018-05-27 16:40:48,131 - DEBUG - Start of program\n"
     ]
    }
   ],
   "source": [
    "# Logging functionality\n",
    "logging.basicConfig(level=logging.DEBUG, format='%(asctime)s - %(levelname)s - %(message)s')\n",
    "logging.debug('Start of program')"
   ]
  },
  {
   "cell_type": "code",
   "execution_count": 3,
   "metadata": {
    "scrolled": true
   },
   "outputs": [],
   "source": [
    "# Get the tweets stored in MongoDB\n",
    "client = pymongo.MongoClient()\n",
    "tweets = client['twitter']['tweets'].find()\n",
    "latest_tweet = tweets[200]"
   ]
  },
  {
   "cell_type": "code",
   "execution_count": 4,
   "metadata": {},
   "outputs": [],
   "source": [
    "def remove_from_word_list(original_list, list_subset):\n",
    "    for each in list_subset:\n",
    "        idx = original_list.index(each)\n",
    "        del original_list[idx]\n",
    "    return original_list"
   ]
  },
  {
   "cell_type": "code",
   "execution_count": 5,
   "metadata": {},
   "outputs": [
    {
     "name": "stdout",
     "output_type": "stream",
     "text": [
      "140 characters by Kai Ryssdal at 14:39:20 2018-04-30\n",
      "\n",
      "\"RT @kaylatausche: When the @WhiteHouse initially announced the exemptions for allies, it did so at 10:53pm before a midnight deadline. Woul…\"\n",
      "\n",
      "No URL\n",
      "\n",
      "No Hashtags\n",
      "\n",
      "No Symbols\n",
      "\n",
      "['@kaylatausche', '@WhiteHouse']\n",
      "\n",
      "{'hashtags': [],\n",
      " 'symbols': [],\n",
      " 'urls': [],\n",
      " 'user_mentions': [{'id': 30043148,\n",
      "                    'id_str': '30043148',\n",
      "                    'indices': [3, 16],\n",
      "                    'name': 'Kayla Tausche',\n",
      "                    'screen_name': 'kaylatausche'},\n",
      "                   {'id': 822215673812119553,\n",
      "                    'id_str': '822215673812119553',\n",
      "                    'indices': [27, 38],\n",
      "                    'name': 'The White House',\n",
      "                    'screen_name': 'WhiteHouse'}]}\n"
     ]
    }
   ],
   "source": [
    "def print_important_content(tweet):\n",
    "    ts = time.strftime('%H:%M:%S %Y-%m-%d', time.strptime(tweet['created_at'],'%a %b %d %H:%M:%S +0000 %Y'))\n",
    "    print('{} characters by {} at {}\\n'.format(len(tweet['full_text']),tweet['user']['name'], ts))\n",
    "    print('\"{}\"\\n'.format(tweet['full_text']))\n",
    "    \n",
    "    if not tweet['entities']['urls']:\n",
    "        expanded_url = 'No URL'\n",
    "    else:\n",
    "        expanded_url = []\n",
    "        for url in tweet['entities']['urls']:\n",
    "            expanded_url.append(tweet['entities']['urls'][0]['expanded_url'])\n",
    "    print(f'{expanded_url}\\n')\n",
    "    \n",
    "    if not tweet['entities']['hashtags']:\n",
    "        hashtag_list = 'No Hashtags'\n",
    "    else:\n",
    "        hashtag_list = '#{}'.format(tweet['entities']['hashtags'][0]['text'])\n",
    "    print(f'{hashtag_list}\\n')\n",
    "    \n",
    "    if not tweet['entities']['symbols']:\n",
    "        symbols = 'No Symbols'\n",
    "    else:\n",
    "        symbols = tweet['entities']['symbols']\n",
    "    print(f'{symbols}\\n')\n",
    "    \n",
    "    if not tweet['entities']['user_mentions']:\n",
    "        mentions = 'No @Mentions'\n",
    "    else:\n",
    "        mentions = []\n",
    "        users = tweet['entities']['user_mentions']\n",
    "        for user in users:\n",
    "            mentions.append('@' + user['screen_name'])\n",
    "    print(f'{mentions}\\n')\n",
    "    pprint.pprint(tweet['entities'])\n",
    "    \n",
    "print_important_content(latest_tweet)"
   ]
  },
  {
   "cell_type": "code",
   "execution_count": 6,
   "metadata": {},
   "outputs": [
    {
     "data": {
      "text/plain": [
       "[]"
      ]
     },
     "execution_count": 6,
     "metadata": {},
     "output_type": "execute_result"
    }
   ],
   "source": [
    "def hashtag(tweet):\n",
    "    hashtag_list = []\n",
    "    for tag in tweet['hashtags']:\n",
    "        hashtag_list.append('#' + tag['text'])\n",
    "    return hashtag_list\n",
    "\n",
    "hashtags = hashtag(latest_tweet['entities'])\n",
    "hashtags"
   ]
  },
  {
   "cell_type": "code",
   "execution_count": 7,
   "metadata": {
    "scrolled": true
   },
   "outputs": [
    {
     "data": {
      "text/plain": [
       "{'_id': ObjectId('5ae766611c398f0d01baa79c'),\n",
       " 'created_at': 'Mon Apr 30 14:39:20 +0000 2018',\n",
       " 'id': 990963817667416064,\n",
       " 'id_str': '990963817667416064',\n",
       " 'full_text': 'RT @kaylatausche: When the @WhiteHouse initially announced the exemptions for allies, it did so at 10:53pm before a midnight deadline. Woul…',\n",
       " 'truncated': False,\n",
       " 'display_text_range': [0, 140],\n",
       " 'entities': {'hashtags': [],\n",
       "  'symbols': [],\n",
       "  'user_mentions': [{'screen_name': 'kaylatausche',\n",
       "    'name': 'Kayla Tausche',\n",
       "    'id': 30043148,\n",
       "    'id_str': '30043148',\n",
       "    'indices': [3, 16]},\n",
       "   {'screen_name': 'WhiteHouse',\n",
       "    'name': 'The White House',\n",
       "    'id': 822215673812119553,\n",
       "    'id_str': '822215673812119553',\n",
       "    'indices': [27, 38]}],\n",
       "  'urls': []},\n",
       " 'source': '<a href=\"http://tapbots.com/tweetbot\" rel=\"nofollow\">Tweetbot for iΟS</a>',\n",
       " 'in_reply_to_status_id': None,\n",
       " 'in_reply_to_status_id_str': None,\n",
       " 'in_reply_to_user_id': None,\n",
       " 'in_reply_to_user_id_str': None,\n",
       " 'in_reply_to_screen_name': None,\n",
       " 'user': {'id': 30013010,\n",
       "  'id_str': '30013010',\n",
       "  'name': 'Kai Ryssdal',\n",
       "  'screen_name': 'kairyssdal',\n",
       "  'location': 'Los Angeles, CA',\n",
       "  'description': 'kryssdal@marketplace.org',\n",
       "  'url': 'https://t.co/3IrDWcjfo3',\n",
       "  'entities': {'url': {'urls': [{'url': 'https://t.co/3IrDWcjfo3',\n",
       "      'expanded_url': 'http://marketplace.org',\n",
       "      'display_url': 'marketplace.org',\n",
       "      'indices': [0, 23]}]},\n",
       "   'description': {'urls': []}},\n",
       "  'protected': False,\n",
       "  'followers_count': 148851,\n",
       "  'friends_count': 342,\n",
       "  'listed_count': 2796,\n",
       "  'created_at': 'Thu Apr 09 16:16:44 +0000 2009',\n",
       "  'favourites_count': 126,\n",
       "  'utc_offset': -25200,\n",
       "  'time_zone': 'Pacific Time (US & Canada)',\n",
       "  'geo_enabled': True,\n",
       "  'verified': True,\n",
       "  'statuses_count': 43271,\n",
       "  'lang': 'en',\n",
       "  'contributors_enabled': False,\n",
       "  'is_translator': False,\n",
       "  'is_translation_enabled': False,\n",
       "  'profile_background_color': 'C0DEED',\n",
       "  'profile_background_image_url': 'http://abs.twimg.com/images/themes/theme1/bg.png',\n",
       "  'profile_background_image_url_https': 'https://abs.twimg.com/images/themes/theme1/bg.png',\n",
       "  'profile_background_tile': False,\n",
       "  'profile_image_url': 'http://pbs.twimg.com/profile_images/636949578483273728/CeMflj1z_normal.jpg',\n",
       "  'profile_image_url_https': 'https://pbs.twimg.com/profile_images/636949578483273728/CeMflj1z_normal.jpg',\n",
       "  'profile_banner_url': 'https://pbs.twimg.com/profile_banners/30013010/1386214357',\n",
       "  'profile_link_color': '1DA1F2',\n",
       "  'profile_sidebar_border_color': 'C0DEED',\n",
       "  'profile_sidebar_fill_color': 'DDEEF6',\n",
       "  'profile_text_color': '333333',\n",
       "  'profile_use_background_image': True,\n",
       "  'has_extended_profile': False,\n",
       "  'default_profile': True,\n",
       "  'default_profile_image': False,\n",
       "  'following': True,\n",
       "  'follow_request_sent': False,\n",
       "  'notifications': False,\n",
       "  'translator_type': 'none'},\n",
       " 'geo': None,\n",
       " 'coordinates': None,\n",
       " 'place': None,\n",
       " 'contributors': None,\n",
       " 'retweeted_status': {'created_at': 'Mon Apr 30 14:36:14 +0000 2018',\n",
       "  'id': 990963039297003520,\n",
       "  'id_str': '990963039297003520',\n",
       "  'full_text': \"When the @WhiteHouse initially announced the exemptions for allies, it did so at 10:53pm before a midnight deadline. Wouldn't expect tonight's update to come much earlier. https://t.co/FIVIURkRKU\",\n",
       "  'truncated': False,\n",
       "  'display_text_range': [0, 171],\n",
       "  'entities': {'hashtags': [],\n",
       "   'symbols': [],\n",
       "   'user_mentions': [{'screen_name': 'WhiteHouse',\n",
       "     'name': 'The White House',\n",
       "     'id': 822215673812119553,\n",
       "     'id_str': '822215673812119553',\n",
       "     'indices': [9, 20]}],\n",
       "   'urls': [{'url': 'https://t.co/FIVIURkRKU',\n",
       "     'expanded_url': 'https://twitter.com/kaylatausche/status/990913211187826689',\n",
       "     'display_url': 'twitter.com/kaylatausche/s…',\n",
       "     'indices': [172, 195]}]},\n",
       "  'source': '<a href=\"http://twitter.com\" rel=\"nofollow\">Twitter Web Client</a>',\n",
       "  'in_reply_to_status_id': None,\n",
       "  'in_reply_to_status_id_str': None,\n",
       "  'in_reply_to_user_id': None,\n",
       "  'in_reply_to_user_id_str': None,\n",
       "  'in_reply_to_screen_name': None,\n",
       "  'user': {'id': 30043148,\n",
       "   'id_str': '30043148',\n",
       "   'name': 'Kayla Tausche',\n",
       "   'screen_name': 'kaylatausche',\n",
       "   'location': 'Washington, DC',\n",
       "   'description': 'Washington correspondent, CNBC. Window seat. Humble warrior. Tar Heel. Accepting news tips and DC recs at: kayla@cnbc.com',\n",
       "   'url': 'https://t.co/mrkllYj4ga',\n",
       "   'entities': {'url': {'urls': [{'url': 'https://t.co/mrkllYj4ga',\n",
       "       'expanded_url': 'https://www.facebook.com/kaylatausche/',\n",
       "       'display_url': 'facebook.com/kaylatausche/',\n",
       "       'indices': [0, 23]}]},\n",
       "    'description': {'urls': []}},\n",
       "   'protected': False,\n",
       "   'followers_count': 68030,\n",
       "   'friends_count': 3877,\n",
       "   'listed_count': 1399,\n",
       "   'created_at': 'Thu Apr 09 19:01:44 +0000 2009',\n",
       "   'favourites_count': 3510,\n",
       "   'utc_offset': -14400,\n",
       "   'time_zone': 'Eastern Time (US & Canada)',\n",
       "   'geo_enabled': True,\n",
       "   'verified': True,\n",
       "   'statuses_count': 16760,\n",
       "   'lang': 'en',\n",
       "   'contributors_enabled': False,\n",
       "   'is_translator': False,\n",
       "   'is_translation_enabled': False,\n",
       "   'profile_background_color': '022330',\n",
       "   'profile_background_image_url': 'http://pbs.twimg.com/profile_background_images/616641004897214464/qGBlMZwB.jpg',\n",
       "   'profile_background_image_url_https': 'https://pbs.twimg.com/profile_background_images/616641004897214464/qGBlMZwB.jpg',\n",
       "   'profile_background_tile': False,\n",
       "   'profile_image_url': 'http://pbs.twimg.com/profile_images/785556888268185600/akO2MUOJ_normal.jpg',\n",
       "   'profile_image_url_https': 'https://pbs.twimg.com/profile_images/785556888268185600/akO2MUOJ_normal.jpg',\n",
       "   'profile_banner_url': 'https://pbs.twimg.com/profile_banners/30043148/1481047220',\n",
       "   'profile_link_color': '1B95E0',\n",
       "   'profile_sidebar_border_color': 'F2F3F5',\n",
       "   'profile_sidebar_fill_color': 'C5D1D6',\n",
       "   'profile_text_color': '333333',\n",
       "   'profile_use_background_image': True,\n",
       "   'has_extended_profile': False,\n",
       "   'default_profile': False,\n",
       "   'default_profile_image': False,\n",
       "   'following': False,\n",
       "   'follow_request_sent': False,\n",
       "   'notifications': False,\n",
       "   'translator_type': 'none'},\n",
       "  'geo': None,\n",
       "  'coordinates': None,\n",
       "  'place': None,\n",
       "  'contributors': None,\n",
       "  'is_quote_status': True,\n",
       "  'quoted_status_id': 990913211187826689,\n",
       "  'quoted_status_id_str': '990913211187826689',\n",
       "  'quoted_status': {'created_at': 'Mon Apr 30 11:18:14 +0000 2018',\n",
       "   'id': 990913211187826689,\n",
       "   'id_str': '990913211187826689',\n",
       "   'full_text': 'Talking tariff exemptions on @SquawkCNBC next - what happens tonight at midnight when the exemption deadline for steel and aluminum expires?',\n",
       "   'truncated': False,\n",
       "   'display_text_range': [0, 140],\n",
       "   'entities': {'hashtags': [],\n",
       "    'symbols': [],\n",
       "    'user_mentions': [{'screen_name': 'SquawkCNBC',\n",
       "      'name': 'Squawk Box',\n",
       "      'id': 404422077,\n",
       "      'id_str': '404422077',\n",
       "      'indices': [29, 40]}],\n",
       "    'urls': []},\n",
       "   'source': '<a href=\"http://twitter.com/download/iphone\" rel=\"nofollow\">Twitter for iPhone</a>',\n",
       "   'in_reply_to_status_id': None,\n",
       "   'in_reply_to_status_id_str': None,\n",
       "   'in_reply_to_user_id': None,\n",
       "   'in_reply_to_user_id_str': None,\n",
       "   'in_reply_to_screen_name': None,\n",
       "   'user': {'id': 30043148,\n",
       "    'id_str': '30043148',\n",
       "    'name': 'Kayla Tausche',\n",
       "    'screen_name': 'kaylatausche',\n",
       "    'location': 'Washington, DC',\n",
       "    'description': 'Washington correspondent, CNBC. Window seat. Humble warrior. Tar Heel. Accepting news tips and DC recs at: kayla@cnbc.com',\n",
       "    'url': 'https://t.co/mrkllYj4ga',\n",
       "    'entities': {'url': {'urls': [{'url': 'https://t.co/mrkllYj4ga',\n",
       "        'expanded_url': 'https://www.facebook.com/kaylatausche/',\n",
       "        'display_url': 'facebook.com/kaylatausche/',\n",
       "        'indices': [0, 23]}]},\n",
       "     'description': {'urls': []}},\n",
       "    'protected': False,\n",
       "    'followers_count': 68030,\n",
       "    'friends_count': 3877,\n",
       "    'listed_count': 1399,\n",
       "    'created_at': 'Thu Apr 09 19:01:44 +0000 2009',\n",
       "    'favourites_count': 3510,\n",
       "    'utc_offset': -14400,\n",
       "    'time_zone': 'Eastern Time (US & Canada)',\n",
       "    'geo_enabled': True,\n",
       "    'verified': True,\n",
       "    'statuses_count': 16760,\n",
       "    'lang': 'en',\n",
       "    'contributors_enabled': False,\n",
       "    'is_translator': False,\n",
       "    'is_translation_enabled': False,\n",
       "    'profile_background_color': '022330',\n",
       "    'profile_background_image_url': 'http://pbs.twimg.com/profile_background_images/616641004897214464/qGBlMZwB.jpg',\n",
       "    'profile_background_image_url_https': 'https://pbs.twimg.com/profile_background_images/616641004897214464/qGBlMZwB.jpg',\n",
       "    'profile_background_tile': False,\n",
       "    'profile_image_url': 'http://pbs.twimg.com/profile_images/785556888268185600/akO2MUOJ_normal.jpg',\n",
       "    'profile_image_url_https': 'https://pbs.twimg.com/profile_images/785556888268185600/akO2MUOJ_normal.jpg',\n",
       "    'profile_banner_url': 'https://pbs.twimg.com/profile_banners/30043148/1481047220',\n",
       "    'profile_link_color': '1B95E0',\n",
       "    'profile_sidebar_border_color': 'F2F3F5',\n",
       "    'profile_sidebar_fill_color': 'C5D1D6',\n",
       "    'profile_text_color': '333333',\n",
       "    'profile_use_background_image': True,\n",
       "    'has_extended_profile': False,\n",
       "    'default_profile': False,\n",
       "    'default_profile_image': False,\n",
       "    'following': False,\n",
       "    'follow_request_sent': False,\n",
       "    'notifications': False,\n",
       "    'translator_type': 'none'},\n",
       "   'geo': None,\n",
       "   'coordinates': None,\n",
       "   'place': None,\n",
       "   'contributors': None,\n",
       "   'is_quote_status': False,\n",
       "   'retweet_count': 2,\n",
       "   'favorite_count': 13,\n",
       "   'favorited': False,\n",
       "   'retweeted': False,\n",
       "   'lang': 'en'},\n",
       "  'retweet_count': 22,\n",
       "  'favorite_count': 33,\n",
       "  'favorited': False,\n",
       "  'retweeted': False,\n",
       "  'possibly_sensitive': False,\n",
       "  'possibly_sensitive_appealable': False,\n",
       "  'lang': 'en'},\n",
       " 'is_quote_status': True,\n",
       " 'quoted_status_id': 990913211187826689,\n",
       " 'quoted_status_id_str': '990913211187826689',\n",
       " 'retweet_count': 22,\n",
       " 'favorite_count': 0,\n",
       " 'favorited': False,\n",
       " 'retweeted': False,\n",
       " 'lang': 'en'}"
      ]
     },
     "execution_count": 7,
     "metadata": {},
     "output_type": "execute_result"
    }
   ],
   "source": [
    "latest_tweet"
   ]
  },
  {
   "cell_type": "code",
   "execution_count": 8,
   "metadata": {},
   "outputs": [],
   "source": [
    "# Break the text content apart for better formatting.\n",
    "words = latest_tweet['full_text'].split(' ')"
   ]
  },
  {
   "cell_type": "code",
   "execution_count": 9,
   "metadata": {},
   "outputs": [
    {
     "data": {
      "text/plain": [
       "['RT',\n",
       " '@kaylatausche:',\n",
       " 'When',\n",
       " 'the',\n",
       " '@WhiteHouse',\n",
       " 'initially',\n",
       " 'announced',\n",
       " 'the',\n",
       " 'exemptions',\n",
       " 'for',\n",
       " 'allies,',\n",
       " 'it',\n",
       " 'did',\n",
       " 'so',\n",
       " 'at',\n",
       " '10:53pm',\n",
       " 'before',\n",
       " 'a',\n",
       " 'midnight',\n",
       " 'deadline.',\n",
       " 'Woul…']"
      ]
     },
     "execution_count": 9,
     "metadata": {},
     "output_type": "execute_result"
    }
   ],
   "source": [
    "# Display the broken down list of each 'word'.\n",
    "words"
   ]
  },
  {
   "cell_type": "code",
   "execution_count": 10,
   "metadata": {},
   "outputs": [
    {
     "data": {
      "text/plain": [
       "['RT',\n",
       " '@kaylatausche:',\n",
       " 'When',\n",
       " 'the',\n",
       " '@WhiteHouse',\n",
       " 'initially',\n",
       " 'announced',\n",
       " 'the',\n",
       " 'exemptions',\n",
       " 'for',\n",
       " 'allies,',\n",
       " 'it',\n",
       " 'did',\n",
       " 'so',\n",
       " 'at',\n",
       " '10:53pm',\n",
       " 'before',\n",
       " 'a',\n",
       " 'midnight',\n",
       " 'deadline.',\n",
       " 'Woul…']"
      ]
     },
     "execution_count": 10,
     "metadata": {},
     "output_type": "execute_result"
    }
   ],
   "source": [
    "words = remove_from_word_list(words, hashtags)\n",
    "words"
   ]
  },
  {
   "cell_type": "code",
   "execution_count": 11,
   "metadata": {},
   "outputs": [
    {
     "data": {
      "text/plain": [
       "[]"
      ]
     },
     "execution_count": 11,
     "metadata": {},
     "output_type": "execute_result"
    }
   ],
   "source": [
    "# Find any urls in the list of words.\n",
    "# Located better regex for url pattern matching - http://www.noah.org/wiki/RegEx_Python\n",
    "def url_locator(word_list):\n",
    "    urls = []\n",
    "    for word in word_list:\n",
    "        url = re.findall('http[s]?://(?:[a-zA-Z]|[0-9]|[$-_@.&+]|[!*\\(\\),]|(?:%[0-9a-fA-F][0-9a-fA-F]))+', word)\n",
    "        if url:\n",
    "            urls.append(url[0])\n",
    "    return urls\n",
    "urls = url_locator(words)\n",
    "urls"
   ]
  },
  {
   "cell_type": "code",
   "execution_count": 12,
   "metadata": {},
   "outputs": [
    {
     "data": {
      "text/plain": [
       "['RT',\n",
       " '@kaylatausche:',\n",
       " 'When',\n",
       " 'the',\n",
       " '@WhiteHouse',\n",
       " 'initially',\n",
       " 'announced',\n",
       " 'the',\n",
       " 'exemptions',\n",
       " 'for',\n",
       " 'allies,',\n",
       " 'it',\n",
       " 'did',\n",
       " 'so',\n",
       " 'at',\n",
       " '10:53pm',\n",
       " 'before',\n",
       " 'a',\n",
       " 'midnight',\n",
       " 'deadline.',\n",
       " 'Woul…']"
      ]
     },
     "execution_count": 12,
     "metadata": {},
     "output_type": "execute_result"
    }
   ],
   "source": [
    "words = remove_from_word_list(words, urls)\n",
    "words"
   ]
  },
  {
   "cell_type": "code",
   "execution_count": 13,
   "metadata": {},
   "outputs": [
    {
     "data": {
      "text/plain": [
       "['@kaylatausche:', '@WhiteHouse']"
      ]
     },
     "execution_count": 13,
     "metadata": {},
     "output_type": "execute_result"
    }
   ],
   "source": [
    "# remove @mentions\n",
    "def detect_user_handles(word_list):\n",
    "    user_handle = []\n",
    "    for word in word_list:\n",
    "        if word.startswith('@'):\n",
    "            user_handle.append(word)\n",
    "    return user_handle\n",
    "\n",
    "users = detect_user_handles(words)\n",
    "users"
   ]
  },
  {
   "cell_type": "code",
   "execution_count": 14,
   "metadata": {},
   "outputs": [
    {
     "data": {
      "text/plain": [
       "['RT',\n",
       " 'When',\n",
       " 'the',\n",
       " 'initially',\n",
       " 'announced',\n",
       " 'the',\n",
       " 'exemptions',\n",
       " 'for',\n",
       " 'allies,',\n",
       " 'it',\n",
       " 'did',\n",
       " 'so',\n",
       " 'at',\n",
       " '10:53pm',\n",
       " 'before',\n",
       " 'a',\n",
       " 'midnight',\n",
       " 'deadline.',\n",
       " 'Woul…']"
      ]
     },
     "execution_count": 14,
     "metadata": {},
     "output_type": "execute_result"
    }
   ],
   "source": [
    "words = remove_from_word_list(words, users)\n",
    "words"
   ]
  },
  {
   "cell_type": "code",
   "execution_count": 15,
   "metadata": {},
   "outputs": [
    {
     "data": {
      "text/plain": [
       "['RT',\n",
       " 'When',\n",
       " 'the',\n",
       " 'initially',\n",
       " 'announced',\n",
       " 'the',\n",
       " 'exemptions',\n",
       " 'for',\n",
       " 'allies',\n",
       " 'it',\n",
       " 'did',\n",
       " 'so',\n",
       " 'at',\n",
       " '1053pm',\n",
       " 'before',\n",
       " 'a',\n",
       " 'midnight',\n",
       " 'deadline',\n",
       " 'Woul']"
      ]
     },
     "execution_count": 15,
     "metadata": {},
     "output_type": "execute_result"
    }
   ],
   "source": [
    "# def remove_extra_characters(word_list):\n",
    "def strip_nonalphanumeric_characters(word_list):\n",
    "    clean_list = []\n",
    "    regex = re.compile('[^a-zA-Z0-9]')\n",
    "    for word in word_list:\n",
    "        word = word.split('-')\n",
    "        for each in word:\n",
    "            each = regex.sub('', each)\n",
    "            if each != '':\n",
    "                clean_list.append(each)\n",
    "    return clean_list\n",
    "clean_words = strip_nonalphanumeric_characters(words)\n",
    "clean_words"
   ]
  },
  {
   "cell_type": "code",
   "execution_count": 16,
   "metadata": {},
   "outputs": [
    {
     "data": {
      "text/plain": [
       "['allies,', 'Woul…', '10:53pm', 'deadline.']"
      ]
     },
     "execution_count": 16,
     "metadata": {},
     "output_type": "execute_result"
    }
   ],
   "source": [
    "list(set(words) - set(clean_words))"
   ]
  },
  {
   "cell_type": "code",
   "execution_count": 17,
   "metadata": {
    "scrolled": false
   },
   "outputs": [
    {
     "data": {
      "text/plain": [
       "['a',\n",
       " 'at',\n",
       " 'it',\n",
       " 'rt',\n",
       " 'so',\n",
       " 'did',\n",
       " 'for',\n",
       " 'the',\n",
       " 'the',\n",
       " 'when',\n",
       " 'woul',\n",
       " '1053pm',\n",
       " 'allies',\n",
       " 'before',\n",
       " 'deadline',\n",
       " 'midnight',\n",
       " 'announced',\n",
       " 'initially',\n",
       " 'exemptions']"
      ]
     },
     "execution_count": 17,
     "metadata": {},
     "output_type": "execute_result"
    }
   ],
   "source": [
    "clean_words=[x.lower() for x in clean_words]\n",
    "clean_words.sort()\n",
    "clean_words.sort(key=len)\n",
    "clean_words"
   ]
  },
  {
   "cell_type": "code",
   "execution_count": 18,
   "metadata": {},
   "outputs": [
    {
     "data": {
      "text/plain": [
       "the           2\n",
       "did           1\n",
       "exemptions    1\n",
       "when          1\n",
       "it            1\n",
       "announced     1\n",
       "deadline      1\n",
       "at            1\n",
       "1053pm        1\n",
       "midnight      1\n",
       "allies        1\n",
       "initially     1\n",
       "rt            1\n",
       "before        1\n",
       "woul          1\n",
       "for           1\n",
       "so            1\n",
       "a             1\n",
       "Name: Words, dtype: int64"
      ]
     },
     "execution_count": 18,
     "metadata": {},
     "output_type": "execute_result"
    }
   ],
   "source": [
    "df = pandas.DataFrame(clean_words, columns=['Words'])\n",
    "df['Words'].value_counts()"
   ]
  },
  {
   "cell_type": "code",
   "execution_count": 19,
   "metadata": {},
   "outputs": [
    {
     "name": "stderr",
     "output_type": "stream",
     "text": [
      "2018-05-27 16:40:48,302 - DEBUG - End of program\n"
     ]
    }
   ],
   "source": [
    "logging.debug('End of program')"
   ]
  }
 ],
 "metadata": {
  "kernelspec": {
   "display_name": "Python 3",
   "language": "python",
   "name": "python3"
  },
  "language_info": {
   "codemirror_mode": {
    "name": "ipython",
    "version": 3
   },
   "file_extension": ".py",
   "mimetype": "text/x-python",
   "name": "python",
   "nbconvert_exporter": "python",
   "pygments_lexer": "ipython3",
   "version": "3.6.5"
  }
 },
 "nbformat": 4,
 "nbformat_minor": 2
}
