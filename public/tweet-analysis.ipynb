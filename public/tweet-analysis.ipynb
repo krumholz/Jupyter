{
 "cells": [
  {
   "cell_type": "markdown",
   "metadata": {},
   "source": [
    "# Analysis of tweet text"
   ]
  },
  {
   "cell_type": "code",
   "execution_count": 1,
   "metadata": {},
   "outputs": [],
   "source": [
    "import pymongo\n",
    "import re\n",
    "import pprint"
   ]
  },
  {
   "cell_type": "code",
   "execution_count": 2,
   "metadata": {
    "scrolled": true
   },
   "outputs": [],
   "source": [
    "# Get the tweets stored in MongoDB\n",
    "client = pymongo.MongoClient()\n",
    "tweets = client['twitter']['tweets'].find()\n",
    "latest_tweet = tweets[15]"
   ]
  },
  {
   "cell_type": "code",
   "execution_count": 3,
   "metadata": {},
   "outputs": [],
   "source": [
    "def remove_from_word_list(original_list, list_subset):\n",
    "    for each in list_subset:\n",
    "        idx = original_list.index(each)\n",
    "        del original_list[idx]\n",
    "    return original_list"
   ]
  },
  {
   "cell_type": "code",
   "execution_count": 4,
   "metadata": {},
   "outputs": [
    {
     "name": "stdout",
     "output_type": "stream",
     "text": [
      "Todd Waterbury - Sun Apr 29 23:55:50 +0000 2018\n",
      "\"Thanks @forbes for this piece on the power of  #inclusivity + #creativity and proud that @target is part of this amazing organization https://t.co/xvIGtWTpsB\"\n",
      "{'hashtags': [{'indices': [47, 59], 'text': 'inclusivity'},\n",
      "              {'indices': [62, 73], 'text': 'creativity'}],\n",
      " 'symbols': [],\n",
      " 'urls': [{'display_url': 'forbes.com/sites/westernb…',\n",
      "           'expanded_url': 'http://www.forbes.com/sites/westernbonime/2018/04/29/creative-growth-where-great-art-has-become-the-coolest-fashion-show-in-town/#770906a7182d',\n",
      "           'indices': [134, 157],\n",
      "           'url': 'https://t.co/xvIGtWTpsB'}],\n",
      " 'user_mentions': [{'id': 91478624,\n",
      "                    'id_str': '91478624',\n",
      "                    'indices': [7, 14],\n",
      "                    'name': 'Forbes',\n",
      "                    'screen_name': 'Forbes'},\n",
      "                   {'id': 89084561,\n",
      "                    'id_str': '89084561',\n",
      "                    'indices': [89, 96],\n",
      "                    'name': 'Target',\n",
      "                    'screen_name': 'Target'}]}\n"
     ]
    }
   ],
   "source": [
    "def print_important_content(tweet):\n",
    "    print(tweet['user']['name'] + ' - ' + tweet['created_at'])\n",
    "    print('\"' + tweet['full_text'] + '\"')\n",
    "    pprint.pprint(tweet['entities'])\n",
    "    \n",
    "print_important_content(latest_tweet)"
   ]
  },
  {
   "cell_type": "code",
   "execution_count": 5,
   "metadata": {},
   "outputs": [
    {
     "data": {
      "text/plain": [
       "['#inclusivity', '#creativity']"
      ]
     },
     "execution_count": 5,
     "metadata": {},
     "output_type": "execute_result"
    }
   ],
   "source": [
    "def hashtag(tweet):\n",
    "    hashtag_list = []\n",
    "    for tag in tweet['hashtags']:\n",
    "        hashtag_list.append('#' + tag['text'])\n",
    "    return hashtag_list\n",
    "\n",
    "hashtags = hashtag(latest_tweet['entities'])\n",
    "hashtags"
   ]
  },
  {
   "cell_type": "code",
   "execution_count": 6,
   "metadata": {
    "scrolled": true
   },
   "outputs": [
    {
     "data": {
      "text/plain": [
       "{'_id': ObjectId('5ae674b81c398f21b4830aaa'),\n",
       " 'created_at': 'Sun Apr 29 23:55:50 +0000 2018',\n",
       " 'id': 990741478279471104,\n",
       " 'id_str': '990741478279471104',\n",
       " 'full_text': 'Thanks @forbes for this piece on the power of  #inclusivity + #creativity and proud that @target is part of this amazing organization https://t.co/xvIGtWTpsB',\n",
       " 'truncated': False,\n",
       " 'display_text_range': [0, 157],\n",
       " 'entities': {'hashtags': [{'text': 'inclusivity', 'indices': [47, 59]},\n",
       "   {'text': 'creativity', 'indices': [62, 73]}],\n",
       "  'symbols': [],\n",
       "  'user_mentions': [{'screen_name': 'Forbes',\n",
       "    'name': 'Forbes',\n",
       "    'id': 91478624,\n",
       "    'id_str': '91478624',\n",
       "    'indices': [7, 14]},\n",
       "   {'screen_name': 'Target',\n",
       "    'name': 'Target',\n",
       "    'id': 89084561,\n",
       "    'id_str': '89084561',\n",
       "    'indices': [89, 96]}],\n",
       "  'urls': [{'url': 'https://t.co/xvIGtWTpsB',\n",
       "    'expanded_url': 'http://www.forbes.com/sites/westernbonime/2018/04/29/creative-growth-where-great-art-has-become-the-coolest-fashion-show-in-town/#770906a7182d',\n",
       "    'display_url': 'forbes.com/sites/westernb…',\n",
       "    'indices': [134, 157]}]},\n",
       " 'source': '<a href=\"http://twitter.com/download/iphone\" rel=\"nofollow\">Twitter for iPhone</a>',\n",
       " 'in_reply_to_status_id': None,\n",
       " 'in_reply_to_status_id_str': None,\n",
       " 'in_reply_to_user_id': None,\n",
       " 'in_reply_to_user_id_str': None,\n",
       " 'in_reply_to_screen_name': None,\n",
       " 'user': {'id': 377707783,\n",
       "  'id_str': '377707783',\n",
       "  'name': 'Todd Waterbury',\n",
       "  'screen_name': 'toddwaterbury',\n",
       "  'location': 'New York, USA',\n",
       "  'description': 'Chief Creative Officer, @Target | Board VP, Trustee @cooperhewitt',\n",
       "  'url': None,\n",
       "  'entities': {'description': {'urls': []}},\n",
       "  'protected': False,\n",
       "  'followers_count': 1882,\n",
       "  'friends_count': 342,\n",
       "  'listed_count': 51,\n",
       "  'created_at': 'Thu Sep 22 00:21:36 +0000 2011',\n",
       "  'favourites_count': 196,\n",
       "  'utc_offset': -18000,\n",
       "  'time_zone': 'Quito',\n",
       "  'geo_enabled': True,\n",
       "  'verified': False,\n",
       "  'statuses_count': 265,\n",
       "  'lang': 'en',\n",
       "  'contributors_enabled': False,\n",
       "  'is_translator': False,\n",
       "  'is_translation_enabled': False,\n",
       "  'profile_background_color': 'C0DEED',\n",
       "  'profile_background_image_url': 'http://abs.twimg.com/images/themes/theme1/bg.png',\n",
       "  'profile_background_image_url_https': 'https://abs.twimg.com/images/themes/theme1/bg.png',\n",
       "  'profile_background_tile': False,\n",
       "  'profile_image_url': 'http://pbs.twimg.com/profile_images/1561516419/tw_normal.jpg',\n",
       "  'profile_image_url_https': 'https://pbs.twimg.com/profile_images/1561516419/tw_normal.jpg',\n",
       "  'profile_banner_url': 'https://pbs.twimg.com/profile_banners/377707783/1458910148',\n",
       "  'profile_link_color': '1DA1F2',\n",
       "  'profile_sidebar_border_color': 'C0DEED',\n",
       "  'profile_sidebar_fill_color': 'DDEEF6',\n",
       "  'profile_text_color': '333333',\n",
       "  'profile_use_background_image': True,\n",
       "  'has_extended_profile': False,\n",
       "  'default_profile': True,\n",
       "  'default_profile_image': False,\n",
       "  'following': True,\n",
       "  'follow_request_sent': False,\n",
       "  'notifications': False,\n",
       "  'translator_type': 'none'},\n",
       " 'geo': None,\n",
       " 'coordinates': None,\n",
       " 'place': None,\n",
       " 'contributors': None,\n",
       " 'is_quote_status': False,\n",
       " 'retweet_count': 0,\n",
       " 'favorite_count': 4,\n",
       " 'favorited': False,\n",
       " 'retweeted': False,\n",
       " 'possibly_sensitive': False,\n",
       " 'possibly_sensitive_appealable': False,\n",
       " 'lang': 'en'}"
      ]
     },
     "execution_count": 6,
     "metadata": {},
     "output_type": "execute_result"
    }
   ],
   "source": [
    "latest_tweet"
   ]
  },
  {
   "cell_type": "code",
   "execution_count": 7,
   "metadata": {},
   "outputs": [],
   "source": [
    "# Break the text content apart for better formatting.\n",
    "words = latest_tweet['full_text'].split(' ')"
   ]
  },
  {
   "cell_type": "code",
   "execution_count": 8,
   "metadata": {},
   "outputs": [
    {
     "data": {
      "text/plain": [
       "['Thanks',\n",
       " '@forbes',\n",
       " 'for',\n",
       " 'this',\n",
       " 'piece',\n",
       " 'on',\n",
       " 'the',\n",
       " 'power',\n",
       " 'of',\n",
       " '',\n",
       " '#inclusivity',\n",
       " '+',\n",
       " '#creativity',\n",
       " 'and',\n",
       " 'proud',\n",
       " 'that',\n",
       " '@target',\n",
       " 'is',\n",
       " 'part',\n",
       " 'of',\n",
       " 'this',\n",
       " 'amazing',\n",
       " 'organization',\n",
       " 'https://t.co/xvIGtWTpsB']"
      ]
     },
     "execution_count": 8,
     "metadata": {},
     "output_type": "execute_result"
    }
   ],
   "source": [
    "# Display the broken down list of each 'word'.\n",
    "words"
   ]
  },
  {
   "cell_type": "code",
   "execution_count": 9,
   "metadata": {},
   "outputs": [
    {
     "data": {
      "text/plain": [
       "['Thanks',\n",
       " '@forbes',\n",
       " 'for',\n",
       " 'this',\n",
       " 'piece',\n",
       " 'on',\n",
       " 'the',\n",
       " 'power',\n",
       " 'of',\n",
       " '',\n",
       " '+',\n",
       " 'and',\n",
       " 'proud',\n",
       " 'that',\n",
       " '@target',\n",
       " 'is',\n",
       " 'part',\n",
       " 'of',\n",
       " 'this',\n",
       " 'amazing',\n",
       " 'organization',\n",
       " 'https://t.co/xvIGtWTpsB']"
      ]
     },
     "execution_count": 9,
     "metadata": {},
     "output_type": "execute_result"
    }
   ],
   "source": [
    "words = remove_from_word_list(words, hashtags)\n",
    "words"
   ]
  },
  {
   "cell_type": "code",
   "execution_count": 10,
   "metadata": {},
   "outputs": [
    {
     "data": {
      "text/plain": [
       "['https://t.co/xvIGtWTpsB']"
      ]
     },
     "execution_count": 10,
     "metadata": {},
     "output_type": "execute_result"
    }
   ],
   "source": [
    "# Find any urls in the list of words.\n",
    "# Located better regex for url pattern matching - http://www.noah.org/wiki/RegEx_Python\n",
    "def url_locator(word_list):\n",
    "    urls = []\n",
    "    for word in word_list:\n",
    "        url = re.findall('http[s]?://(?:[a-zA-Z]|[0-9]|[$-_@.&+]|[!*\\(\\),]|(?:%[0-9a-fA-F][0-9a-fA-F]))+', word)\n",
    "        if url:\n",
    "            urls.append(url[0])\n",
    "    return urls\n",
    "urls = url_locator(words)\n",
    "urls"
   ]
  },
  {
   "cell_type": "code",
   "execution_count": 11,
   "metadata": {},
   "outputs": [
    {
     "data": {
      "text/plain": [
       "['Thanks',\n",
       " '@forbes',\n",
       " 'for',\n",
       " 'this',\n",
       " 'piece',\n",
       " 'on',\n",
       " 'the',\n",
       " 'power',\n",
       " 'of',\n",
       " '',\n",
       " '+',\n",
       " 'and',\n",
       " 'proud',\n",
       " 'that',\n",
       " '@target',\n",
       " 'is',\n",
       " 'part',\n",
       " 'of',\n",
       " 'this',\n",
       " 'amazing',\n",
       " 'organization']"
      ]
     },
     "execution_count": 11,
     "metadata": {},
     "output_type": "execute_result"
    }
   ],
   "source": [
    "words = remove_from_word_list(words, urls)\n",
    "words"
   ]
  },
  {
   "cell_type": "code",
   "execution_count": 12,
   "metadata": {},
   "outputs": [
    {
     "data": {
      "text/plain": [
       "['@forbes', '@target']"
      ]
     },
     "execution_count": 12,
     "metadata": {},
     "output_type": "execute_result"
    }
   ],
   "source": [
    "# remove @mentions\n",
    "def detect_user_handles(word_list):\n",
    "    user_handle = []\n",
    "    for word in word_list:\n",
    "        if word.startswith('@'):\n",
    "            user_handle.append(word)\n",
    "    return user_handle\n",
    "\n",
    "users = detect_user_handles(words)\n",
    "users"
   ]
  },
  {
   "cell_type": "code",
   "execution_count": 13,
   "metadata": {},
   "outputs": [
    {
     "data": {
      "text/plain": [
       "['Thanks',\n",
       " 'for',\n",
       " 'this',\n",
       " 'piece',\n",
       " 'on',\n",
       " 'the',\n",
       " 'power',\n",
       " 'of',\n",
       " '',\n",
       " '+',\n",
       " 'and',\n",
       " 'proud',\n",
       " 'that',\n",
       " 'is',\n",
       " 'part',\n",
       " 'of',\n",
       " 'this',\n",
       " 'amazing',\n",
       " 'organization']"
      ]
     },
     "execution_count": 13,
     "metadata": {},
     "output_type": "execute_result"
    }
   ],
   "source": [
    "words = remove_from_word_list(words, users)\n",
    "words"
   ]
  },
  {
   "cell_type": "code",
   "execution_count": 14,
   "metadata": {},
   "outputs": [
    {
     "data": {
      "text/plain": [
       "['Thanks',\n",
       " 'for',\n",
       " 'this',\n",
       " 'piece',\n",
       " 'on',\n",
       " 'the',\n",
       " 'power',\n",
       " 'of',\n",
       " 'and',\n",
       " 'proud',\n",
       " 'that',\n",
       " 'is',\n",
       " 'part',\n",
       " 'of',\n",
       " 'this',\n",
       " 'amazing',\n",
       " 'organization']"
      ]
     },
     "execution_count": 14,
     "metadata": {},
     "output_type": "execute_result"
    }
   ],
   "source": [
    "# def remove_extra_characters(word_list):\n",
    "def strip_nonalphanumeric_characters(word_list):\n",
    "    clean_list = []\n",
    "    regex = re.compile('[^a-zA-Z0-9]')\n",
    "    for word in word_list:\n",
    "        word = regex.sub('', word)\n",
    "        if word != '':\n",
    "            clean_list.append(word)\n",
    "    return clean_list\n",
    "clean_words = strip_nonalphanumeric_characters(words)\n",
    "clean_words"
   ]
  },
  {
   "cell_type": "code",
   "execution_count": 15,
   "metadata": {},
   "outputs": [
    {
     "data": {
      "text/plain": [
       "['', '+']"
      ]
     },
     "execution_count": 15,
     "metadata": {},
     "output_type": "execute_result"
    }
   ],
   "source": [
    "list(set(words) - set(clean_words))"
   ]
  }
 ],
 "metadata": {
  "kernelspec": {
   "display_name": "Python 3",
   "language": "python",
   "name": "python3"
  },
  "language_info": {
   "codemirror_mode": {
    "name": "ipython",
    "version": 3
   },
   "file_extension": ".py",
   "mimetype": "text/x-python",
   "name": "python",
   "nbconvert_exporter": "python",
   "pygments_lexer": "ipython3",
   "version": "3.6.5"
  }
 },
 "nbformat": 4,
 "nbformat_minor": 2
}
