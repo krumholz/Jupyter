{
 "cells": [
  {
   "cell_type": "markdown",
   "metadata": {},
   "source": [
    "# Analysis of tweet text"
   ]
  },
  {
   "cell_type": "code",
   "execution_count": 1,
   "metadata": {},
   "outputs": [],
   "source": [
    "import pymongo\n",
    "import re"
   ]
  },
  {
   "cell_type": "code",
   "execution_count": 2,
   "metadata": {
    "scrolled": true
   },
   "outputs": [],
   "source": [
    "# Get the tweets stored in MongoDB\n",
    "client = pymongo.MongoClient()\n",
    "tweets = client['twitter']['tweets'].find()\n",
    "latest_tweet = tweets[1]"
   ]
  },
  {
   "cell_type": "code",
   "execution_count": 3,
   "metadata": {},
   "outputs": [],
   "source": [
    "# Break the text content apart for better formatting.\n",
    "words = latest_tweet['full_text'].split(' ')"
   ]
  },
  {
   "cell_type": "code",
   "execution_count": 4,
   "metadata": {},
   "outputs": [
    {
     "data": {
      "text/plain": [
       "['“We',\n",
       " 'talk',\n",
       " 'about',\n",
       " 'health',\n",
       " 'more',\n",
       " 'than',\n",
       " 'anybody',\n",
       " 'else,',\n",
       " 'we',\n",
       " 'talk',\n",
       " 'about',\n",
       " 'guns',\n",
       " 'more',\n",
       " 'than',\n",
       " 'anybody',\n",
       " 'else,',\n",
       " 'we',\n",
       " 'talk',\n",
       " 'about',\n",
       " 'violence',\n",
       " 'more',\n",
       " 'than',\n",
       " 'anybody',\n",
       " 'else,',\n",
       " 'and',\n",
       " 'you',\n",
       " 'still',\n",
       " 'see',\n",
       " 'these',\n",
       " 'huge',\n",
       " 'disparities.\"',\n",
       " 'https://t.co/VrwHOIwyR8']"
      ]
     },
     "execution_count": 4,
     "metadata": {},
     "output_type": "execute_result"
    }
   ],
   "source": [
    "# Display the broken down list of each 'word'.\n",
    "words"
   ]
  },
  {
   "cell_type": "code",
   "execution_count": 5,
   "metadata": {},
   "outputs": [
    {
     "data": {
      "text/plain": [
       "['https://t.co/VrwHOIwyR8']"
      ]
     },
     "execution_count": 5,
     "metadata": {},
     "output_type": "execute_result"
    }
   ],
   "source": [
    "# Find any urls in the list of words.\n",
    "# Located better regex for url pattern matching - http://www.noah.org/wiki/RegEx_Python\n",
    "def url_locator(word_list):\n",
    "    urls = []\n",
    "    for word in word_list:\n",
    "        url = re.findall('http[s]?://(?:[a-zA-Z]|[0-9]|[$-_@.&+]|[!*\\(\\),]|(?:%[0-9a-fA-F][0-9a-fA-F]))+', word)\n",
    "        if url:\n",
    "            urls.append(url[0])\n",
    "    return urls\n",
    "urls = url_locator(words)\n",
    "urls"
   ]
  },
  {
   "cell_type": "code",
   "execution_count": 6,
   "metadata": {},
   "outputs": [
    {
     "data": {
      "text/plain": [
       "['“We',\n",
       " 'talk',\n",
       " 'about',\n",
       " 'health',\n",
       " 'more',\n",
       " 'than',\n",
       " 'anybody',\n",
       " 'else,',\n",
       " 'we',\n",
       " 'talk',\n",
       " 'about',\n",
       " 'guns',\n",
       " 'more',\n",
       " 'than',\n",
       " 'anybody',\n",
       " 'else,',\n",
       " 'we',\n",
       " 'talk',\n",
       " 'about',\n",
       " 'violence',\n",
       " 'more',\n",
       " 'than',\n",
       " 'anybody',\n",
       " 'else,',\n",
       " 'and',\n",
       " 'you',\n",
       " 'still',\n",
       " 'see',\n",
       " 'these',\n",
       " 'huge',\n",
       " 'disparities.\"']"
      ]
     },
     "execution_count": 6,
     "metadata": {},
     "output_type": "execute_result"
    }
   ],
   "source": [
    "def remove_urls_from_word_list(word_list, url_list):\n",
    "    for url in url_list:\n",
    "        idx = word_list.index(url)\n",
    "        del word_list[idx]\n",
    "    return word_list\n",
    "\n",
    "words = remove_urls_from_word_list(words, urls)\n",
    "words"
   ]
  },
  {
   "cell_type": "code",
   "execution_count": 7,
   "metadata": {},
   "outputs": [
    {
     "data": {
      "text/plain": [
       "[]"
      ]
     },
     "execution_count": 7,
     "metadata": {},
     "output_type": "execute_result"
    }
   ],
   "source": [
    "# remove @mentions\n",
    "def remove_user_handles(word_list):\n",
    "    user_handle = []\n",
    "    for word in word_list:\n",
    "        if word.startswith('@'):\n",
    "            user_handle.append(word)\n",
    "    return user_handle\n",
    "\n",
    "users = remove_user_handles(words)\n",
    "users        "
   ]
  },
  {
   "cell_type": "code",
   "execution_count": 8,
   "metadata": {},
   "outputs": [
    {
     "data": {
      "text/plain": [
       "['We',\n",
       " 'talk',\n",
       " 'about',\n",
       " 'health',\n",
       " 'more',\n",
       " 'than',\n",
       " 'anybody',\n",
       " 'else',\n",
       " 'we',\n",
       " 'talk',\n",
       " 'about',\n",
       " 'guns',\n",
       " 'more',\n",
       " 'than',\n",
       " 'anybody',\n",
       " 'else',\n",
       " 'we',\n",
       " 'talk',\n",
       " 'about',\n",
       " 'violence',\n",
       " 'more',\n",
       " 'than',\n",
       " 'anybody',\n",
       " 'else',\n",
       " 'and',\n",
       " 'you',\n",
       " 'still',\n",
       " 'see',\n",
       " 'these',\n",
       " 'huge',\n",
       " 'disparities']"
      ]
     },
     "execution_count": 8,
     "metadata": {},
     "output_type": "execute_result"
    }
   ],
   "source": [
    "# def remove_extra_characters(word_list):\n",
    "def strip_extra_characters(word_list):\n",
    "    clean_list = []\n",
    "    regex = re.compile('[^a-zA-Z0-9]')\n",
    "    for word in word_list:\n",
    "        clean_list.append(regex.sub('', word))\n",
    "    return clean_list\n",
    "clean_words = strip_extra_characters(words)\n",
    "clean_words"
   ]
  },
  {
   "cell_type": "code",
   "execution_count": 9,
   "metadata": {},
   "outputs": [
    {
     "data": {
      "text/plain": [
       "['else,', '“We', 'disparities.\"']"
      ]
     },
     "execution_count": 9,
     "metadata": {},
     "output_type": "execute_result"
    }
   ],
   "source": [
    "list(set(words) - set(clean_words))"
   ]
  }
 ],
 "metadata": {
  "kernelspec": {
   "display_name": "Python 3",
   "language": "python",
   "name": "python3"
  },
  "language_info": {
   "codemirror_mode": {
    "name": "ipython",
    "version": 3
   },
   "file_extension": ".py",
   "mimetype": "text/x-python",
   "name": "python",
   "nbconvert_exporter": "python",
   "pygments_lexer": "ipython3",
   "version": "3.6.5"
  }
 },
 "nbformat": 4,
 "nbformat_minor": 2
}
