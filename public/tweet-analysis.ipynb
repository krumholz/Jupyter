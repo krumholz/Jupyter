{
 "cells": [
  {
   "cell_type": "markdown",
   "metadata": {},
   "source": [
    "# Analysis of tweet text"
   ]
  },
  {
   "cell_type": "code",
   "execution_count": 1,
   "metadata": {},
   "outputs": [],
   "source": [
    "import pymongo\n",
    "import re\n",
    "import pprint\n",
    "import logging\n",
    "from lark import Lark\n",
    "import pandas\n",
    "import time"
   ]
  },
  {
   "cell_type": "code",
   "execution_count": 2,
   "metadata": {},
   "outputs": [
    {
     "name": "stderr",
     "output_type": "stream",
     "text": [
      "2018-05-18 20:04:06,314 - DEBUG - Start of program\n"
     ]
    }
   ],
   "source": [
    "# Logging functionality\n",
    "logging.basicConfig(level=logging.DEBUG, format='%(asctime)s - %(levelname)s - %(message)s')\n",
    "logging.debug('Start of program')"
   ]
  },
  {
   "cell_type": "code",
   "execution_count": 3,
   "metadata": {
    "scrolled": true
   },
   "outputs": [],
   "source": [
    "# Get the tweets stored in MongoDB\n",
    "client = pymongo.MongoClient()\n",
    "tweets = client['twitter']['tweets'].find()\n",
    "latest_tweet = tweets[180]"
   ]
  },
  {
   "cell_type": "code",
   "execution_count": 4,
   "metadata": {},
   "outputs": [],
   "source": [
    "def remove_from_word_list(original_list, list_subset):\n",
    "    for each in list_subset:\n",
    "        idx = original_list.index(each)\n",
    "        del original_list[idx]\n",
    "    return original_list"
   ]
  },
  {
   "cell_type": "code",
   "execution_count": 5,
   "metadata": {},
   "outputs": [
    {
     "name": "stdout",
     "output_type": "stream",
     "text": [
      "106 characters by Fast Company at 15:16:58 2018-04-30\n",
      "\n",
      "\"Here’s how Facebook can regain trust at its #F8 conference https://t.co/qz9HfUfR9p https://t.co/xpUhNTU1tw\"\n",
      "\n",
      "['http://f-st.co/ouy08Gq']\n",
      "\n",
      "#F8\n",
      "\n",
      "No Symbols\n",
      "\n",
      "{'hashtags': [{'indices': [44, 47], 'text': 'F8'}],\n",
      " 'media': [{'display_url': 'pic.twitter.com/xpUhNTU1tw',\n",
      "            'expanded_url': 'https://twitter.com/FastCompany/status/990973291471998977/photo/1',\n",
      "            'id': 990973288045215745,\n",
      "            'id_str': '990973288045215745',\n",
      "            'indices': [83, 106],\n",
      "            'media_url': 'http://pbs.twimg.com/media/DcCk9H_WAAEzKHv.jpg',\n",
      "            'media_url_https': 'https://pbs.twimg.com/media/DcCk9H_WAAEzKHv.jpg',\n",
      "            'sizes': {'large': {'h': 790, 'resize': 'fit', 'w': 1412},\n",
      "                      'medium': {'h': 671, 'resize': 'fit', 'w': 1200},\n",
      "                      'small': {'h': 380, 'resize': 'fit', 'w': 680},\n",
      "                      'thumb': {'h': 150, 'resize': 'crop', 'w': 150}},\n",
      "            'type': 'photo',\n",
      "            'url': 'https://t.co/xpUhNTU1tw'}],\n",
      " 'symbols': [],\n",
      " 'urls': [{'display_url': 'f-st.co/ouy08Gq',\n",
      "           'expanded_url': 'http://f-st.co/ouy08Gq',\n",
      "           'indices': [59, 82],\n",
      "           'url': 'https://t.co/qz9HfUfR9p'}],\n",
      " 'user_mentions': []}\n"
     ]
    }
   ],
   "source": [
    "def print_important_content(tweet):\n",
    "    ts = time.strftime('%H:%M:%S %Y-%m-%d', time.strptime(tweet['created_at'],'%a %b %d %H:%M:%S +0000 %Y'))\n",
    "    print('{} characters by {} at {}\\n'.format(len(tweet['full_text']),tweet['user']['name'], ts))\n",
    "    print('\"{}\"\\n'.format(tweet['full_text']))\n",
    "    \n",
    "    if not tweet['entities']['urls']:\n",
    "        expanded_url = 'No URL'\n",
    "    else:\n",
    "        expanded_url = []\n",
    "        for url in tweet['entities']['urls']:\n",
    "            expanded_url.append(tweet['entities']['urls'][0]['expanded_url'])\n",
    "    print('{}\\n'.format(expanded_url))\n",
    "    \n",
    "    if not tweet['entities']['hashtags']:\n",
    "        hashtag_list = 'No Hashtags'\n",
    "    else:\n",
    "        hashtag_list = tweet['entities']['hashtags'][0]['text']\n",
    "    print('#{}\\n'.format(hashtag_list))\n",
    "    \n",
    "    if not tweet['entities']['symbols']:\n",
    "        symbols = 'No Symbols'\n",
    "    else:\n",
    "        symbols = tweet['entities']['symbols']\n",
    "    print('{}\\n'.format(symbols))\n",
    "    pprint.pprint(tweet['entities'])\n",
    "    \n",
    "print_important_content(latest_tweet)"
   ]
  },
  {
   "cell_type": "code",
   "execution_count": 6,
   "metadata": {},
   "outputs": [
    {
     "data": {
      "text/plain": [
       "['#F8']"
      ]
     },
     "execution_count": 6,
     "metadata": {},
     "output_type": "execute_result"
    }
   ],
   "source": [
    "def hashtag(tweet):\n",
    "    hashtag_list = []\n",
    "    for tag in tweet['hashtags']:\n",
    "        hashtag_list.append('#' + tag['text'])\n",
    "    return hashtag_list\n",
    "\n",
    "hashtags = hashtag(latest_tweet['entities'])\n",
    "hashtags"
   ]
  },
  {
   "cell_type": "code",
   "execution_count": 7,
   "metadata": {
    "scrolled": true
   },
   "outputs": [
    {
     "data": {
      "text/plain": [
       "{'_id': ObjectId('5ae766611c398f0d01baa788'),\n",
       " 'created_at': 'Mon Apr 30 15:16:58 +0000 2018',\n",
       " 'id': 990973291471998977,\n",
       " 'id_str': '990973291471998977',\n",
       " 'full_text': 'Here’s how Facebook can regain trust at its #F8 conference https://t.co/qz9HfUfR9p https://t.co/xpUhNTU1tw',\n",
       " 'truncated': False,\n",
       " 'display_text_range': [0, 82],\n",
       " 'entities': {'hashtags': [{'text': 'F8', 'indices': [44, 47]}],\n",
       "  'symbols': [],\n",
       "  'user_mentions': [],\n",
       "  'urls': [{'url': 'https://t.co/qz9HfUfR9p',\n",
       "    'expanded_url': 'http://f-st.co/ouy08Gq',\n",
       "    'display_url': 'f-st.co/ouy08Gq',\n",
       "    'indices': [59, 82]}],\n",
       "  'media': [{'id': 990973288045215745,\n",
       "    'id_str': '990973288045215745',\n",
       "    'indices': [83, 106],\n",
       "    'media_url': 'http://pbs.twimg.com/media/DcCk9H_WAAEzKHv.jpg',\n",
       "    'media_url_https': 'https://pbs.twimg.com/media/DcCk9H_WAAEzKHv.jpg',\n",
       "    'url': 'https://t.co/xpUhNTU1tw',\n",
       "    'display_url': 'pic.twitter.com/xpUhNTU1tw',\n",
       "    'expanded_url': 'https://twitter.com/FastCompany/status/990973291471998977/photo/1',\n",
       "    'type': 'photo',\n",
       "    'sizes': {'small': {'w': 680, 'h': 380, 'resize': 'fit'},\n",
       "     'thumb': {'w': 150, 'h': 150, 'resize': 'crop'},\n",
       "     'medium': {'w': 1200, 'h': 671, 'resize': 'fit'},\n",
       "     'large': {'w': 1412, 'h': 790, 'resize': 'fit'}}}]},\n",
       " 'extended_entities': {'media': [{'id': 990973288045215745,\n",
       "    'id_str': '990973288045215745',\n",
       "    'indices': [83, 106],\n",
       "    'media_url': 'http://pbs.twimg.com/media/DcCk9H_WAAEzKHv.jpg',\n",
       "    'media_url_https': 'https://pbs.twimg.com/media/DcCk9H_WAAEzKHv.jpg',\n",
       "    'url': 'https://t.co/xpUhNTU1tw',\n",
       "    'display_url': 'pic.twitter.com/xpUhNTU1tw',\n",
       "    'expanded_url': 'https://twitter.com/FastCompany/status/990973291471998977/photo/1',\n",
       "    'type': 'photo',\n",
       "    'sizes': {'small': {'w': 680, 'h': 380, 'resize': 'fit'},\n",
       "     'thumb': {'w': 150, 'h': 150, 'resize': 'crop'},\n",
       "     'medium': {'w': 1200, 'h': 671, 'resize': 'fit'},\n",
       "     'large': {'w': 1412, 'h': 790, 'resize': 'fit'}}}]},\n",
       " 'source': '<a href=\"http://www.socialflow.com\" rel=\"nofollow\">SocialFlow</a>',\n",
       " 'in_reply_to_status_id': None,\n",
       " 'in_reply_to_status_id_str': None,\n",
       " 'in_reply_to_user_id': None,\n",
       " 'in_reply_to_user_id_str': None,\n",
       " 'in_reply_to_screen_name': None,\n",
       " 'user': {'id': 2735591,\n",
       "  'id_str': '2735591',\n",
       "  'name': 'Fast Company',\n",
       "  'screen_name': 'FastCompany',\n",
       "  'location': 'New York, NY',\n",
       "  'description': 'Official Twitter feed for the Fast Company business media brand;  inspiring readers to think beyond traditional boundaries & create the future of business.',\n",
       "  'url': 'http://t.co/GBtvUq9rZp',\n",
       "  'entities': {'url': {'urls': [{'url': 'http://t.co/GBtvUq9rZp',\n",
       "      'expanded_url': 'http://www.fastcompany.com',\n",
       "      'display_url': 'fastcompany.com',\n",
       "      'indices': [0, 22]}]},\n",
       "   'description': {'urls': []}},\n",
       "  'protected': False,\n",
       "  'followers_count': 2346203,\n",
       "  'friends_count': 4081,\n",
       "  'listed_count': 44701,\n",
       "  'created_at': 'Wed Mar 28 22:39:21 +0000 2007',\n",
       "  'favourites_count': 9013,\n",
       "  'utc_offset': -14400,\n",
       "  'time_zone': 'Eastern Time (US & Canada)',\n",
       "  'geo_enabled': True,\n",
       "  'verified': True,\n",
       "  'statuses_count': 183755,\n",
       "  'lang': 'en',\n",
       "  'contributors_enabled': False,\n",
       "  'is_translator': False,\n",
       "  'is_translation_enabled': True,\n",
       "  'profile_background_color': 'FFFFFF',\n",
       "  'profile_background_image_url': 'http://pbs.twimg.com/profile_background_images/425029708/2048x1600-fc-twitter-backgrd.png',\n",
       "  'profile_background_image_url_https': 'https://pbs.twimg.com/profile_background_images/425029708/2048x1600-fc-twitter-backgrd.png',\n",
       "  'profile_background_tile': False,\n",
       "  'profile_image_url': 'http://pbs.twimg.com/profile_images/875769219400351744/ib7iIvRF_normal.jpg',\n",
       "  'profile_image_url_https': 'https://pbs.twimg.com/profile_images/875769219400351744/ib7iIvRF_normal.jpg',\n",
       "  'profile_banner_url': 'https://pbs.twimg.com/profile_banners/2735591/1523472730',\n",
       "  'profile_link_color': '9AB2B4',\n",
       "  'profile_sidebar_border_color': '5A5A5A',\n",
       "  'profile_sidebar_fill_color': 'CCCCCC',\n",
       "  'profile_text_color': '000000',\n",
       "  'profile_use_background_image': True,\n",
       "  'has_extended_profile': False,\n",
       "  'default_profile': False,\n",
       "  'default_profile_image': False,\n",
       "  'following': True,\n",
       "  'follow_request_sent': False,\n",
       "  'notifications': False,\n",
       "  'translator_type': 'none'},\n",
       " 'geo': None,\n",
       " 'coordinates': None,\n",
       " 'place': None,\n",
       " 'contributors': None,\n",
       " 'is_quote_status': False,\n",
       " 'retweet_count': 9,\n",
       " 'favorite_count': 6,\n",
       " 'favorited': False,\n",
       " 'retweeted': False,\n",
       " 'possibly_sensitive': False,\n",
       " 'possibly_sensitive_appealable': False,\n",
       " 'lang': 'en'}"
      ]
     },
     "execution_count": 7,
     "metadata": {},
     "output_type": "execute_result"
    }
   ],
   "source": [
    "latest_tweet"
   ]
  },
  {
   "cell_type": "code",
   "execution_count": 8,
   "metadata": {},
   "outputs": [],
   "source": [
    "# Break the text content apart for better formatting.\n",
    "words = latest_tweet['full_text'].split(' ')"
   ]
  },
  {
   "cell_type": "code",
   "execution_count": 9,
   "metadata": {},
   "outputs": [
    {
     "data": {
      "text/plain": [
       "['Here’s',\n",
       " 'how',\n",
       " 'Facebook',\n",
       " 'can',\n",
       " 'regain',\n",
       " 'trust',\n",
       " 'at',\n",
       " 'its',\n",
       " '#F8',\n",
       " 'conference',\n",
       " 'https://t.co/qz9HfUfR9p',\n",
       " 'https://t.co/xpUhNTU1tw']"
      ]
     },
     "execution_count": 9,
     "metadata": {},
     "output_type": "execute_result"
    }
   ],
   "source": [
    "# Display the broken down list of each 'word'.\n",
    "words"
   ]
  },
  {
   "cell_type": "code",
   "execution_count": 10,
   "metadata": {},
   "outputs": [
    {
     "data": {
      "text/plain": [
       "['Here’s',\n",
       " 'how',\n",
       " 'Facebook',\n",
       " 'can',\n",
       " 'regain',\n",
       " 'trust',\n",
       " 'at',\n",
       " 'its',\n",
       " 'conference',\n",
       " 'https://t.co/qz9HfUfR9p',\n",
       " 'https://t.co/xpUhNTU1tw']"
      ]
     },
     "execution_count": 10,
     "metadata": {},
     "output_type": "execute_result"
    }
   ],
   "source": [
    "words = remove_from_word_list(words, hashtags)\n",
    "words"
   ]
  },
  {
   "cell_type": "code",
   "execution_count": 11,
   "metadata": {},
   "outputs": [
    {
     "data": {
      "text/plain": [
       "['https://t.co/qz9HfUfR9p', 'https://t.co/xpUhNTU1tw']"
      ]
     },
     "execution_count": 11,
     "metadata": {},
     "output_type": "execute_result"
    }
   ],
   "source": [
    "# Find any urls in the list of words.\n",
    "# Located better regex for url pattern matching - http://www.noah.org/wiki/RegEx_Python\n",
    "def url_locator(word_list):\n",
    "    urls = []\n",
    "    for word in word_list:\n",
    "        url = re.findall('http[s]?://(?:[a-zA-Z]|[0-9]|[$-_@.&+]|[!*\\(\\),]|(?:%[0-9a-fA-F][0-9a-fA-F]))+', word)\n",
    "        if url:\n",
    "            urls.append(url[0])\n",
    "    return urls\n",
    "urls = url_locator(words)\n",
    "urls"
   ]
  },
  {
   "cell_type": "code",
   "execution_count": 12,
   "metadata": {},
   "outputs": [
    {
     "data": {
      "text/plain": [
       "['Here’s',\n",
       " 'how',\n",
       " 'Facebook',\n",
       " 'can',\n",
       " 'regain',\n",
       " 'trust',\n",
       " 'at',\n",
       " 'its',\n",
       " 'conference']"
      ]
     },
     "execution_count": 12,
     "metadata": {},
     "output_type": "execute_result"
    }
   ],
   "source": [
    "words = remove_from_word_list(words, urls)\n",
    "words"
   ]
  },
  {
   "cell_type": "code",
   "execution_count": 13,
   "metadata": {},
   "outputs": [
    {
     "data": {
      "text/plain": [
       "[]"
      ]
     },
     "execution_count": 13,
     "metadata": {},
     "output_type": "execute_result"
    }
   ],
   "source": [
    "# remove @mentions\n",
    "def detect_user_handles(word_list):\n",
    "    user_handle = []\n",
    "    for word in word_list:\n",
    "        if word.startswith('@'):\n",
    "            user_handle.append(word)\n",
    "    return user_handle\n",
    "\n",
    "users = detect_user_handles(words)\n",
    "users"
   ]
  },
  {
   "cell_type": "code",
   "execution_count": 14,
   "metadata": {},
   "outputs": [
    {
     "data": {
      "text/plain": [
       "['Here’s',\n",
       " 'how',\n",
       " 'Facebook',\n",
       " 'can',\n",
       " 'regain',\n",
       " 'trust',\n",
       " 'at',\n",
       " 'its',\n",
       " 'conference']"
      ]
     },
     "execution_count": 14,
     "metadata": {},
     "output_type": "execute_result"
    }
   ],
   "source": [
    "words = remove_from_word_list(words, users)\n",
    "words"
   ]
  },
  {
   "cell_type": "code",
   "execution_count": 15,
   "metadata": {},
   "outputs": [
    {
     "data": {
      "text/plain": [
       "['Heres',\n",
       " 'how',\n",
       " 'Facebook',\n",
       " 'can',\n",
       " 'regain',\n",
       " 'trust',\n",
       " 'at',\n",
       " 'its',\n",
       " 'conference']"
      ]
     },
     "execution_count": 15,
     "metadata": {},
     "output_type": "execute_result"
    }
   ],
   "source": [
    "# def remove_extra_characters(word_list):\n",
    "def strip_nonalphanumeric_characters(word_list):\n",
    "    clean_list = []\n",
    "    regex = re.compile('[^a-zA-Z0-9]')\n",
    "    for word in word_list:\n",
    "        word = word.split('-')\n",
    "        for each in word:\n",
    "            each = regex.sub('', each)\n",
    "            if each != '':\n",
    "                clean_list.append(each)\n",
    "    return clean_list\n",
    "clean_words = strip_nonalphanumeric_characters(words)\n",
    "clean_words"
   ]
  },
  {
   "cell_type": "code",
   "execution_count": 16,
   "metadata": {},
   "outputs": [
    {
     "data": {
      "text/plain": [
       "['Here’s']"
      ]
     },
     "execution_count": 16,
     "metadata": {},
     "output_type": "execute_result"
    }
   ],
   "source": [
    "list(set(words) - set(clean_words))"
   ]
  },
  {
   "cell_type": "code",
   "execution_count": 17,
   "metadata": {
    "scrolled": false
   },
   "outputs": [
    {
     "data": {
      "text/plain": [
       "['at',\n",
       " 'can',\n",
       " 'how',\n",
       " 'its',\n",
       " 'heres',\n",
       " 'trust',\n",
       " 'regain',\n",
       " 'facebook',\n",
       " 'conference']"
      ]
     },
     "execution_count": 17,
     "metadata": {},
     "output_type": "execute_result"
    }
   ],
   "source": [
    "clean_words=[x.lower() for x in clean_words]\n",
    "clean_words.sort()\n",
    "clean_words.sort(key=len)\n",
    "clean_words"
   ]
  },
  {
   "cell_type": "code",
   "execution_count": 18,
   "metadata": {},
   "outputs": [
    {
     "data": {
      "text/plain": [
       "its           1\n",
       "can           1\n",
       "regain        1\n",
       "heres         1\n",
       "trust         1\n",
       "at            1\n",
       "conference    1\n",
       "how           1\n",
       "facebook      1\n",
       "Name: Words, dtype: int64"
      ]
     },
     "execution_count": 18,
     "metadata": {},
     "output_type": "execute_result"
    }
   ],
   "source": [
    "df = pandas.DataFrame(clean_words, columns=['Words'])\n",
    "df['Words'].value_counts()"
   ]
  },
  {
   "cell_type": "code",
   "execution_count": 19,
   "metadata": {},
   "outputs": [
    {
     "name": "stderr",
     "output_type": "stream",
     "text": [
      "2018-05-18 20:04:06,449 - DEBUG - End of program\n"
     ]
    }
   ],
   "source": [
    "logging.debug('End of program')"
   ]
  }
 ],
 "metadata": {
  "kernelspec": {
   "display_name": "Python 3",
   "language": "python",
   "name": "python3"
  },
  "language_info": {
   "codemirror_mode": {
    "name": "ipython",
    "version": 3
   },
   "file_extension": ".py",
   "mimetype": "text/x-python",
   "name": "python",
   "nbconvert_exporter": "python",
   "pygments_lexer": "ipython3",
   "version": "3.6.5"
  }
 },
 "nbformat": 4,
 "nbformat_minor": 2
}
