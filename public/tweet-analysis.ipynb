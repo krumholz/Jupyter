{
 "cells": [
  {
   "cell_type": "markdown",
   "metadata": {},
   "source": [
    "# Analysis of tweet text"
   ]
  },
  {
   "cell_type": "code",
   "execution_count": 1,
   "metadata": {},
   "outputs": [],
   "source": [
    "import pymongo\n",
    "import re"
   ]
  },
  {
   "cell_type": "code",
   "execution_count": 2,
   "metadata": {
    "scrolled": true
   },
   "outputs": [
    {
     "data": {
      "text/plain": [
       "{'_id': ObjectId('5ae618241c398f14a3c0d5a8'),\n",
       " 'created_at': 'Sun Apr 29 18:22:41 +0000 2018',\n",
       " 'id': 990657640584941575,\n",
       " 'id_str': '990657640584941575',\n",
       " 'text': 'It’s hard to choose just 1 lake of our 10,000+, but @mprnews has narrowed it down in their Minnesota’s Most-Loved L… https://t.co/74H5danWhH',\n",
       " 'truncated': True,\n",
       " 'entities': {'hashtags': [],\n",
       "  'symbols': [],\n",
       "  'user_mentions': [{'screen_name': 'MPRnews',\n",
       "    'name': 'MPR News',\n",
       "    'id': 15965292,\n",
       "    'id_str': '15965292',\n",
       "    'indices': [52, 60]}],\n",
       "  'urls': [{'url': 'https://t.co/74H5danWhH',\n",
       "    'expanded_url': 'https://twitter.com/i/web/status/990657640584941575',\n",
       "    'display_url': 'twitter.com/i/web/status/9…',\n",
       "    'indices': [117, 140]}]},\n",
       " 'source': '<a href=\"http://twitter.com/download/iphone\" rel=\"nofollow\">Twitter for iPhone</a>',\n",
       " 'in_reply_to_status_id': None,\n",
       " 'in_reply_to_status_id_str': None,\n",
       " 'in_reply_to_user_id': None,\n",
       " 'in_reply_to_user_id_str': None,\n",
       " 'in_reply_to_screen_name': None,\n",
       " 'user': {'id': 33537967,\n",
       "  'id_str': '33537967',\n",
       "  'name': 'Amy Klobuchar',\n",
       "  'screen_name': 'amyklobuchar',\n",
       "  'location': '',\n",
       "  'description': 'U.S. Senator from Minnesota. Follows, Retweets, Replies ≠ endorsement',\n",
       "  'url': 'http://t.co/mGGFBfggto',\n",
       "  'entities': {'url': {'urls': [{'url': 'http://t.co/mGGFBfggto',\n",
       "      'expanded_url': 'http://www.amyklobuchar.com',\n",
       "      'display_url': 'amyklobuchar.com',\n",
       "      'indices': [0, 22]}]},\n",
       "   'description': {'urls': []}},\n",
       "  'protected': False,\n",
       "  'followers_count': 429443,\n",
       "  'friends_count': 111010,\n",
       "  'listed_count': 3120,\n",
       "  'created_at': 'Mon Apr 20 14:59:36 +0000 2009',\n",
       "  'favourites_count': 27,\n",
       "  'utc_offset': -18000,\n",
       "  'time_zone': 'Central Time (US & Canada)',\n",
       "  'geo_enabled': False,\n",
       "  'verified': True,\n",
       "  'statuses_count': 6922,\n",
       "  'lang': 'en',\n",
       "  'contributors_enabled': False,\n",
       "  'is_translator': False,\n",
       "  'is_translation_enabled': False,\n",
       "  'profile_background_color': '026113',\n",
       "  'profile_background_image_url': 'http://abs.twimg.com/images/themes/theme1/bg.png',\n",
       "  'profile_background_image_url_https': 'https://abs.twimg.com/images/themes/theme1/bg.png',\n",
       "  'profile_background_tile': False,\n",
       "  'profile_image_url': 'http://pbs.twimg.com/profile_images/1815362035/AJK_Twitter_normal.jpg',\n",
       "  'profile_image_url_https': 'https://pbs.twimg.com/profile_images/1815362035/AJK_Twitter_normal.jpg',\n",
       "  'profile_banner_url': 'https://pbs.twimg.com/profile_banners/33537967/1521556556',\n",
       "  'profile_link_color': '026113',\n",
       "  'profile_sidebar_border_color': 'F6D73F',\n",
       "  'profile_sidebar_fill_color': '89BCEE',\n",
       "  'profile_text_color': '3D3C3D',\n",
       "  'profile_use_background_image': True,\n",
       "  'has_extended_profile': False,\n",
       "  'default_profile': False,\n",
       "  'default_profile_image': False,\n",
       "  'following': True,\n",
       "  'follow_request_sent': False,\n",
       "  'notifications': False,\n",
       "  'translator_type': 'regular'},\n",
       " 'geo': None,\n",
       " 'coordinates': None,\n",
       " 'place': None,\n",
       " 'contributors': None,\n",
       " 'is_quote_status': False,\n",
       " 'retweet_count': 13,\n",
       " 'favorite_count': 30,\n",
       " 'favorited': False,\n",
       " 'retweeted': False,\n",
       " 'possibly_sensitive': False,\n",
       " 'possibly_sensitive_appealable': False,\n",
       " 'lang': 'en'}"
      ]
     },
     "execution_count": 2,
     "metadata": {},
     "output_type": "execute_result"
    }
   ],
   "source": [
    "# Get the tweets stored in MongoDB\n",
    "client = pymongo.MongoClient()\n",
    "tweets = client['twitter']['tweets'].find()\n",
    "tweets[6]"
   ]
  },
  {
   "cell_type": "code",
   "execution_count": 3,
   "metadata": {},
   "outputs": [],
   "source": [
    "# Break the text content apart for better formatting.\n",
    "words = tweets[6]['text'].split(' ')"
   ]
  },
  {
   "cell_type": "code",
   "execution_count": 4,
   "metadata": {},
   "outputs": [
    {
     "data": {
      "text/plain": [
       "['It’s',\n",
       " 'hard',\n",
       " 'to',\n",
       " 'choose',\n",
       " 'just',\n",
       " '1',\n",
       " 'lake',\n",
       " 'of',\n",
       " 'our',\n",
       " '10,000+,',\n",
       " 'but',\n",
       " '@mprnews',\n",
       " 'has',\n",
       " 'narrowed',\n",
       " 'it',\n",
       " 'down',\n",
       " 'in',\n",
       " 'their',\n",
       " 'Minnesota’s',\n",
       " 'Most-Loved',\n",
       " 'L…',\n",
       " 'https://t.co/74H5danWhH']"
      ]
     },
     "execution_count": 4,
     "metadata": {},
     "output_type": "execute_result"
    }
   ],
   "source": [
    "# Display the broken down list of each 'word'.\n",
    "words"
   ]
  },
  {
   "cell_type": "code",
   "execution_count": 5,
   "metadata": {},
   "outputs": [
    {
     "data": {
      "text/plain": [
       "['https://t.co/74H5danWhH']"
      ]
     },
     "execution_count": 5,
     "metadata": {},
     "output_type": "execute_result"
    }
   ],
   "source": [
    "# Find any urls in the list of words.\n",
    "# Located better regex for url pattern matching - http://www.noah.org/wiki/RegEx_Python\n",
    "def url_locator(word_list):\n",
    "    urls = []\n",
    "    for word in word_list:\n",
    "        url = re.findall('http[s]?://(?:[a-zA-Z]|[0-9]|[$-_@.&+]|[!*\\(\\),]|(?:%[0-9a-fA-F][0-9a-fA-F]))+', word)\n",
    "        if url:\n",
    "            urls.append(url[0])\n",
    "    return urls\n",
    "urls = url_locator(words)\n",
    "urls"
   ]
  },
  {
   "cell_type": "code",
   "execution_count": 6,
   "metadata": {},
   "outputs": [
    {
     "data": {
      "text/plain": [
       "['It’s',\n",
       " 'hard',\n",
       " 'to',\n",
       " 'choose',\n",
       " 'just',\n",
       " '1',\n",
       " 'lake',\n",
       " 'of',\n",
       " 'our',\n",
       " '10,000+,',\n",
       " 'but',\n",
       " '@mprnews',\n",
       " 'has',\n",
       " 'narrowed',\n",
       " 'it',\n",
       " 'down',\n",
       " 'in',\n",
       " 'their',\n",
       " 'Minnesota’s',\n",
       " 'Most-Loved',\n",
       " 'L…']"
      ]
     },
     "execution_count": 6,
     "metadata": {},
     "output_type": "execute_result"
    }
   ],
   "source": [
    "def remove_urls_from_word_list(word_list, url_list):\n",
    "    for url in url_list:\n",
    "        idx = word_list.index(url)\n",
    "        del word_list[idx]\n",
    "    return word_list\n",
    "\n",
    "words = remove_urls_from_word_list(words, urls)\n",
    "words"
   ]
  },
  {
   "cell_type": "code",
   "execution_count": 7,
   "metadata": {},
   "outputs": [
    {
     "data": {
      "text/plain": [
       "['@mprnews']"
      ]
     },
     "execution_count": 7,
     "metadata": {},
     "output_type": "execute_result"
    }
   ],
   "source": [
    "# remove @mentions\n",
    "def remove_user_handles(word_list):\n",
    "    user_handle = []\n",
    "    for word in word_list:\n",
    "        if word.startswith('@'):\n",
    "            user_handle.append(word)\n",
    "    return user_handle\n",
    "\n",
    "users = remove_user_handles(words)\n",
    "users        "
   ]
  },
  {
   "cell_type": "code",
   "execution_count": 8,
   "metadata": {},
   "outputs": [
    {
     "data": {
      "text/plain": [
       "['Its',\n",
       " 'hard',\n",
       " 'to',\n",
       " 'choose',\n",
       " 'just',\n",
       " '1',\n",
       " 'lake',\n",
       " 'of',\n",
       " 'our',\n",
       " '10000',\n",
       " 'but',\n",
       " 'mprnews',\n",
       " 'has',\n",
       " 'narrowed',\n",
       " 'it',\n",
       " 'down',\n",
       " 'in',\n",
       " 'their',\n",
       " 'Minnesotas',\n",
       " 'MostLoved',\n",
       " 'L']"
      ]
     },
     "execution_count": 8,
     "metadata": {},
     "output_type": "execute_result"
    }
   ],
   "source": [
    "# def remove_extra_characters(word_list):\n",
    "def strip_extra_characters(word_list):\n",
    "    clean_list = []\n",
    "    regex = re.compile('[^a-zA-Z0-9]')\n",
    "    for word in word_list:\n",
    "        clean_list.append(regex.sub('', word))\n",
    "    return clean_list\n",
    "clean_words = strip_extra_characters(words)\n",
    "clean_words"
   ]
  },
  {
   "cell_type": "code",
   "execution_count": 9,
   "metadata": {},
   "outputs": [
    {
     "data": {
      "text/plain": [
       "['Minnesota’s', 'L…', '@mprnews', 'It’s', 'Most-Loved', '10,000+,']"
      ]
     },
     "execution_count": 9,
     "metadata": {},
     "output_type": "execute_result"
    }
   ],
   "source": [
    "list(set(words) - set(clean_words))"
   ]
  }
 ],
 "metadata": {
  "kernelspec": {
   "display_name": "Python 3",
   "language": "python",
   "name": "python3"
  },
  "language_info": {
   "codemirror_mode": {
    "name": "ipython",
    "version": 3
   },
   "file_extension": ".py",
   "mimetype": "text/x-python",
   "name": "python",
   "nbconvert_exporter": "python",
   "pygments_lexer": "ipython3",
   "version": "3.6.5"
  }
 },
 "nbformat": 4,
 "nbformat_minor": 2
}
