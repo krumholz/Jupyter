{
 "cells": [
  {
   "cell_type": "markdown",
   "metadata": {},
   "source": [
    "# Analysis of tweet text"
   ]
  },
  {
   "cell_type": "code",
   "execution_count": 1,
   "metadata": {},
   "outputs": [],
   "source": [
    "import pymongo\n",
    "import re"
   ]
  },
  {
   "cell_type": "code",
   "execution_count": 2,
   "metadata": {
    "scrolled": true
   },
   "outputs": [
    {
     "data": {
      "text/plain": [
       "{'_id': ObjectId('5ae674b81c398f21b4830a9f'),\n",
       " 'created_at': 'Mon Apr 30 01:15:01 +0000 2018',\n",
       " 'id': 990761405816229888,\n",
       " 'id_str': '990761405816229888',\n",
       " 'full_text': 'RT @rrrins: What if we could detect the initial stages of breast cancer with something as simple as a breath test? https://t.co/S2VISdoC4K',\n",
       " 'truncated': False,\n",
       " 'display_text_range': [0, 138],\n",
       " 'entities': {'hashtags': [],\n",
       "  'symbols': [],\n",
       "  'user_mentions': [{'screen_name': 'rrrins',\n",
       "    'name': 'Rina Raphael',\n",
       "    'id': 20960764,\n",
       "    'id_str': '20960764',\n",
       "    'indices': [3, 10]}],\n",
       "  'urls': [{'url': 'https://t.co/S2VISdoC4K',\n",
       "    'expanded_url': 'https://www.fastcompany.com/40565043/breath-and-urine-tests-might-be-the-future-of-breast-cancer-screening',\n",
       "    'display_url': 'fastcompany.com/40565043/breat…',\n",
       "    'indices': [115, 138]}]},\n",
       " 'source': '<a href=\"http://bufferapp.com\" rel=\"nofollow\">Buffer</a>',\n",
       " 'in_reply_to_status_id': None,\n",
       " 'in_reply_to_status_id_str': None,\n",
       " 'in_reply_to_user_id': None,\n",
       " 'in_reply_to_user_id_str': None,\n",
       " 'in_reply_to_screen_name': None,\n",
       " 'user': {'id': 2735591,\n",
       "  'id_str': '2735591',\n",
       "  'name': 'Fast Company',\n",
       "  'screen_name': 'FastCompany',\n",
       "  'location': 'New York, NY',\n",
       "  'description': 'Official Twitter feed for the Fast Company business media brand;  inspiring readers to think beyond traditional boundaries & create the future of business.',\n",
       "  'url': 'http://t.co/GBtvUq9rZp',\n",
       "  'entities': {'url': {'urls': [{'url': 'http://t.co/GBtvUq9rZp',\n",
       "      'expanded_url': 'http://www.fastcompany.com',\n",
       "      'display_url': 'fastcompany.com',\n",
       "      'indices': [0, 22]}]},\n",
       "   'description': {'urls': []}},\n",
       "  'protected': False,\n",
       "  'followers_count': 2346115,\n",
       "  'friends_count': 4080,\n",
       "  'listed_count': 44725,\n",
       "  'created_at': 'Wed Mar 28 22:39:21 +0000 2007',\n",
       "  'favourites_count': 9000,\n",
       "  'utc_offset': -14400,\n",
       "  'time_zone': 'Eastern Time (US & Canada)',\n",
       "  'geo_enabled': True,\n",
       "  'verified': True,\n",
       "  'statuses_count': 183700,\n",
       "  'lang': 'en',\n",
       "  'contributors_enabled': False,\n",
       "  'is_translator': False,\n",
       "  'is_translation_enabled': True,\n",
       "  'profile_background_color': 'FFFFFF',\n",
       "  'profile_background_image_url': 'http://pbs.twimg.com/profile_background_images/425029708/2048x1600-fc-twitter-backgrd.png',\n",
       "  'profile_background_image_url_https': 'https://pbs.twimg.com/profile_background_images/425029708/2048x1600-fc-twitter-backgrd.png',\n",
       "  'profile_background_tile': False,\n",
       "  'profile_image_url': 'http://pbs.twimg.com/profile_images/875769219400351744/ib7iIvRF_normal.jpg',\n",
       "  'profile_image_url_https': 'https://pbs.twimg.com/profile_images/875769219400351744/ib7iIvRF_normal.jpg',\n",
       "  'profile_banner_url': 'https://pbs.twimg.com/profile_banners/2735591/1523472730',\n",
       "  'profile_link_color': '9AB2B4',\n",
       "  'profile_sidebar_border_color': '5A5A5A',\n",
       "  'profile_sidebar_fill_color': 'CCCCCC',\n",
       "  'profile_text_color': '000000',\n",
       "  'profile_use_background_image': True,\n",
       "  'has_extended_profile': False,\n",
       "  'default_profile': False,\n",
       "  'default_profile_image': False,\n",
       "  'following': True,\n",
       "  'follow_request_sent': False,\n",
       "  'notifications': False,\n",
       "  'translator_type': 'none'},\n",
       " 'geo': None,\n",
       " 'coordinates': None,\n",
       " 'place': None,\n",
       " 'contributors': None,\n",
       " 'retweeted_status': {'created_at': 'Fri Apr 27 21:48:04 +0000 2018',\n",
       "  'id': 989984549286244352,\n",
       "  'id_str': '989984549286244352',\n",
       "  'full_text': 'What if we could detect the initial stages of breast cancer with something as simple as a breath test? https://t.co/S2VISdoC4K',\n",
       "  'truncated': False,\n",
       "  'display_text_range': [0, 126],\n",
       "  'entities': {'hashtags': [],\n",
       "   'symbols': [],\n",
       "   'user_mentions': [],\n",
       "   'urls': [{'url': 'https://t.co/S2VISdoC4K',\n",
       "     'expanded_url': 'https://www.fastcompany.com/40565043/breath-and-urine-tests-might-be-the-future-of-breast-cancer-screening',\n",
       "     'display_url': 'fastcompany.com/40565043/breat…',\n",
       "     'indices': [103, 126]}]},\n",
       "  'source': '<a href=\"http://twitter.com\" rel=\"nofollow\">Twitter Web Client</a>',\n",
       "  'in_reply_to_status_id': None,\n",
       "  'in_reply_to_status_id_str': None,\n",
       "  'in_reply_to_user_id': None,\n",
       "  'in_reply_to_user_id_str': None,\n",
       "  'in_reply_to_screen_name': None,\n",
       "  'user': {'id': 20960764,\n",
       "   'id_str': '20960764',\n",
       "   'name': 'Rina Raphael',\n",
       "   'screen_name': 'rrrins',\n",
       "   'location': 'Los Angeles, CA',\n",
       "   'description': '@fastcompany journalist / feminist / cheese fondler / Lannister supporter',\n",
       "   'url': None,\n",
       "   'entities': {'description': {'urls': []}},\n",
       "   'protected': False,\n",
       "   'followers_count': 4594,\n",
       "   'friends_count': 744,\n",
       "   'listed_count': 76,\n",
       "   'created_at': 'Mon Feb 16 03:50:43 +0000 2009',\n",
       "   'favourites_count': 3696,\n",
       "   'utc_offset': -18000,\n",
       "   'time_zone': 'Quito',\n",
       "   'geo_enabled': True,\n",
       "   'verified': False,\n",
       "   'statuses_count': 1978,\n",
       "   'lang': 'en',\n",
       "   'contributors_enabled': False,\n",
       "   'is_translator': False,\n",
       "   'is_translation_enabled': False,\n",
       "   'profile_background_color': '9AE4E8',\n",
       "   'profile_background_image_url': 'http://pbs.twimg.com/profile_background_images/378800000176256443/bxUo_HOY.jpeg',\n",
       "   'profile_background_image_url_https': 'https://pbs.twimg.com/profile_background_images/378800000176256443/bxUo_HOY.jpeg',\n",
       "   'profile_background_tile': False,\n",
       "   'profile_image_url': 'http://pbs.twimg.com/profile_images/78694482/n519589147_1929049_9002_normal.jpg',\n",
       "   'profile_image_url_https': 'https://pbs.twimg.com/profile_images/78694482/n519589147_1929049_9002_normal.jpg',\n",
       "   'profile_banner_url': 'https://pbs.twimg.com/profile_banners/20960764/1476831416',\n",
       "   'profile_link_color': '0084B4',\n",
       "   'profile_sidebar_border_color': 'FFFFFF',\n",
       "   'profile_sidebar_fill_color': 'DDFFCC',\n",
       "   'profile_text_color': '333333',\n",
       "   'profile_use_background_image': False,\n",
       "   'has_extended_profile': False,\n",
       "   'default_profile': False,\n",
       "   'default_profile_image': False,\n",
       "   'following': False,\n",
       "   'follow_request_sent': False,\n",
       "   'notifications': False,\n",
       "   'translator_type': 'none'},\n",
       "  'geo': None,\n",
       "  'coordinates': None,\n",
       "  'place': None,\n",
       "  'contributors': None,\n",
       "  'is_quote_status': False,\n",
       "  'retweet_count': 9,\n",
       "  'favorite_count': 18,\n",
       "  'favorited': False,\n",
       "  'retweeted': False,\n",
       "  'possibly_sensitive': False,\n",
       "  'possibly_sensitive_appealable': False,\n",
       "  'lang': 'en'},\n",
       " 'is_quote_status': False,\n",
       " 'retweet_count': 9,\n",
       " 'favorite_count': 0,\n",
       " 'favorited': False,\n",
       " 'retweeted': False,\n",
       " 'possibly_sensitive': False,\n",
       " 'possibly_sensitive_appealable': False,\n",
       " 'lang': 'en'}"
      ]
     },
     "execution_count": 2,
     "metadata": {},
     "output_type": "execute_result"
    }
   ],
   "source": [
    "# Get the tweets stored in MongoDB\n",
    "client = pymongo.MongoClient()\n",
    "tweets = client['twitter']['tweets'].find()\n",
    "tweets[4]"
   ]
  },
  {
   "cell_type": "code",
   "execution_count": 3,
   "metadata": {},
   "outputs": [],
   "source": [
    "# Break the text content apart for better formatting.\n",
    "words = tweets[4]['full_text'].split(' ')"
   ]
  },
  {
   "cell_type": "code",
   "execution_count": 4,
   "metadata": {},
   "outputs": [
    {
     "data": {
      "text/plain": [
       "['RT',\n",
       " '@rrrins:',\n",
       " 'What',\n",
       " 'if',\n",
       " 'we',\n",
       " 'could',\n",
       " 'detect',\n",
       " 'the',\n",
       " 'initial',\n",
       " 'stages',\n",
       " 'of',\n",
       " 'breast',\n",
       " 'cancer',\n",
       " 'with',\n",
       " 'something',\n",
       " 'as',\n",
       " 'simple',\n",
       " 'as',\n",
       " 'a',\n",
       " 'breath',\n",
       " 'test?',\n",
       " 'https://t.co/S2VISdoC4K']"
      ]
     },
     "execution_count": 4,
     "metadata": {},
     "output_type": "execute_result"
    }
   ],
   "source": [
    "# Display the broken down list of each 'word'.\n",
    "words"
   ]
  },
  {
   "cell_type": "code",
   "execution_count": 5,
   "metadata": {},
   "outputs": [
    {
     "data": {
      "text/plain": [
       "['https://t.co/S2VISdoC4K']"
      ]
     },
     "execution_count": 5,
     "metadata": {},
     "output_type": "execute_result"
    }
   ],
   "source": [
    "# Find any urls in the list of words.\n",
    "# Located better regex for url pattern matching - http://www.noah.org/wiki/RegEx_Python\n",
    "def url_locator(word_list):\n",
    "    urls = []\n",
    "    for word in word_list:\n",
    "        url = re.findall('http[s]?://(?:[a-zA-Z]|[0-9]|[$-_@.&+]|[!*\\(\\),]|(?:%[0-9a-fA-F][0-9a-fA-F]))+', word)\n",
    "        if url:\n",
    "            urls.append(url[0])\n",
    "    return urls\n",
    "urls = url_locator(words)\n",
    "urls"
   ]
  },
  {
   "cell_type": "code",
   "execution_count": 6,
   "metadata": {},
   "outputs": [
    {
     "data": {
      "text/plain": [
       "['RT',\n",
       " '@rrrins:',\n",
       " 'What',\n",
       " 'if',\n",
       " 'we',\n",
       " 'could',\n",
       " 'detect',\n",
       " 'the',\n",
       " 'initial',\n",
       " 'stages',\n",
       " 'of',\n",
       " 'breast',\n",
       " 'cancer',\n",
       " 'with',\n",
       " 'something',\n",
       " 'as',\n",
       " 'simple',\n",
       " 'as',\n",
       " 'a',\n",
       " 'breath',\n",
       " 'test?']"
      ]
     },
     "execution_count": 6,
     "metadata": {},
     "output_type": "execute_result"
    }
   ],
   "source": [
    "def remove_urls_from_word_list(word_list, url_list):\n",
    "    for url in url_list:\n",
    "        idx = word_list.index(url)\n",
    "        del word_list[idx]\n",
    "    return word_list\n",
    "\n",
    "words = remove_urls_from_word_list(words, urls)\n",
    "words"
   ]
  },
  {
   "cell_type": "code",
   "execution_count": 7,
   "metadata": {},
   "outputs": [
    {
     "data": {
      "text/plain": [
       "['@rrrins:']"
      ]
     },
     "execution_count": 7,
     "metadata": {},
     "output_type": "execute_result"
    }
   ],
   "source": [
    "# remove @mentions\n",
    "def remove_user_handles(word_list):\n",
    "    user_handle = []\n",
    "    for word in word_list:\n",
    "        if word.startswith('@'):\n",
    "            user_handle.append(word)\n",
    "    return user_handle\n",
    "\n",
    "users = remove_user_handles(words)\n",
    "users        "
   ]
  },
  {
   "cell_type": "code",
   "execution_count": 8,
   "metadata": {},
   "outputs": [
    {
     "data": {
      "text/plain": [
       "['RT',\n",
       " 'rrrins',\n",
       " 'What',\n",
       " 'if',\n",
       " 'we',\n",
       " 'could',\n",
       " 'detect',\n",
       " 'the',\n",
       " 'initial',\n",
       " 'stages',\n",
       " 'of',\n",
       " 'breast',\n",
       " 'cancer',\n",
       " 'with',\n",
       " 'something',\n",
       " 'as',\n",
       " 'simple',\n",
       " 'as',\n",
       " 'a',\n",
       " 'breath',\n",
       " 'test']"
      ]
     },
     "execution_count": 8,
     "metadata": {},
     "output_type": "execute_result"
    }
   ],
   "source": [
    "# def remove_extra_characters(word_list):\n",
    "def strip_extra_characters(word_list):\n",
    "    clean_list = []\n",
    "    regex = re.compile('[^a-zA-Z0-9]')\n",
    "    for word in word_list:\n",
    "        clean_list.append(regex.sub('', word))\n",
    "    return clean_list\n",
    "clean_words = strip_extra_characters(words)\n",
    "clean_words"
   ]
  },
  {
   "cell_type": "code",
   "execution_count": 9,
   "metadata": {},
   "outputs": [
    {
     "data": {
      "text/plain": [
       "['test?', '@rrrins:']"
      ]
     },
     "execution_count": 9,
     "metadata": {},
     "output_type": "execute_result"
    }
   ],
   "source": [
    "list(set(words) - set(clean_words))"
   ]
  }
 ],
 "metadata": {
  "kernelspec": {
   "display_name": "Python 3",
   "language": "python",
   "name": "python3"
  },
  "language_info": {
   "codemirror_mode": {
    "name": "ipython",
    "version": 3
   },
   "file_extension": ".py",
   "mimetype": "text/x-python",
   "name": "python",
   "nbconvert_exporter": "python",
   "pygments_lexer": "ipython3",
   "version": "3.6.5"
  }
 },
 "nbformat": 4,
 "nbformat_minor": 2
}
