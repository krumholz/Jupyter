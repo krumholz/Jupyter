{
 "cells": [
  {
   "cell_type": "markdown",
   "metadata": {},
   "source": [
    "# Analysis of tweet text"
   ]
  },
  {
   "cell_type": "code",
   "execution_count": 1,
   "metadata": {},
   "outputs": [],
   "source": [
    "import pymongo\n",
    "import re\n",
    "import pprint\n",
    "import logging"
   ]
  },
  {
   "cell_type": "code",
   "execution_count": 2,
   "metadata": {},
   "outputs": [
    {
     "name": "stderr",
     "output_type": "stream",
     "text": [
      "2018-05-09 23:27:00,310 - DEBUG - Start of program\n"
     ]
    }
   ],
   "source": [
    "# Logging functionality\n",
    "logging.basicConfig(level=logging.DEBUG, format='%(asctime)s - %(levelname)s - %(message)s')\n",
    "logging.debug('Start of program')"
   ]
  },
  {
   "cell_type": "code",
   "execution_count": 3,
   "metadata": {
    "scrolled": true
   },
   "outputs": [],
   "source": [
    "# Get the tweets stored in MongoDB\n",
    "client = pymongo.MongoClient()\n",
    "tweets = client['twitter']['tweets'].find()\n",
    "latest_tweet = tweets[26]"
   ]
  },
  {
   "cell_type": "code",
   "execution_count": 4,
   "metadata": {},
   "outputs": [],
   "source": [
    "def remove_from_word_list(original_list, list_subset):\n",
    "    for each in list_subset:\n",
    "        idx = original_list.index(each)\n",
    "        del original_list[idx]\n",
    "    return original_list"
   ]
  },
  {
   "cell_type": "code",
   "execution_count": 5,
   "metadata": {},
   "outputs": [
    {
     "name": "stdout",
     "output_type": "stream",
     "text": [
      "By The Guardian on Mon Apr 30 18:45:05 +0000 2018\n",
      "\n",
      "\"Labour suspends John Woodcock over sexual harassment claim https://t.co/7kpIXGuYTV\"\n",
      "\n",
      "https://trib.al/1TTGn0U\n",
      "\n",
      "{'hashtags': [],\n",
      " 'symbols': [],\n",
      " 'urls': [{'display_url': 'trib.al/1TTGn0U',\n",
      "           'expanded_url': 'https://trib.al/1TTGn0U',\n",
      "           'indices': [59, 82],\n",
      "           'url': 'https://t.co/7kpIXGuYTV'}],\n",
      " 'user_mentions': []}\n"
     ]
    }
   ],
   "source": [
    "def print_important_content(tweet):\n",
    "    print('By {} on {}\\n'.format(tweet['user']['name'], tweet['created_at']))\n",
    "    print('\"{}\"\\n'.format(tweet['full_text']))\n",
    "    print('{}\\n'.format(tweet['entities']['urls'][0]['expanded_url']))\n",
    "    pprint.pprint(tweet['entities'])\n",
    "    \n",
    "print_important_content(latest_tweet)"
   ]
  },
  {
   "cell_type": "code",
   "execution_count": 6,
   "metadata": {},
   "outputs": [
    {
     "data": {
      "text/plain": [
       "'https://trib.al/1TTGn0U'"
      ]
     },
     "execution_count": 6,
     "metadata": {},
     "output_type": "execute_result"
    }
   ],
   "source": [
    "full_url = latest_tweet['entities']['urls'][0]['expanded_url']\n",
    "full_url"
   ]
  },
  {
   "cell_type": "code",
   "execution_count": 7,
   "metadata": {},
   "outputs": [
    {
     "data": {
      "text/plain": [
       "[]"
      ]
     },
     "execution_count": 7,
     "metadata": {},
     "output_type": "execute_result"
    }
   ],
   "source": [
    "def hashtag(tweet):\n",
    "    hashtag_list = []\n",
    "    for tag in tweet['hashtags']:\n",
    "        hashtag_list.append('#' + tag['text'])\n",
    "    return hashtag_list\n",
    "\n",
    "hashtags = hashtag(latest_tweet['entities'])\n",
    "hashtags"
   ]
  },
  {
   "cell_type": "code",
   "execution_count": 8,
   "metadata": {
    "scrolled": true
   },
   "outputs": [
    {
     "data": {
      "text/plain": [
       "{'_id': ObjectId('5ae766611c398f0d01baa6ee'),\n",
       " 'created_at': 'Mon Apr 30 18:45:05 +0000 2018',\n",
       " 'id': 991025665351868423,\n",
       " 'id_str': '991025665351868423',\n",
       " 'full_text': 'Labour suspends John Woodcock over sexual harassment claim https://t.co/7kpIXGuYTV',\n",
       " 'truncated': False,\n",
       " 'display_text_range': [0, 82],\n",
       " 'entities': {'hashtags': [],\n",
       "  'symbols': [],\n",
       "  'user_mentions': [],\n",
       "  'urls': [{'url': 'https://t.co/7kpIXGuYTV',\n",
       "    'expanded_url': 'https://trib.al/1TTGn0U',\n",
       "    'display_url': 'trib.al/1TTGn0U',\n",
       "    'indices': [59, 82]}]},\n",
       " 'source': '<a href=\"http://www.socialflow.com\" rel=\"nofollow\">SocialFlow</a>',\n",
       " 'in_reply_to_status_id': None,\n",
       " 'in_reply_to_status_id_str': None,\n",
       " 'in_reply_to_user_id': None,\n",
       " 'in_reply_to_user_id_str': None,\n",
       " 'in_reply_to_screen_name': None,\n",
       " 'user': {'id': 87818409,\n",
       "  'id_str': '87818409',\n",
       "  'name': 'The Guardian',\n",
       "  'screen_name': 'guardian',\n",
       "  'location': 'London',\n",
       "  'description': 'The need for independent journalism has never been greater. Become a Guardian supporter: https://t.co/EWg9aqA7PQ',\n",
       "  'url': 'https://t.co/c53pnmnuIT',\n",
       "  'entities': {'url': {'urls': [{'url': 'https://t.co/c53pnmnuIT',\n",
       "      'expanded_url': 'https://www.theguardian.com',\n",
       "      'display_url': 'theguardian.com',\n",
       "      'indices': [0, 23]}]},\n",
       "   'description': {'urls': [{'url': 'https://t.co/EWg9aqA7PQ',\n",
       "      'expanded_url': 'http://gu.com/supporter/twitter',\n",
       "      'display_url': 'gu.com/supporter/twit…',\n",
       "      'indices': [89, 112]}]}},\n",
       "  'protected': False,\n",
       "  'followers_count': 7168192,\n",
       "  'friends_count': 1107,\n",
       "  'listed_count': 56569,\n",
       "  'created_at': 'Thu Nov 05 23:49:19 +0000 2009',\n",
       "  'favourites_count': 150,\n",
       "  'utc_offset': 3600,\n",
       "  'time_zone': 'London',\n",
       "  'geo_enabled': False,\n",
       "  'verified': True,\n",
       "  'statuses_count': 432362,\n",
       "  'lang': 'en',\n",
       "  'contributors_enabled': False,\n",
       "  'is_translator': False,\n",
       "  'is_translation_enabled': True,\n",
       "  'profile_background_color': 'FFFFFF',\n",
       "  'profile_background_image_url': 'http://pbs.twimg.com/profile_background_images/704160749/ff996aa3bc2009a2f9b97cdd43e8b5b7.png',\n",
       "  'profile_background_image_url_https': 'https://pbs.twimg.com/profile_background_images/704160749/ff996aa3bc2009a2f9b97cdd43e8b5b7.png',\n",
       "  'profile_background_tile': False,\n",
       "  'profile_image_url': 'http://pbs.twimg.com/profile_images/952866338187423744/0hj7a-EH_normal.jpg',\n",
       "  'profile_image_url_https': 'https://pbs.twimg.com/profile_images/952866338187423744/0hj7a-EH_normal.jpg',\n",
       "  'profile_banner_url': 'https://pbs.twimg.com/profile_banners/87818409/1515996506',\n",
       "  'profile_link_color': '005789',\n",
       "  'profile_sidebar_border_color': 'FFFFFF',\n",
       "  'profile_sidebar_fill_color': 'CAE3F3',\n",
       "  'profile_text_color': '333333',\n",
       "  'profile_use_background_image': False,\n",
       "  'has_extended_profile': False,\n",
       "  'default_profile': False,\n",
       "  'default_profile_image': False,\n",
       "  'following': True,\n",
       "  'follow_request_sent': False,\n",
       "  'notifications': False,\n",
       "  'translator_type': 'regular'},\n",
       " 'geo': None,\n",
       " 'coordinates': None,\n",
       " 'place': None,\n",
       " 'contributors': None,\n",
       " 'is_quote_status': False,\n",
       " 'retweet_count': 10,\n",
       " 'favorite_count': 9,\n",
       " 'favorited': False,\n",
       " 'retweeted': False,\n",
       " 'possibly_sensitive': False,\n",
       " 'possibly_sensitive_appealable': False,\n",
       " 'lang': 'en'}"
      ]
     },
     "execution_count": 8,
     "metadata": {},
     "output_type": "execute_result"
    }
   ],
   "source": [
    "latest_tweet"
   ]
  },
  {
   "cell_type": "code",
   "execution_count": 9,
   "metadata": {},
   "outputs": [],
   "source": [
    "# Break the text content apart for better formatting.\n",
    "words = latest_tweet['full_text'].split(' ')"
   ]
  },
  {
   "cell_type": "code",
   "execution_count": 10,
   "metadata": {},
   "outputs": [
    {
     "data": {
      "text/plain": [
       "['Labour',\n",
       " 'suspends',\n",
       " 'John',\n",
       " 'Woodcock',\n",
       " 'over',\n",
       " 'sexual',\n",
       " 'harassment',\n",
       " 'claim',\n",
       " 'https://t.co/7kpIXGuYTV']"
      ]
     },
     "execution_count": 10,
     "metadata": {},
     "output_type": "execute_result"
    }
   ],
   "source": [
    "# Display the broken down list of each 'word'.\n",
    "words"
   ]
  },
  {
   "cell_type": "code",
   "execution_count": 11,
   "metadata": {},
   "outputs": [
    {
     "data": {
      "text/plain": [
       "['Labour',\n",
       " 'suspends',\n",
       " 'John',\n",
       " 'Woodcock',\n",
       " 'over',\n",
       " 'sexual',\n",
       " 'harassment',\n",
       " 'claim',\n",
       " 'https://t.co/7kpIXGuYTV']"
      ]
     },
     "execution_count": 11,
     "metadata": {},
     "output_type": "execute_result"
    }
   ],
   "source": [
    "words = remove_from_word_list(words, hashtags)\n",
    "words"
   ]
  },
  {
   "cell_type": "code",
   "execution_count": 12,
   "metadata": {},
   "outputs": [
    {
     "data": {
      "text/plain": [
       "['https://t.co/7kpIXGuYTV']"
      ]
     },
     "execution_count": 12,
     "metadata": {},
     "output_type": "execute_result"
    }
   ],
   "source": [
    "# Find any urls in the list of words.\n",
    "# Located better regex for url pattern matching - http://www.noah.org/wiki/RegEx_Python\n",
    "def url_locator(word_list):\n",
    "    urls = []\n",
    "    for word in word_list:\n",
    "        url = re.findall('http[s]?://(?:[a-zA-Z]|[0-9]|[$-_@.&+]|[!*\\(\\),]|(?:%[0-9a-fA-F][0-9a-fA-F]))+', word)\n",
    "        if url:\n",
    "            urls.append(url[0])\n",
    "    return urls\n",
    "urls = url_locator(words)\n",
    "urls"
   ]
  },
  {
   "cell_type": "code",
   "execution_count": 13,
   "metadata": {},
   "outputs": [
    {
     "data": {
      "text/plain": [
       "['Labour',\n",
       " 'suspends',\n",
       " 'John',\n",
       " 'Woodcock',\n",
       " 'over',\n",
       " 'sexual',\n",
       " 'harassment',\n",
       " 'claim']"
      ]
     },
     "execution_count": 13,
     "metadata": {},
     "output_type": "execute_result"
    }
   ],
   "source": [
    "words = remove_from_word_list(words, urls)\n",
    "words"
   ]
  },
  {
   "cell_type": "code",
   "execution_count": 14,
   "metadata": {},
   "outputs": [
    {
     "data": {
      "text/plain": [
       "[]"
      ]
     },
     "execution_count": 14,
     "metadata": {},
     "output_type": "execute_result"
    }
   ],
   "source": [
    "# remove @mentions\n",
    "def detect_user_handles(word_list):\n",
    "    user_handle = []\n",
    "    for word in word_list:\n",
    "        if word.startswith('@'):\n",
    "            user_handle.append(word)\n",
    "    return user_handle\n",
    "\n",
    "users = detect_user_handles(words)\n",
    "users"
   ]
  },
  {
   "cell_type": "code",
   "execution_count": 15,
   "metadata": {},
   "outputs": [
    {
     "data": {
      "text/plain": [
       "['Labour',\n",
       " 'suspends',\n",
       " 'John',\n",
       " 'Woodcock',\n",
       " 'over',\n",
       " 'sexual',\n",
       " 'harassment',\n",
       " 'claim']"
      ]
     },
     "execution_count": 15,
     "metadata": {},
     "output_type": "execute_result"
    }
   ],
   "source": [
    "words = remove_from_word_list(words, users)\n",
    "words"
   ]
  },
  {
   "cell_type": "code",
   "execution_count": 16,
   "metadata": {},
   "outputs": [
    {
     "data": {
      "text/plain": [
       "['Labour',\n",
       " 'suspends',\n",
       " 'John',\n",
       " 'Woodcock',\n",
       " 'over',\n",
       " 'sexual',\n",
       " 'harassment',\n",
       " 'claim']"
      ]
     },
     "execution_count": 16,
     "metadata": {},
     "output_type": "execute_result"
    }
   ],
   "source": [
    "# def remove_extra_characters(word_list):\n",
    "def strip_nonalphanumeric_characters(word_list):\n",
    "    clean_list = []\n",
    "    regex = re.compile('[^a-zA-Z0-9]')\n",
    "    for word in word_list:\n",
    "        word = regex.sub('', word)\n",
    "        if word != '':\n",
    "            clean_list.append(word)\n",
    "    return clean_list\n",
    "clean_words = strip_nonalphanumeric_characters(words)\n",
    "clean_words"
   ]
  },
  {
   "cell_type": "code",
   "execution_count": 17,
   "metadata": {},
   "outputs": [
    {
     "data": {
      "text/plain": [
       "[]"
      ]
     },
     "execution_count": 17,
     "metadata": {},
     "output_type": "execute_result"
    }
   ],
   "source": [
    "list(set(words) - set(clean_words))"
   ]
  },
  {
   "cell_type": "code",
   "execution_count": 18,
   "metadata": {},
   "outputs": [
    {
     "name": "stderr",
     "output_type": "stream",
     "text": [
      "2018-05-09 23:27:00,442 - DEBUG - End of program\n"
     ]
    }
   ],
   "source": [
    "logging.debug('End of program')"
   ]
  }
 ],
 "metadata": {
  "kernelspec": {
   "display_name": "Python 3",
   "language": "python",
   "name": "python3"
  },
  "language_info": {
   "codemirror_mode": {
    "name": "ipython",
    "version": 3
   },
   "file_extension": ".py",
   "mimetype": "text/x-python",
   "name": "python",
   "nbconvert_exporter": "python",
   "pygments_lexer": "ipython3",
   "version": "3.6.5"
  }
 },
 "nbformat": 4,
 "nbformat_minor": 2
}
