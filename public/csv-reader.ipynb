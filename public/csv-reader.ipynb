{
 "cells": [
  {
   "cell_type": "markdown",
   "metadata": {},
   "source": [
    "# National Park Boundaries"
   ]
  },
  {
   "cell_type": "markdown",
   "metadata": {},
   "source": [
    "The __[National Park Boundary Set](https://catalog.data.gov/dataset/national-park-boundariesf0a4c)__ seems like it might be fun to explore."
   ]
  },
  {
   "cell_type": "code",
   "execution_count": 1,
   "metadata": {},
   "outputs": [],
   "source": [
    "# Import the pandas module to do some exploration of data.\n",
    "import pandas as pd\n",
    "\n",
    "# Some of the row data gets truncated, modify the dataframe to fit it all in.\n",
    "pd.set_option('display.max_colwidth', -1)\n",
    "\n",
    "# Save the csv file to a sensible location. Use pandas to read in the file.\n",
    "nps_boundaries = pd.read_csv('data/nps_boundary.csv')"
   ]
  },
  {
   "cell_type": "code",
   "execution_count": 2,
   "metadata": {
    "scrolled": true
   },
   "outputs": [
    {
     "data": {
      "text/plain": [
       "GIS_LOC_ID    float64\n",
       "UNIT_CODE     object \n",
       "GROUP_CODE    float64\n",
       "UNIT_NAME     object \n",
       "UNIT_TYPE     object \n",
       "META_MIDF     float64\n",
       "LANDS_CODE    float64\n",
       "DATE_EDIT     object \n",
       "GIS_NOTES     object \n",
       "observed      float64\n",
       "dtype: object"
      ]
     },
     "execution_count": 2,
     "metadata": {},
     "output_type": "execute_result"
    }
   ],
   "source": [
    "# What kinds of columns do we have.\n",
    "nps_boundaries.dtypes"
   ]
  },
  {
   "cell_type": "markdown",
   "metadata": {},
   "source": [
    "# Content Analysis"
   ]
  },
  {
   "cell_type": "markdown",
   "metadata": {},
   "source": [
    "Let's take a look at the first few rows of data to see what we're working with."
   ]
  },
  {
   "cell_type": "code",
   "execution_count": 3,
   "metadata": {
    "scrolled": true
   },
   "outputs": [
    {
     "data": {
      "text/html": [
       "<div>\n",
       "<style scoped>\n",
       "    .dataframe tbody tr th:only-of-type {\n",
       "        vertical-align: middle;\n",
       "    }\n",
       "\n",
       "    .dataframe tbody tr th {\n",
       "        vertical-align: top;\n",
       "    }\n",
       "\n",
       "    .dataframe thead th {\n",
       "        text-align: right;\n",
       "    }\n",
       "</style>\n",
       "<table border=\"1\" class=\"dataframe\">\n",
       "  <thead>\n",
       "    <tr style=\"text-align: right;\">\n",
       "      <th></th>\n",
       "      <th>GIS_LOC_ID</th>\n",
       "      <th>UNIT_CODE</th>\n",
       "      <th>GROUP_CODE</th>\n",
       "      <th>UNIT_NAME</th>\n",
       "      <th>UNIT_TYPE</th>\n",
       "      <th>META_MIDF</th>\n",
       "      <th>LANDS_CODE</th>\n",
       "      <th>DATE_EDIT</th>\n",
       "      <th>GIS_NOTES</th>\n",
       "      <th>observed</th>\n",
       "    </tr>\n",
       "  </thead>\n",
       "  <tbody>\n",
       "    <tr>\n",
       "      <th>0</th>\n",
       "      <td>NaN</td>\n",
       "      <td>NACE</td>\n",
       "      <td>NaN</td>\n",
       "      <td>Marion Park</td>\n",
       "      <td>Park</td>\n",
       "      <td>NaN</td>\n",
       "      <td>NaN</td>\n",
       "      <td>NaN</td>\n",
       "      <td>NaN</td>\n",
       "      <td>NaN</td>\n",
       "    </tr>\n",
       "    <tr>\n",
       "      <th>1</th>\n",
       "      <td>NaN</td>\n",
       "      <td>APCO</td>\n",
       "      <td>NaN</td>\n",
       "      <td>Appomattox Court House</td>\n",
       "      <td>National Historical Park</td>\n",
       "      <td>NaN</td>\n",
       "      <td>NaN</td>\n",
       "      <td>2006/01/04</td>\n",
       "      <td>Lands - http://landsnet.nps.gov/tractsnet/documents/APCO/Metadata/apco_metadata.xml</td>\n",
       "      <td>NaN</td>\n",
       "    </tr>\n",
       "    <tr>\n",
       "      <th>2</th>\n",
       "      <td>NaN</td>\n",
       "      <td>ORPI</td>\n",
       "      <td>NaN</td>\n",
       "      <td>Organ Pipe Cactus</td>\n",
       "      <td>National Monument</td>\n",
       "      <td>NaN</td>\n",
       "      <td>NaN</td>\n",
       "      <td>2007/07/10</td>\n",
       "      <td>Lands - http://landsnet.nps.gov/tractsnet/documents/ORPI/Metadata/orpi_metadata.xml</td>\n",
       "      <td>NaN</td>\n",
       "    </tr>\n",
       "    <tr>\n",
       "      <th>3</th>\n",
       "      <td>NaN</td>\n",
       "      <td>PINN</td>\n",
       "      <td>NaN</td>\n",
       "      <td>Pinnacles</td>\n",
       "      <td>National Monument</td>\n",
       "      <td>NaN</td>\n",
       "      <td>NaN</td>\n",
       "      <td>NaN</td>\n",
       "      <td>Shifted 0.06 miles</td>\n",
       "      <td>NaN</td>\n",
       "    </tr>\n",
       "    <tr>\n",
       "      <th>4</th>\n",
       "      <td>NaN</td>\n",
       "      <td>TUIN</td>\n",
       "      <td>NaN</td>\n",
       "      <td>Tuskegee Institute</td>\n",
       "      <td>National Historical Site</td>\n",
       "      <td>NaN</td>\n",
       "      <td>NaN</td>\n",
       "      <td>NaN</td>\n",
       "      <td>Good</td>\n",
       "      <td>NaN</td>\n",
       "    </tr>\n",
       "  </tbody>\n",
       "</table>\n",
       "</div>"
      ],
      "text/plain": [
       "   GIS_LOC_ID UNIT_CODE  GROUP_CODE               UNIT_NAME  \\\n",
       "0 NaN          NACE     NaN          Marion Park              \n",
       "1 NaN          APCO     NaN          Appomattox Court House   \n",
       "2 NaN          ORPI     NaN          Organ Pipe Cactus        \n",
       "3 NaN          PINN     NaN          Pinnacles                \n",
       "4 NaN          TUIN     NaN          Tuskegee Institute       \n",
       "\n",
       "                  UNIT_TYPE  META_MIDF  LANDS_CODE   DATE_EDIT  \\\n",
       "0  Park                     NaN        NaN          NaN          \n",
       "1  National Historical Park NaN        NaN          2006/01/04   \n",
       "2  National Monument        NaN        NaN          2007/07/10   \n",
       "3  National Monument        NaN        NaN          NaN          \n",
       "4  National Historical Site NaN        NaN          NaN          \n",
       "\n",
       "                                                                             GIS_NOTES  \\\n",
       "0  NaN                                                                                   \n",
       "1  Lands - http://landsnet.nps.gov/tractsnet/documents/APCO/Metadata/apco_metadata.xml   \n",
       "2  Lands - http://landsnet.nps.gov/tractsnet/documents/ORPI/Metadata/orpi_metadata.xml   \n",
       "3  Shifted 0.06 miles                                                                    \n",
       "4  Good                                                                                  \n",
       "\n",
       "   observed  \n",
       "0 NaN        \n",
       "1 NaN        \n",
       "2 NaN        \n",
       "3 NaN        \n",
       "4 NaN        "
      ]
     },
     "execution_count": 3,
     "metadata": {},
     "output_type": "execute_result"
    }
   ],
   "source": [
    "nps_boundaries.head()"
   ]
  },
  {
   "cell_type": "markdown",
   "metadata": {},
   "source": [
    "It looks like there is a bunch of missing data (NaN's) that make this dataset appear almost useless, in addition there's not a ton of context. Let's take a look at the last few rows to see if it's consistent throughout."
   ]
  },
  {
   "cell_type": "code",
   "execution_count": 6,
   "metadata": {
    "scrolled": false
   },
   "outputs": [
    {
     "data": {
      "text/html": [
       "<div>\n",
       "<style scoped>\n",
       "    .dataframe tbody tr th:only-of-type {\n",
       "        vertical-align: middle;\n",
       "    }\n",
       "\n",
       "    .dataframe tbody tr th {\n",
       "        vertical-align: top;\n",
       "    }\n",
       "\n",
       "    .dataframe thead th {\n",
       "        text-align: right;\n",
       "    }\n",
       "</style>\n",
       "<table border=\"1\" class=\"dataframe\">\n",
       "  <thead>\n",
       "    <tr style=\"text-align: right;\">\n",
       "      <th></th>\n",
       "      <th>GIS_LOC_ID</th>\n",
       "      <th>UNIT_CODE</th>\n",
       "      <th>GROUP_CODE</th>\n",
       "      <th>UNIT_NAME</th>\n",
       "      <th>UNIT_TYPE</th>\n",
       "      <th>META_MIDF</th>\n",
       "      <th>LANDS_CODE</th>\n",
       "      <th>DATE_EDIT</th>\n",
       "      <th>GIS_NOTES</th>\n",
       "      <th>observed</th>\n",
       "    </tr>\n",
       "  </thead>\n",
       "  <tbody>\n",
       "    <tr>\n",
       "      <th>505</th>\n",
       "      <td>NaN</td>\n",
       "      <td>KAHO</td>\n",
       "      <td>NaN</td>\n",
       "      <td>Kaloko-Honokohau</td>\n",
       "      <td>National Historical Park</td>\n",
       "      <td>NaN</td>\n",
       "      <td>NaN</td>\n",
       "      <td>2008/06/25</td>\n",
       "      <td>Lands - http://landsnet.nps.gov/tractsnet/documents/KAHO/Metadata/kaho_metadata.xml</td>\n",
       "      <td>NaN</td>\n",
       "    </tr>\n",
       "    <tr>\n",
       "      <th>506</th>\n",
       "      <td>NaN</td>\n",
       "      <td>CANA</td>\n",
       "      <td>NaN</td>\n",
       "      <td>Canaveral</td>\n",
       "      <td>National Seashore</td>\n",
       "      <td>NaN</td>\n",
       "      <td>NaN</td>\n",
       "      <td>2008/07/30</td>\n",
       "      <td>Lands - http://landsnet.nps.gov/tractsnet/documents/CANA/Metadata/cana_metadata.xml</td>\n",
       "      <td>NaN</td>\n",
       "    </tr>\n",
       "    <tr>\n",
       "      <th>507</th>\n",
       "      <td>NaN</td>\n",
       "      <td>MEVE</td>\n",
       "      <td>NaN</td>\n",
       "      <td>Mesa Verde</td>\n",
       "      <td>National Park</td>\n",
       "      <td>NaN</td>\n",
       "      <td>NaN</td>\n",
       "      <td>2008/08/22</td>\n",
       "      <td>Lands - http://landsnet.nps.gov/tractsnet/documents/MEVE/Metadata/meve_metadata.xml</td>\n",
       "      <td>NaN</td>\n",
       "    </tr>\n",
       "    <tr>\n",
       "      <th>508</th>\n",
       "      <td>NaN</td>\n",
       "      <td>VAFO</td>\n",
       "      <td>NaN</td>\n",
       "      <td>Valley Forge</td>\n",
       "      <td>National Historical Park</td>\n",
       "      <td>NaN</td>\n",
       "      <td>NaN</td>\n",
       "      <td>2008/09/10</td>\n",
       "      <td>Lands - http://landsnet.nps.gov/tractsnet/documents/VAFO/Metadata/vafo_metadata.xml</td>\n",
       "      <td>NaN</td>\n",
       "    </tr>\n",
       "    <tr>\n",
       "      <th>509</th>\n",
       "      <td>NaN</td>\n",
       "      <td>CABR</td>\n",
       "      <td>NaN</td>\n",
       "      <td>Cabrillo</td>\n",
       "      <td>National Monument</td>\n",
       "      <td>NaN</td>\n",
       "      <td>NaN</td>\n",
       "      <td>2008/08/28</td>\n",
       "      <td>Lands - http://landsnet.nps.gov/tractsnet/documents/CABR/Metadata/cabr_metadata.xml</td>\n",
       "      <td>NaN</td>\n",
       "    </tr>\n",
       "  </tbody>\n",
       "</table>\n",
       "</div>"
      ],
      "text/plain": [
       "     GIS_LOC_ID UNIT_CODE  GROUP_CODE         UNIT_NAME  \\\n",
       "505 NaN          KAHO     NaN          Kaloko-Honokohau   \n",
       "506 NaN          CANA     NaN          Canaveral          \n",
       "507 NaN          MEVE     NaN          Mesa Verde         \n",
       "508 NaN          VAFO     NaN          Valley Forge       \n",
       "509 NaN          CABR     NaN          Cabrillo           \n",
       "\n",
       "                    UNIT_TYPE  META_MIDF  LANDS_CODE   DATE_EDIT  \\\n",
       "505  National Historical Park NaN        NaN          2008/06/25   \n",
       "506  National Seashore        NaN        NaN          2008/07/30   \n",
       "507  National Park            NaN        NaN          2008/08/22   \n",
       "508  National Historical Park NaN        NaN          2008/09/10   \n",
       "509  National Monument        NaN        NaN          2008/08/28   \n",
       "\n",
       "                                                                               GIS_NOTES  \\\n",
       "505  Lands - http://landsnet.nps.gov/tractsnet/documents/KAHO/Metadata/kaho_metadata.xml   \n",
       "506  Lands - http://landsnet.nps.gov/tractsnet/documents/CANA/Metadata/cana_metadata.xml   \n",
       "507  Lands - http://landsnet.nps.gov/tractsnet/documents/MEVE/Metadata/meve_metadata.xml   \n",
       "508  Lands - http://landsnet.nps.gov/tractsnet/documents/VAFO/Metadata/vafo_metadata.xml   \n",
       "509  Lands - http://landsnet.nps.gov/tractsnet/documents/CABR/Metadata/cabr_metadata.xml   \n",
       "\n",
       "     observed  \n",
       "505 NaN        \n",
       "506 NaN        \n",
       "507 NaN        \n",
       "508 NaN        \n",
       "509 NaN        "
      ]
     },
     "execution_count": 6,
     "metadata": {},
     "output_type": "execute_result"
    }
   ],
   "source": [
    "nps_boundaries.tail()"
   ]
  },
  {
   "cell_type": "markdown",
   "metadata": {},
   "source": [
    "Indeed the results look just as meaningless at the bottom."
   ]
  },
  {
   "cell_type": "markdown",
   "metadata": {},
   "source": [
    "# Next Steps"
   ]
  },
  {
   "cell_type": "markdown",
   "metadata": {},
   "source": [
    "The only column that looks like it might give us something useful is GIS_NOTES. Let's look more closely at that to see what we can glean."
   ]
  },
  {
   "cell_type": "code",
   "execution_count": 5,
   "metadata": {
    "scrolled": true
   },
   "outputs": [
    {
     "data": {
      "text/plain": [
       "0      NaN                                                                                                                        \n",
       "1      Lands - http://landsnet.nps.gov/tractsnet/documents/APCO/Metadata/apco_metadata.xml                                        \n",
       "2      Lands - http://landsnet.nps.gov/tractsnet/documents/ORPI/Metadata/orpi_metadata.xml                                        \n",
       "3      Shifted 0.06 miles                                                                                                         \n",
       "4      Good                                                                                                                       \n",
       "5      POC for this update:  richard_menicke@nps.gov - http://landsnet.nps.gov/tractsnet/documents/GLAC/Metadata/glac_metadata.xml\n",
       "6      Lands - http://landsnet.nps.gov/tractsnet/documents/CEBR/Metadata/cebr_metadata.xml                                        \n",
       "7      Lands                                                                                                                      \n",
       "8      Lands - http://landsnet.nps.gov/tractsnet/documents/INDU/Metadata/indu_metadata.xml                                        \n",
       "9      Shifted 0.04 miles                                                                                                         \n",
       "10     Lands                                                                                                                      \n",
       "11     Lands - http://landsnet.nps.gov/tractsnet/documents/RRBH/Metadata/rrbh_metadata.xml                                        \n",
       "12     Lands                                                                                                                      \n",
       "13     Lands - http://landsnet.nps.gov/tractsnet/documents/FOUS/Metadata/fous_metadata.xml                                        \n",
       "14     Lands - http://landsnet.nps.gov/tractsnet/documents/ULSG/Metadata/ulsg_metadata.xml                                        \n",
       "15     POC for this update:  leslie_morlock@nps.gov - http://landsnet.nps.gov/tractsnet/documents/UPDE/Metadata/upde_metadata.xml \n",
       "16     Good                                                                                                                       \n",
       "17     Shifted 0.02 miles                                                                                                         \n",
       "18     Lands                                                                                                                      \n",
       "19     Lands - http://landsnet.nps.gov/tractsnet/documents/SAPA/Metadata/sapa_metadata.xml                                        \n",
       "20     Lands - http://landsnet.nps.gov/tractsnet/documents/FEHA/Metadata/feha_metadata.xml                                        \n",
       "21     Lands - http://landsnet.nps.gov/tractsnet/documents/CACL/Metadata/cacl_metadata.xml                                        \n",
       "22     Good  (copied from Dean's)                                                                                                 \n",
       "23     Lands - http://landsnet.nps.gov/tractsnet/documents/FOUN/Metadata/foun_metadata.xml                                        \n",
       "24     NaN                                                                                                                        \n",
       "25     Lands                                                                                                                      \n",
       "26     Lands - http://landsnet.nps.gov/tractsnet/documents/PIPE/Metadata/pipe_metadata.xml                                        \n",
       "27     Good                                                                                                                       \n",
       "28     Lands                                                                                                                      \n",
       "29     Many small differences, especially east end of main poly                                                                   \n",
       "                                 ...                                                                                              \n",
       "480    POC for this update:  alex_gregg@nps.gov - http://landsnet.nps.gov/tractsnet/documents/COSW/Metadata/cosw_metadata.xml     \n",
       "481    Lands - http://landsnet.nps.gov/tractsnet/documents/SARI/Metadata/sari_metadata.xml                                        \n",
       "482    POC for this update:  dean_gettinger@nps.gov - http://landsnet.nps.gov/tractsnet/documents/VIIS/Metadata/viis_metadata.xml \n",
       "483    POC for this update:  dean_gettinger@nps.gov - http://landsnet.nps.gov/tractsnet/documents/SAJU/Metadata/saju_metadata.xml \n",
       "484    Lands - http://landsnet.nps.gov/tractsnet/documents/AZRU/Metadata/azru_metadata.xml                                        \n",
       "485    Lands - http://landsnet.nps.gov/tractsnet/documents/ABLI/Metadata/abli_metadata.xml                                        \n",
       "486    Lands - http://landsnet.nps.gov/tractsnet/documents/CARI/Metadata/cari_metadata.xml                                        \n",
       "487    Lands - http://landsnet.nps.gov/tractsnet/documents/LABE/Metadata/labe_metadata.xml                                        \n",
       "488    Lands                                                                                                                      \n",
       "489    Lands                                                                                                                      \n",
       "490    Lands                                                                                                                      \n",
       "491    Lands                                                                                                                      \n",
       "492    Lands                                                                                                                      \n",
       "493    Lands                                                                                                                      \n",
       "494    Lands - http://landsnet.nps.gov/tractsnet/documents/CUVA/Metadata/cuva_metadata.xml                                        \n",
       "495    Lands                                                                                                                      \n",
       "496    Lands - http://landsnet.nps.gov/tractsnet/documents/BRCA/Metadata/brca_metadata.xml                                        \n",
       "497    Lands - http://landsnet.nps.gov/tractsnet/documents/WICR/Metadata/wicr_metadata.xml                                        \n",
       "498    Lands - http://landsnet.nps.gov/tractsnet/documents/JODR/Metadata/jodr_metadata.xml                                        \n",
       "499    Lands - http://landsnet.nps.gov/tractsnet/documents/CAVE/Metadata/cave_metadata.xml                                        \n",
       "500    Lands - http://landsnet.nps.gov/tractsnet/documents/KEMO/Metadata/kemo_metadata.xml                                        \n",
       "501    Lands - http://landsnet.nps.gov/tractsnet/documents/HUTR/Metadata/hutr_metadata.xml                                        \n",
       "502    Lands - http://landsnet.nps.gov/tractsnet/documents/DEPO/Metadata/depo_metadata.xml                                        \n",
       "503    Lands - http://landsnet.nps.gov/tractsnet/documents/CHAM/Metadata/cham_metadata.xml                                        \n",
       "504    Lands - http://landsnet.nps.gov/tractsnet/documents/HAVO/Metadata/havo_metadata.xml                                        \n",
       "505    Lands - http://landsnet.nps.gov/tractsnet/documents/KAHO/Metadata/kaho_metadata.xml                                        \n",
       "506    Lands - http://landsnet.nps.gov/tractsnet/documents/CANA/Metadata/cana_metadata.xml                                        \n",
       "507    Lands - http://landsnet.nps.gov/tractsnet/documents/MEVE/Metadata/meve_metadata.xml                                        \n",
       "508    Lands - http://landsnet.nps.gov/tractsnet/documents/VAFO/Metadata/vafo_metadata.xml                                        \n",
       "509    Lands - http://landsnet.nps.gov/tractsnet/documents/CABR/Metadata/cabr_metadata.xml                                        \n",
       "Name: GIS_NOTES, Length: 510, dtype: object"
      ]
     },
     "execution_count": 5,
     "metadata": {},
     "output_type": "execute_result"
    }
   ],
   "source": [
    "nps_boundaries['GIS_NOTES']"
   ]
  },
  {
   "cell_type": "markdown",
   "metadata": {},
   "source": [
    "Clicking on a few of the links leads "
   ]
  },
  {
   "cell_type": "markdown",
   "metadata": {},
   "source": [
    "# Conclusion"
   ]
  },
  {
   "cell_type": "markdown",
   "metadata": {},
   "source": [
    "This was a fruitless endeavor with the exception that I learned how Jupyter can be utilized to tell a good story."
   ]
  }
 ],
 "metadata": {
  "kernelspec": {
   "display_name": "Python 3",
   "language": "python",
   "name": "python3"
  },
  "language_info": {
   "codemirror_mode": {
    "name": "ipython",
    "version": 3
   },
   "file_extension": ".py",
   "mimetype": "text/x-python",
   "name": "python",
   "nbconvert_exporter": "python",
   "pygments_lexer": "ipython3",
   "version": "3.6.5"
  }
 },
 "nbformat": 4,
 "nbformat_minor": 2
}
